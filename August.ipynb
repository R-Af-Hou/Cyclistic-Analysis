{
 "cells": [
  {
   "cell_type": "code",
   "execution_count": 8,
   "id": "45c59909-a73c-4cf2-a3b4-dfd128301964",
   "metadata": {},
   "outputs": [],
   "source": [
    "import pandas as pd"
   ]
  },
  {
   "cell_type": "code",
   "execution_count": 10,
   "id": "223afcf1-25cb-400a-a8fd-3aac4655e24f",
   "metadata": {},
   "outputs": [],
   "source": [
    "df1 = pd.read_csv(\"202408-Cyclistic.csv\")"
   ]
  },
  {
   "cell_type": "code",
   "execution_count": 5,
   "id": "71c4bf04-3245-4dee-94d3-7d98d970251d",
   "metadata": {},
   "outputs": [
    {
     "data": {
      "text/html": [
       "<div>\n",
       "<style scoped>\n",
       "    .dataframe tbody tr th:only-of-type {\n",
       "        vertical-align: middle;\n",
       "    }\n",
       "\n",
       "    .dataframe tbody tr th {\n",
       "        vertical-align: top;\n",
       "    }\n",
       "\n",
       "    .dataframe thead th {\n",
       "        text-align: right;\n",
       "    }\n",
       "</style>\n",
       "<table border=\"1\" class=\"dataframe\">\n",
       "  <thead>\n",
       "    <tr style=\"text-align: right;\">\n",
       "      <th></th>\n",
       "      <th>ride_id</th>\n",
       "      <th>rideable_type</th>\n",
       "      <th>started_at</th>\n",
       "      <th>ended_at</th>\n",
       "      <th>day_of_week</th>\n",
       "      <th>ride_length</th>\n",
       "      <th>start_station_name</th>\n",
       "      <th>start_station_id</th>\n",
       "      <th>end_station_name</th>\n",
       "      <th>end_station_id</th>\n",
       "      <th>start_lat</th>\n",
       "      <th>start_lng</th>\n",
       "      <th>end_lat</th>\n",
       "      <th>end_lng</th>\n",
       "      <th>member_casual</th>\n",
       "      <th>Unnamed: 15</th>\n",
       "    </tr>\n",
       "  </thead>\n",
       "  <tbody>\n",
       "    <tr>\n",
       "      <th>0</th>\n",
       "      <td>028CFFCA5A1E5A25</td>\n",
       "      <td>electric_bike</td>\n",
       "      <td>8/28/24 21:00</td>\n",
       "      <td>8/28/24 21:01</td>\n",
       "      <td>4</td>\n",
       "      <td>31</td>\n",
       "      <td>NaN</td>\n",
       "      <td>NaN</td>\n",
       "      <td>NaN</td>\n",
       "      <td>NaN</td>\n",
       "      <td>41.940000</td>\n",
       "      <td>-87.670000</td>\n",
       "      <td>41.940000</td>\n",
       "      <td>-87.670000</td>\n",
       "      <td>casual</td>\n",
       "      <td>NaN</td>\n",
       "    </tr>\n",
       "    <tr>\n",
       "      <th>1</th>\n",
       "      <td>CAC721832F4A9662</td>\n",
       "      <td>electric_bike</td>\n",
       "      <td>8/2/24 22:27</td>\n",
       "      <td>8/2/24 22:27</td>\n",
       "      <td>6</td>\n",
       "      <td>31</td>\n",
       "      <td>NaN</td>\n",
       "      <td>NaN</td>\n",
       "      <td>NaN</td>\n",
       "      <td>NaN</td>\n",
       "      <td>41.890000</td>\n",
       "      <td>-87.620000</td>\n",
       "      <td>41.890000</td>\n",
       "      <td>-87.620000</td>\n",
       "      <td>casual</td>\n",
       "      <td>NaN</td>\n",
       "    </tr>\n",
       "    <tr>\n",
       "      <th>2</th>\n",
       "      <td>961FFD8AAF513637</td>\n",
       "      <td>electric_bike</td>\n",
       "      <td>8/2/24 21:05</td>\n",
       "      <td>8/2/24 21:05</td>\n",
       "      <td>6</td>\n",
       "      <td>31</td>\n",
       "      <td>NaN</td>\n",
       "      <td>NaN</td>\n",
       "      <td>NaN</td>\n",
       "      <td>NaN</td>\n",
       "      <td>41.900000</td>\n",
       "      <td>-87.670000</td>\n",
       "      <td>41.900000</td>\n",
       "      <td>-87.670000</td>\n",
       "      <td>casual</td>\n",
       "      <td>NaN</td>\n",
       "    </tr>\n",
       "    <tr>\n",
       "      <th>3</th>\n",
       "      <td>8F7FCA6B467EDFE4</td>\n",
       "      <td>electric_bike</td>\n",
       "      <td>8/20/24 18:01</td>\n",
       "      <td>8/20/24 18:02</td>\n",
       "      <td>3</td>\n",
       "      <td>31</td>\n",
       "      <td>NaN</td>\n",
       "      <td>NaN</td>\n",
       "      <td>NaN</td>\n",
       "      <td>NaN</td>\n",
       "      <td>41.880000</td>\n",
       "      <td>-87.640000</td>\n",
       "      <td>41.880000</td>\n",
       "      <td>-87.640000</td>\n",
       "      <td>casual</td>\n",
       "      <td>NaN</td>\n",
       "    </tr>\n",
       "    <tr>\n",
       "      <th>4</th>\n",
       "      <td>F5972062FEB99F17</td>\n",
       "      <td>electric_bike</td>\n",
       "      <td>8/17/24 13:27</td>\n",
       "      <td>8/17/24 13:28</td>\n",
       "      <td>7</td>\n",
       "      <td>31</td>\n",
       "      <td>NaN</td>\n",
       "      <td>NaN</td>\n",
       "      <td>NaN</td>\n",
       "      <td>NaN</td>\n",
       "      <td>41.870000</td>\n",
       "      <td>-87.620000</td>\n",
       "      <td>41.870000</td>\n",
       "      <td>-87.620000</td>\n",
       "      <td>casual</td>\n",
       "      <td>NaN</td>\n",
       "    </tr>\n",
       "    <tr>\n",
       "      <th>5</th>\n",
       "      <td>6E184367F489DAA7</td>\n",
       "      <td>electric_bike</td>\n",
       "      <td>8/17/24 15:01</td>\n",
       "      <td>8/17/24 15:01</td>\n",
       "      <td>7</td>\n",
       "      <td>31</td>\n",
       "      <td>NaN</td>\n",
       "      <td>NaN</td>\n",
       "      <td>NaN</td>\n",
       "      <td>NaN</td>\n",
       "      <td>41.920000</td>\n",
       "      <td>-87.630000</td>\n",
       "      <td>41.920000</td>\n",
       "      <td>-87.630000</td>\n",
       "      <td>casual</td>\n",
       "      <td>NaN</td>\n",
       "    </tr>\n",
       "    <tr>\n",
       "      <th>6</th>\n",
       "      <td>A4C7A3CA21BB4EF4</td>\n",
       "      <td>electric_bike</td>\n",
       "      <td>8/31/24 15:37</td>\n",
       "      <td>8/31/24 15:38</td>\n",
       "      <td>7</td>\n",
       "      <td>31</td>\n",
       "      <td>NaN</td>\n",
       "      <td>NaN</td>\n",
       "      <td>NaN</td>\n",
       "      <td>NaN</td>\n",
       "      <td>41.890000</td>\n",
       "      <td>-87.660000</td>\n",
       "      <td>41.890000</td>\n",
       "      <td>-87.660000</td>\n",
       "      <td>casual</td>\n",
       "      <td>NaN</td>\n",
       "    </tr>\n",
       "    <tr>\n",
       "      <th>7</th>\n",
       "      <td>87718733B5B50C82</td>\n",
       "      <td>electric_bike</td>\n",
       "      <td>8/31/24 12:26</td>\n",
       "      <td>8/31/24 12:27</td>\n",
       "      <td>7</td>\n",
       "      <td>31</td>\n",
       "      <td>DuSable Lake Shore Dr &amp; Monroe St</td>\n",
       "      <td>13300</td>\n",
       "      <td>NaN</td>\n",
       "      <td>NaN</td>\n",
       "      <td>41.880958</td>\n",
       "      <td>-87.616743</td>\n",
       "      <td>41.870000</td>\n",
       "      <td>-87.620000</td>\n",
       "      <td>casual</td>\n",
       "      <td>NaN</td>\n",
       "    </tr>\n",
       "    <tr>\n",
       "      <th>8</th>\n",
       "      <td>F69210B20D64AB0B</td>\n",
       "      <td>electric_bike</td>\n",
       "      <td>8/27/24 14:04</td>\n",
       "      <td>8/27/24 14:05</td>\n",
       "      <td>3</td>\n",
       "      <td>31</td>\n",
       "      <td>900 W Harrison St</td>\n",
       "      <td>13028</td>\n",
       "      <td>NaN</td>\n",
       "      <td>NaN</td>\n",
       "      <td>41.874754</td>\n",
       "      <td>-87.649807</td>\n",
       "      <td>41.870000</td>\n",
       "      <td>-87.650000</td>\n",
       "      <td>member</td>\n",
       "      <td>NaN</td>\n",
       "    </tr>\n",
       "    <tr>\n",
       "      <th>9</th>\n",
       "      <td>D94B6CB25B1FE3D0</td>\n",
       "      <td>electric_bike</td>\n",
       "      <td>8/13/24 7:01</td>\n",
       "      <td>8/13/24 7:01</td>\n",
       "      <td>3</td>\n",
       "      <td>31</td>\n",
       "      <td>Whipple St &amp; Roosevelt Rd</td>\n",
       "      <td>427</td>\n",
       "      <td>Whipple St &amp; Roosevelt Rd</td>\n",
       "      <td>427</td>\n",
       "      <td>41.866554</td>\n",
       "      <td>-87.701329</td>\n",
       "      <td>41.866554</td>\n",
       "      <td>-87.701329</td>\n",
       "      <td>casual</td>\n",
       "      <td>NaN</td>\n",
       "    </tr>\n",
       "  </tbody>\n",
       "</table>\n",
       "</div>"
      ],
      "text/plain": [
       "            ride_id  rideable_type     started_at       ended_at  day_of_week  \\\n",
       "0  028CFFCA5A1E5A25  electric_bike  8/28/24 21:00  8/28/24 21:01            4   \n",
       "1  CAC721832F4A9662  electric_bike   8/2/24 22:27   8/2/24 22:27            6   \n",
       "2  961FFD8AAF513637  electric_bike   8/2/24 21:05   8/2/24 21:05            6   \n",
       "3  8F7FCA6B467EDFE4  electric_bike  8/20/24 18:01  8/20/24 18:02            3   \n",
       "4  F5972062FEB99F17  electric_bike  8/17/24 13:27  8/17/24 13:28            7   \n",
       "5  6E184367F489DAA7  electric_bike  8/17/24 15:01  8/17/24 15:01            7   \n",
       "6  A4C7A3CA21BB4EF4  electric_bike  8/31/24 15:37  8/31/24 15:38            7   \n",
       "7  87718733B5B50C82  electric_bike  8/31/24 12:26  8/31/24 12:27            7   \n",
       "8  F69210B20D64AB0B  electric_bike  8/27/24 14:04  8/27/24 14:05            3   \n",
       "9  D94B6CB25B1FE3D0  electric_bike   8/13/24 7:01   8/13/24 7:01            3   \n",
       "\n",
       "   ride_length                 start_station_name start_station_id  \\\n",
       "0           31                                NaN              NaN   \n",
       "1           31                                NaN              NaN   \n",
       "2           31                                NaN              NaN   \n",
       "3           31                                NaN              NaN   \n",
       "4           31                                NaN              NaN   \n",
       "5           31                                NaN              NaN   \n",
       "6           31                                NaN              NaN   \n",
       "7           31  DuSable Lake Shore Dr & Monroe St            13300   \n",
       "8           31                  900 W Harrison St            13028   \n",
       "9           31          Whipple St & Roosevelt Rd              427   \n",
       "\n",
       "            end_station_name end_station_id  start_lat  start_lng    end_lat  \\\n",
       "0                        NaN            NaN  41.940000 -87.670000  41.940000   \n",
       "1                        NaN            NaN  41.890000 -87.620000  41.890000   \n",
       "2                        NaN            NaN  41.900000 -87.670000  41.900000   \n",
       "3                        NaN            NaN  41.880000 -87.640000  41.880000   \n",
       "4                        NaN            NaN  41.870000 -87.620000  41.870000   \n",
       "5                        NaN            NaN  41.920000 -87.630000  41.920000   \n",
       "6                        NaN            NaN  41.890000 -87.660000  41.890000   \n",
       "7                        NaN            NaN  41.880958 -87.616743  41.870000   \n",
       "8                        NaN            NaN  41.874754 -87.649807  41.870000   \n",
       "9  Whipple St & Roosevelt Rd            427  41.866554 -87.701329  41.866554   \n",
       "\n",
       "     end_lng member_casual  Unnamed: 15  \n",
       "0 -87.670000        casual          NaN  \n",
       "1 -87.620000        casual          NaN  \n",
       "2 -87.670000        casual          NaN  \n",
       "3 -87.640000        casual          NaN  \n",
       "4 -87.620000        casual          NaN  \n",
       "5 -87.630000        casual          NaN  \n",
       "6 -87.660000        casual          NaN  \n",
       "7 -87.620000        casual          NaN  \n",
       "8 -87.650000        member          NaN  \n",
       "9 -87.701329        casual          NaN  "
      ]
     },
     "execution_count": 5,
     "metadata": {},
     "output_type": "execute_result"
    }
   ],
   "source": [
    "df1.head(10)"
   ]
  },
  {
   "cell_type": "code",
   "execution_count": 7,
   "id": "6a2e9d03-8428-47ce-956f-13ab0db1c21e",
   "metadata": {},
   "outputs": [],
   "source": [
    "import matplotlib.pyplot as plt"
   ]
  },
  {
   "cell_type": "code",
   "execution_count": 9,
   "id": "93222706-3c58-4dc0-8231-5994111447f2",
   "metadata": {},
   "outputs": [],
   "source": [
    "df1_weekday_count = df1[['day_of_week','member_casual']].value_counts()"
   ]
  },
  {
   "cell_type": "code",
   "execution_count": 11,
   "id": "fa085a3c-1390-4b17-bdbb-2e6a9a2f5932",
   "metadata": {},
   "outputs": [
    {
     "data": {
      "text/plain": [
       "day_of_week  member_casual\n",
       "7            casual           75401\n",
       "5            member           71618\n",
       "6            member           70669\n",
       "7            member           66727\n",
       "4            member           63563\n",
       "3            member           57225\n",
       "2            member           53135\n",
       "6            casual           52330\n",
       "1            casual           51061\n",
       "             member           49127\n",
       "5            casual           40237\n",
       "4            casual           34021\n",
       "2            casual           29296\n",
       "3            casual           28627\n",
       "Name: count, dtype: int64"
      ]
     },
     "execution_count": 11,
     "metadata": {},
     "output_type": "execute_result"
    }
   ],
   "source": [
    "df1_weekday_count.head(14)"
   ]
  },
  {
   "cell_type": "code",
   "execution_count": 13,
   "id": "89e118e7-4edf-446a-b3eb-95fcb1c7ad0a",
   "metadata": {},
   "outputs": [
    {
     "data": {
      "text/html": [
       "<div>\n",
       "<style scoped>\n",
       "    .dataframe tbody tr th:only-of-type {\n",
       "        vertical-align: middle;\n",
       "    }\n",
       "\n",
       "    .dataframe tbody tr th {\n",
       "        vertical-align: top;\n",
       "    }\n",
       "\n",
       "    .dataframe thead th {\n",
       "        text-align: right;\n",
       "    }\n",
       "</style>\n",
       "<table border=\"1\" class=\"dataframe\">\n",
       "  <thead>\n",
       "    <tr style=\"text-align: right;\">\n",
       "      <th></th>\n",
       "      <th>day_of_week</th>\n",
       "      <th>member_casual</th>\n",
       "      <th>count</th>\n",
       "    </tr>\n",
       "  </thead>\n",
       "  <tbody>\n",
       "    <tr>\n",
       "      <th>0</th>\n",
       "      <td>7</td>\n",
       "      <td>casual</td>\n",
       "      <td>75401</td>\n",
       "    </tr>\n",
       "    <tr>\n",
       "      <th>1</th>\n",
       "      <td>5</td>\n",
       "      <td>member</td>\n",
       "      <td>71618</td>\n",
       "    </tr>\n",
       "    <tr>\n",
       "      <th>2</th>\n",
       "      <td>6</td>\n",
       "      <td>member</td>\n",
       "      <td>70669</td>\n",
       "    </tr>\n",
       "    <tr>\n",
       "      <th>3</th>\n",
       "      <td>7</td>\n",
       "      <td>member</td>\n",
       "      <td>66727</td>\n",
       "    </tr>\n",
       "    <tr>\n",
       "      <th>4</th>\n",
       "      <td>4</td>\n",
       "      <td>member</td>\n",
       "      <td>63563</td>\n",
       "    </tr>\n",
       "    <tr>\n",
       "      <th>5</th>\n",
       "      <td>3</td>\n",
       "      <td>member</td>\n",
       "      <td>57225</td>\n",
       "    </tr>\n",
       "    <tr>\n",
       "      <th>6</th>\n",
       "      <td>2</td>\n",
       "      <td>member</td>\n",
       "      <td>53135</td>\n",
       "    </tr>\n",
       "    <tr>\n",
       "      <th>7</th>\n",
       "      <td>6</td>\n",
       "      <td>casual</td>\n",
       "      <td>52330</td>\n",
       "    </tr>\n",
       "    <tr>\n",
       "      <th>8</th>\n",
       "      <td>1</td>\n",
       "      <td>casual</td>\n",
       "      <td>51061</td>\n",
       "    </tr>\n",
       "    <tr>\n",
       "      <th>9</th>\n",
       "      <td>1</td>\n",
       "      <td>member</td>\n",
       "      <td>49127</td>\n",
       "    </tr>\n",
       "    <tr>\n",
       "      <th>10</th>\n",
       "      <td>5</td>\n",
       "      <td>casual</td>\n",
       "      <td>40237</td>\n",
       "    </tr>\n",
       "    <tr>\n",
       "      <th>11</th>\n",
       "      <td>4</td>\n",
       "      <td>casual</td>\n",
       "      <td>34021</td>\n",
       "    </tr>\n",
       "    <tr>\n",
       "      <th>12</th>\n",
       "      <td>2</td>\n",
       "      <td>casual</td>\n",
       "      <td>29296</td>\n",
       "    </tr>\n",
       "    <tr>\n",
       "      <th>13</th>\n",
       "      <td>3</td>\n",
       "      <td>casual</td>\n",
       "      <td>28627</td>\n",
       "    </tr>\n",
       "  </tbody>\n",
       "</table>\n",
       "</div>"
      ],
      "text/plain": [
       "    day_of_week member_casual  count\n",
       "0             7        casual  75401\n",
       "1             5        member  71618\n",
       "2             6        member  70669\n",
       "3             7        member  66727\n",
       "4             4        member  63563\n",
       "5             3        member  57225\n",
       "6             2        member  53135\n",
       "7             6        casual  52330\n",
       "8             1        casual  51061\n",
       "9             1        member  49127\n",
       "10            5        casual  40237\n",
       "11            4        casual  34021\n",
       "12            2        casual  29296\n",
       "13            3        casual  28627"
      ]
     },
     "execution_count": 13,
     "metadata": {},
     "output_type": "execute_result"
    }
   ],
   "source": [
    "weekday_count_df = df1_weekday_count.reset_index()\n",
    "weekday_count_df.columns = ['day_of_week', 'member_casual' , 'count']\n",
    "weekday_count_df.head(15)"
   ]
  },
  {
   "cell_type": "code",
   "execution_count": 15,
   "id": "69ce453d-7597-4b78-b7f2-632f36185ccc",
   "metadata": {},
   "outputs": [
    {
     "data": {
      "text/html": [
       "<div>\n",
       "<style scoped>\n",
       "    .dataframe tbody tr th:only-of-type {\n",
       "        vertical-align: middle;\n",
       "    }\n",
       "\n",
       "    .dataframe tbody tr th {\n",
       "        vertical-align: top;\n",
       "    }\n",
       "\n",
       "    .dataframe thead th {\n",
       "        text-align: right;\n",
       "    }\n",
       "</style>\n",
       "<table border=\"1\" class=\"dataframe\">\n",
       "  <thead>\n",
       "    <tr style=\"text-align: right;\">\n",
       "      <th>member_casual</th>\n",
       "      <th>casual</th>\n",
       "      <th>member</th>\n",
       "    </tr>\n",
       "    <tr>\n",
       "      <th>day_of_week</th>\n",
       "      <th></th>\n",
       "      <th></th>\n",
       "    </tr>\n",
       "  </thead>\n",
       "  <tbody>\n",
       "    <tr>\n",
       "      <th>1</th>\n",
       "      <td>51061.0</td>\n",
       "      <td>49127.0</td>\n",
       "    </tr>\n",
       "    <tr>\n",
       "      <th>2</th>\n",
       "      <td>29296.0</td>\n",
       "      <td>53135.0</td>\n",
       "    </tr>\n",
       "    <tr>\n",
       "      <th>3</th>\n",
       "      <td>28627.0</td>\n",
       "      <td>57225.0</td>\n",
       "    </tr>\n",
       "    <tr>\n",
       "      <th>4</th>\n",
       "      <td>34021.0</td>\n",
       "      <td>63563.0</td>\n",
       "    </tr>\n",
       "    <tr>\n",
       "      <th>5</th>\n",
       "      <td>40237.0</td>\n",
       "      <td>71618.0</td>\n",
       "    </tr>\n",
       "    <tr>\n",
       "      <th>6</th>\n",
       "      <td>52330.0</td>\n",
       "      <td>70669.0</td>\n",
       "    </tr>\n",
       "    <tr>\n",
       "      <th>7</th>\n",
       "      <td>75401.0</td>\n",
       "      <td>66727.0</td>\n",
       "    </tr>\n",
       "  </tbody>\n",
       "</table>\n",
       "</div>"
      ],
      "text/plain": [
       "member_casual   casual   member\n",
       "day_of_week                    \n",
       "1              51061.0  49127.0\n",
       "2              29296.0  53135.0\n",
       "3              28627.0  57225.0\n",
       "4              34021.0  63563.0\n",
       "5              40237.0  71618.0\n",
       "6              52330.0  70669.0\n",
       "7              75401.0  66727.0"
      ]
     },
     "execution_count": 15,
     "metadata": {},
     "output_type": "execute_result"
    }
   ],
   "source": [
    "pivot_df1 = weekday_count_df.pivot_table(index='day_of_week' , columns='member_casual' , values='count')\n",
    "pivot_df1"
   ]
  },
  {
   "cell_type": "code",
   "execution_count": 17,
   "id": "fbc3ce07-f8b5-4995-9369-972f82add1ce",
   "metadata": {},
   "outputs": [],
   "source": [
    "weekday=['Sunday' , 'Monday' , 'Tuesday' , 'Wednesday' , 'Thursday' , 'Friday' , 'Saturday'] \n",
    "pivot_df1['weekday'] = weekday"
   ]
  },
  {
   "cell_type": "code",
   "execution_count": 19,
   "id": "ebe37e88-bbbb-4cf6-b91f-00a18c2fec3b",
   "metadata": {},
   "outputs": [
    {
     "data": {
      "text/plain": [
       "<Axes: xlabel='weekday'>"
      ]
     },
     "execution_count": 19,
     "metadata": {},
     "output_type": "execute_result"
    },
    {
     "data": {
      "image/png": "[encoded data removed]",
      "text/plain": [
       "<Figure size 640x480 with 1 Axes>"
      ]
     },
     "metadata": {},
     "output_type": "display_data"
    }
   ],
   "source": [
    "pivot_df1.plot(kind='bar' , x='weekday')"
   ]
  },
  {
   "cell_type": "code",
   "execution_count": 21,
   "id": "1caea574-a7da-4627-b59c-90c698287e7e",
   "metadata": {},
   "outputs": [
    {
     "data": {
      "image/png": "[encoded data removed]",
      "text/plain": [
       "<Figure size 640x480 with 2 Axes>"
      ]
     },
     "metadata": {},
     "output_type": "display_data"
    }
   ],
   "source": [
    "df1.hist(column='ride_length', bins=[30,120,300,600,1800,3600,10800,36000], by='member_casual')\n",
    "plt.show()"
   ]
  },
  {
   "cell_type": "code",
   "execution_count": 23,
   "id": "803c5f72-ddf3-4ec9-820a-d42c4f6a443b",
   "metadata": {},
   "outputs": [],
   "source": [
    "df1_weekday_bike_membership = df1[['day_of_week','member_casual' , 'rideable_type']].value_counts()"
   ]
  },
  {
   "cell_type": "code",
   "execution_count": 25,
   "id": "ab1f621e-3d4e-4070-8f6d-edd0e05e719c",
   "metadata": {},
   "outputs": [],
   "source": [
    "weekday_bike_membership = df1_weekday_bike_membership.reset_index()"
   ]
  },
  {
   "cell_type": "code",
   "execution_count": 27,
   "id": "f066e885-a77d-450f-aef7-9b95b2dc06f8",
   "metadata": {},
   "outputs": [],
   "source": [
    "weekday_bike_membership.columns = ['day_of_week' , 'member_casual' , 'rideable_type' , 'count']"
   ]
  },
  {
   "cell_type": "code",
   "execution_count": 29,
   "id": "e3ae7d96-d73c-4c02-a42c-a5a391a794f6",
   "metadata": {},
   "outputs": [],
   "source": [
    "pivot_wbm = weekday_bike_membership.pivot_table(index = 'day_of_week' , columns = ['member_casual' , 'rideable_type'] , values = 'count')"
   ]
  },
  {
   "cell_type": "code",
   "execution_count": 31,
   "id": "ea367204-2db6-40da-884b-aece9896bb97",
   "metadata": {},
   "outputs": [],
   "source": [
    "weekday=['Sunday' , 'Monday' , 'Tuesday' , 'Wednesday' , 'Thursday' , 'Friday' , 'Saturday'] \n",
    "pivot_wbm['weekday'] = weekday"
   ]
  },
  {
   "cell_type": "code",
   "execution_count": 33,
   "id": "b26620bf-134d-4f00-903a-e4240c27c018",
   "metadata": {},
   "outputs": [
    {
     "data": {
      "text/plain": [
       "<Axes: xlabel='weekday'>"
      ]
     },
     "execution_count": 33,
     "metadata": {},
     "output_type": "execute_result"
    },
    {
     "data": {
      "image/png": "[encoded data removed]",
      "text/plain": [
       "<Figure size 640x480 with 1 Axes>"
      ]
     },
     "metadata": {},
     "output_type": "display_data"
    }
   ],
   "source": [
    "pivot_wbm.plot(kind = 'bar' , x='weekday')"
   ]
  },
  {
   "cell_type": "code",
   "execution_count": 14,
   "id": "3ba0f955-c769-4780-8d55-aa96b25c37d0",
   "metadata": {},
   "outputs": [],
   "source": [
    "import folium"
   ]
  },
  {
   "cell_type": "code",
   "execution_count": 15,
   "id": "a50fbcf6-e9db-4bfd-b7c1-b21382142c09",
   "metadata": {},
   "outputs": [],
   "source": [
    "from folium.plugins import HeatMap"
   ]
  },
  {
   "cell_type": "code",
   "execution_count": 39,
   "id": "abe1686e-3e6f-4668-a022-04668f073396",
   "metadata": {},
   "outputs": [],
   "source": [
    "m = folium.Map(location=[42.50 , -82.50] , zoom_start = 5)\n"
   ]
  },
  {
   "cell_type": "code",
   "execution_count": 41,
   "id": "55b21d8d-efdd-4af8-b2c3-bc11cbd7fe9d",
   "metadata": {},
   "outputs": [],
   "source": [
    "member_geo_data = df1[df1['member_casual']=='member']\n",
    "member_geo_data = member_geo_data[['start_lat' , 'start_lng']]"
   ]
  },
  {
   "cell_type": "code",
   "execution_count": 43,
   "id": "e16cd386-2bd2-402c-a052-bb279b892a88",
   "metadata": {},
   "outputs": [
    {
     "data": {
      "text/html": [
       "<div>\n",
       "<style scoped>\n",
       "    .dataframe tbody tr th:only-of-type {\n",
       "        vertical-align: middle;\n",
       "    }\n",
       "\n",
       "    .dataframe tbody tr th {\n",
       "        vertical-align: top;\n",
       "    }\n",
       "\n",
       "    .dataframe thead th {\n",
       "        text-align: right;\n",
       "    }\n",
       "</style>\n",
       "<table border=\"1\" class=\"dataframe\">\n",
       "  <thead>\n",
       "    <tr style=\"text-align: right;\">\n",
       "      <th></th>\n",
       "      <th>start_lat</th>\n",
       "      <th>start_lng</th>\n",
       "    </tr>\n",
       "  </thead>\n",
       "  <tbody>\n",
       "    <tr>\n",
       "      <th>8</th>\n",
       "      <td>41.874754</td>\n",
       "      <td>-87.649807</td>\n",
       "    </tr>\n",
       "    <tr>\n",
       "      <th>10</th>\n",
       "      <td>41.831274</td>\n",
       "      <td>-87.608799</td>\n",
       "    </tr>\n",
       "    <tr>\n",
       "      <th>12</th>\n",
       "      <td>41.918216</td>\n",
       "      <td>-87.656936</td>\n",
       "    </tr>\n",
       "    <tr>\n",
       "      <th>13</th>\n",
       "      <td>41.938330</td>\n",
       "      <td>-87.761660</td>\n",
       "    </tr>\n",
       "    <tr>\n",
       "      <th>14</th>\n",
       "      <td>41.943838</td>\n",
       "      <td>-87.671469</td>\n",
       "    </tr>\n",
       "  </tbody>\n",
       "</table>\n",
       "</div>"
      ],
      "text/plain": [
       "    start_lat  start_lng\n",
       "8   41.874754 -87.649807\n",
       "10  41.831274 -87.608799\n",
       "12  41.918216 -87.656936\n",
       "13  41.938330 -87.761660\n",
       "14  41.943838 -87.671469"
      ]
     },
     "execution_count": 43,
     "metadata": {},
     "output_type": "execute_result"
    }
   ],
   "source": [
    "member_geo_data.head()"
   ]
  },
  {
   "cell_type": "code",
   "execution_count": 45,
   "id": "f13bfd9f-ef7f-4e05-96f0-00ab0af47d42",
   "metadata": {},
   "outputs": [
    {
     "data": {
      "text/plain": [
       "<folium.plugins.heat_map.HeatMap at 0x1605abb30>"
      ]
     },
     "execution_count": 45,
     "metadata": {},
     "output_type": "execute_result"
    }
   ],
   "source": [
    "HeatMap(member_geo_data).add_to(m)"
   ]
  },
  {
   "cell_type": "code",
   "execution_count": 47,
   "id": "b1ac69e0-3519-48b2-90f6-65955b8095c2",
   "metadata": {},
   "outputs": [],
   "source": [
    "m.save('heatmapmember-August.html')"
   ]
  },
  {
   "cell_type": "code",
   "execution_count": 49,
   "id": "da235dc3-7e50-4dd1-aacb-1e9403780d24",
   "metadata": {},
   "outputs": [],
   "source": [
    "casual_geo_data = df1[df1['member_casual']=='casual']\n",
    "casual_geo_route = casual_geo_data[['start_lat' , 'start_lng' , 'end_lat' , 'end_lng']]\n",
    "casual_geo_data = casual_geo_data[['start_lat' , 'start_lng']]"
   ]
  },
  {
   "cell_type": "code",
   "execution_count": 51,
   "id": "50f02fff-b5ba-41f5-905d-e6abf83d1531",
   "metadata": {
    "jupyter": {
     "source_hidden": true
    }
   },
   "outputs": [],
   "source": [
    "m1 = folium.Map(location=[42.50 , -82.50] , zoom_start = 5)"
   ]
  },
  {
   "cell_type": "code",
   "execution_count": 53,
   "id": "ef6fab65-d90a-4355-829c-d3ee2e7a8a5f",
   "metadata": {},
   "outputs": [
    {
     "data": {
      "text/plain": [
       "<folium.plugins.heat_map.HeatMap at 0x1605a8620>"
      ]
     },
     "execution_count": 53,
     "metadata": {},
     "output_type": "execute_result"
    }
   ],
   "source": [
    "HeatMap(casual_geo_data).add_to(m1)"
   ]
  },
  {
   "cell_type": "code",
   "execution_count": 55,
   "id": "af18aa66-cd3c-48e8-a2f4-1baf08813e5f",
   "metadata": {},
   "outputs": [],
   "source": [
    "m1.save('heatmapcasual-August.html')"
   ]
  },
  {
   "cell_type": "code",
   "execution_count": 18,
   "id": "2155cd78-6326-40e3-993f-254a7d4724fc",
   "metadata": {},
   "outputs": [],
   "source": [
    "m2 = folium.Map(location=[42.50 , -82.50] , zoom_start = 5)"
   ]
  },
  {
   "cell_type": "code",
   "execution_count": 59,
   "id": "e8a39381-2837-4eea-952b-2eb9cd38c1de",
   "metadata": {
    "scrolled": true
   },
   "outputs": [
    {
     "data": {
      "text/html": [
       "<div>\n",
       "<style scoped>\n",
       "    .dataframe tbody tr th:only-of-type {\n",
       "        vertical-align: middle;\n",
       "    }\n",
       "\n",
       "    .dataframe tbody tr th {\n",
       "        vertical-align: top;\n",
       "    }\n",
       "\n",
       "    .dataframe thead th {\n",
       "        text-align: right;\n",
       "    }\n",
       "</style>\n",
       "<table border=\"1\" class=\"dataframe\">\n",
       "  <thead>\n",
       "    <tr style=\"text-align: right;\">\n",
       "      <th></th>\n",
       "      <th>start_lat</th>\n",
       "      <th>start_lng</th>\n",
       "      <th>end_lat</th>\n",
       "      <th>end_lng</th>\n",
       "    </tr>\n",
       "  </thead>\n",
       "  <tbody>\n",
       "    <tr>\n",
       "      <th>0</th>\n",
       "      <td>41.94</td>\n",
       "      <td>-87.67</td>\n",
       "      <td>41.94</td>\n",
       "      <td>-87.67</td>\n",
       "    </tr>\n",
       "    <tr>\n",
       "      <th>1</th>\n",
       "      <td>41.89</td>\n",
       "      <td>-87.62</td>\n",
       "      <td>41.89</td>\n",
       "      <td>-87.62</td>\n",
       "    </tr>\n",
       "    <tr>\n",
       "      <th>2</th>\n",
       "      <td>41.90</td>\n",
       "      <td>-87.67</td>\n",
       "      <td>41.90</td>\n",
       "      <td>-87.67</td>\n",
       "    </tr>\n",
       "    <tr>\n",
       "      <th>3</th>\n",
       "      <td>41.88</td>\n",
       "      <td>-87.64</td>\n",
       "      <td>41.88</td>\n",
       "      <td>-87.64</td>\n",
       "    </tr>\n",
       "    <tr>\n",
       "      <th>4</th>\n",
       "      <td>41.87</td>\n",
       "      <td>-87.62</td>\n",
       "      <td>41.87</td>\n",
       "      <td>-87.62</td>\n",
       "    </tr>\n",
       "  </tbody>\n",
       "</table>\n",
       "</div>"
      ],
      "text/plain": [
       "   start_lat  start_lng  end_lat  end_lng\n",
       "0      41.94     -87.67    41.94   -87.67\n",
       "1      41.89     -87.62    41.89   -87.62\n",
       "2      41.90     -87.67    41.90   -87.67\n",
       "3      41.88     -87.64    41.88   -87.64\n",
       "4      41.87     -87.62    41.87   -87.62"
      ]
     },
     "execution_count": 59,
     "metadata": {},
     "output_type": "execute_result"
    }
   ],
   "source": [
    "casual_geo_route.head()"
   ]
  },
  {
   "cell_type": "code",
   "execution_count": 61,
   "id": "ccd25a61-f375-4f81-90ba-25271b76026d",
   "metadata": {},
   "outputs": [],
   "source": [
    "casual_geo_route = casual_geo_route.dropna()\n",
    "for index in casual_geo_route.index:\n",
    "    route = [[casual_geo_route.loc[index, 'start_lat'] ,casual_geo_route.loc[index,'start_lng']] , [casual_geo_route.loc[index,'end_lat'], casual_geo_route.loc[index,'end_lng']]] \n",
    "    folium.PolyLine(locations = route , color='blue' , weight=0.5 , opacity = 0.4).add_to(m2)"
   ]
  },
  {
   "cell_type": "code",
   "execution_count": 62,
   "id": "f16c61ee-0df4-4928-9db4-094c6edf4ba3",
   "metadata": {},
   "outputs": [],
   "source": [
    "m2.save('routesCasual-August.html')"
   ]
  },
  {
   "cell_type": "code",
   "execution_count": 12,
   "id": "1739e920-06e4-4ef0-932d-9e91057702bd",
   "metadata": {},
   "outputs": [],
   "source": [
    "member_geo_data = df1[df1['member_casual']=='member']\n",
    "member_geo_route = member_geo_data[['start_lat' , 'start_lng' , 'end_lat' , 'end_lng']]"
   ]
  },
  {
   "cell_type": "code",
   "execution_count": 20,
   "id": "ec4b52b4-2374-46d6-bc4f-293957b4136b",
   "metadata": {},
   "outputs": [],
   "source": [
    "m3 = folium.Map(location=[42.50 , -82.50] , zoom_start = 10)"
   ]
  },
  {
   "cell_type": "code",
   "execution_count": 22,
   "id": "80ff16e4-c354-4061-b288-4b694417d7d3",
   "metadata": {},
   "outputs": [],
   "source": [
    "member_geo_route = member_geo_route.dropna()\n",
    "for index in member_geo_route.index:\n",
    "    route = [[member_geo_route.loc[index, 'start_lat'] ,member_geo_route.loc[index,'start_lng']] , [member_geo_route.loc[index,'end_lat'], member_geo_route.loc[index,'end_lng']]] \n",
    "    folium.PolyLine(locations = route , color='blue' , weight=0.5 , opacity = 0.4).add_to(m3)"
   ]
  },
  {
   "cell_type": "code",
   "execution_count": 24,
   "id": "ff45b47f-dc9a-46ff-b728-867dbe607dca",
   "metadata": {},
   "outputs": [],
   "source": [
    "m3.save('routesMember-August.html')"
   ]
  },
  {
   "cell_type": "code",
   "execution_count": null,
   "id": "5a0d35ee-324c-44cb-98bd-91919210d699",
   "metadata": {},
   "outputs": [],
   "source": []
  }
 ],
 "metadata": {
  "kernelspec": {
   "display_name": "Python [conda env:base] *",
   "language": "python",
   "name": "conda-base-py"
  },
  "language_info": {
   "codemirror_mode": {
    "name": "ipython",
    "version": 3
   },
   "file_extension": ".py",
   "mimetype": "text/x-python",
   "name": "python",
   "nbconvert_exporter": "python",
   "pygments_lexer": "ipython3",
   "version": "3.12.2"
  }
 },
 "nbformat": 4,
 "nbformat_minor": 5
}
