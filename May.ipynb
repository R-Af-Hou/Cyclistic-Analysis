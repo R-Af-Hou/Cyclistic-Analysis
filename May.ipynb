{
 "cells": [
  {
   "cell_type": "code",
   "execution_count": 1,
   "id": "c9929a30-eec6-4bb9-a8ac-b34501ed148a",
   "metadata": {},
   "outputs": [],
   "source": [
    "import pandas as pd"
   ]
  },
  {
   "cell_type": "code",
   "execution_count": 3,
   "id": "86a2d689-4562-4a2a-9cd5-7b7d4003dfe4",
   "metadata": {},
   "outputs": [],
   "source": [
    "df1 = pd.read_csv(\"202405-Cyclistic.csv\")"
   ]
  },
  {
   "cell_type": "code",
   "execution_count": 5,
   "id": "ccf8a3c0-6d63-4ab6-83c9-7b7604ca8f2e",
   "metadata": {
    "jupyter": {
     "source_hidden": true
    }
   },
   "outputs": [
    {
     "data": {
      "text/html": [
       "<div>\n",
       "<style scoped>\n",
       "    .dataframe tbody tr th:only-of-type {\n",
       "        vertical-align: middle;\n",
       "    }\n",
       "\n",
       "    .dataframe tbody tr th {\n",
       "        vertical-align: top;\n",
       "    }\n",
       "\n",
       "    .dataframe thead th {\n",
       "        text-align: right;\n",
       "    }\n",
       "</style>\n",
       "<table border=\"1\" class=\"dataframe\">\n",
       "  <thead>\n",
       "    <tr style=\"text-align: right;\">\n",
       "      <th></th>\n",
       "      <th>ride_id</th>\n",
       "      <th>rideable_type</th>\n",
       "      <th>started_at</th>\n",
       "      <th>ended_at</th>\n",
       "      <th>day_of_week</th>\n",
       "      <th>ride_length</th>\n",
       "      <th>start_station_name</th>\n",
       "      <th>start_station_id</th>\n",
       "      <th>end_station_name</th>\n",
       "      <th>end_station_id</th>\n",
       "      <th>start_lat</th>\n",
       "      <th>start_lng</th>\n",
       "      <th>end_lat</th>\n",
       "      <th>end_lng</th>\n",
       "      <th>member_casual</th>\n",
       "      <th>Unnamed: 15</th>\n",
       "    </tr>\n",
       "  </thead>\n",
       "  <tbody>\n",
       "    <tr>\n",
       "      <th>0</th>\n",
       "      <td>D995CE0A085D41F5</td>\n",
       "      <td>classic_bike</td>\n",
       "      <td>5/28/24 8:26</td>\n",
       "      <td>5/28/24 8:26</td>\n",
       "      <td>3</td>\n",
       "      <td>31</td>\n",
       "      <td>Southport Ave &amp; Irving Park Rd</td>\n",
       "      <td>TA1309000043</td>\n",
       "      <td>Southport Ave &amp; Irving Park Rd</td>\n",
       "      <td>TA1309000043</td>\n",
       "      <td>41.954177</td>\n",
       "      <td>-87.664358</td>\n",
       "      <td>41.954177</td>\n",
       "      <td>-87.664358</td>\n",
       "      <td>member</td>\n",
       "      <td>NaN</td>\n",
       "    </tr>\n",
       "    <tr>\n",
       "      <th>1</th>\n",
       "      <td>72CDF1E20D1D75E4</td>\n",
       "      <td>electric_bike</td>\n",
       "      <td>5/31/24 14:44</td>\n",
       "      <td>5/31/24 14:45</td>\n",
       "      <td>6</td>\n",
       "      <td>31</td>\n",
       "      <td>Southport Ave &amp; Roscoe St</td>\n",
       "      <td>13071</td>\n",
       "      <td>N Southport Ave &amp; W Newport Ave</td>\n",
       "      <td>20257</td>\n",
       "      <td>41.943700</td>\n",
       "      <td>-87.664074</td>\n",
       "      <td>41.944019</td>\n",
       "      <td>-87.663975</td>\n",
       "      <td>casual</td>\n",
       "      <td>NaN</td>\n",
       "    </tr>\n",
       "    <tr>\n",
       "      <th>2</th>\n",
       "      <td>1A3E74B710F87102</td>\n",
       "      <td>classic_bike</td>\n",
       "      <td>5/1/24 15:53</td>\n",
       "      <td>5/1/24 15:54</td>\n",
       "      <td>4</td>\n",
       "      <td>31</td>\n",
       "      <td>Cherry Ave &amp; Blackhawk St</td>\n",
       "      <td>18069</td>\n",
       "      <td>Cherry Ave &amp; Blackhawk St</td>\n",
       "      <td>18069</td>\n",
       "      <td>41.907221</td>\n",
       "      <td>-87.655618</td>\n",
       "      <td>41.907221</td>\n",
       "      <td>-87.655618</td>\n",
       "      <td>member</td>\n",
       "      <td>NaN</td>\n",
       "    </tr>\n",
       "    <tr>\n",
       "      <th>3</th>\n",
       "      <td>4FC3BE12A4608225</td>\n",
       "      <td>electric_bike</td>\n",
       "      <td>5/15/24 13:51</td>\n",
       "      <td>5/15/24 13:52</td>\n",
       "      <td>4</td>\n",
       "      <td>31</td>\n",
       "      <td>Kingsbury St &amp; Kinzie St</td>\n",
       "      <td>KA1503000043</td>\n",
       "      <td>Kingsbury St &amp; Kinzie St</td>\n",
       "      <td>KA1503000043</td>\n",
       "      <td>41.889166</td>\n",
       "      <td>-87.638472</td>\n",
       "      <td>41.889177</td>\n",
       "      <td>-87.638506</td>\n",
       "      <td>casual</td>\n",
       "      <td>NaN</td>\n",
       "    </tr>\n",
       "    <tr>\n",
       "      <th>4</th>\n",
       "      <td>1F15FB742DE49410</td>\n",
       "      <td>classic_bike</td>\n",
       "      <td>5/23/24 16:59</td>\n",
       "      <td>5/23/24 16:59</td>\n",
       "      <td>5</td>\n",
       "      <td>31</td>\n",
       "      <td>State St &amp; Randolph St</td>\n",
       "      <td>TA1305000029</td>\n",
       "      <td>State St &amp; Randolph St</td>\n",
       "      <td>TA1305000029</td>\n",
       "      <td>41.884621</td>\n",
       "      <td>-87.627834</td>\n",
       "      <td>41.884621</td>\n",
       "      <td>-87.627834</td>\n",
       "      <td>casual</td>\n",
       "      <td>NaN</td>\n",
       "    </tr>\n",
       "  </tbody>\n",
       "</table>\n",
       "</div>"
      ],
      "text/plain": [
       "            ride_id  rideable_type     started_at       ended_at  day_of_week  \\\n",
       "0  D995CE0A085D41F5   classic_bike   5/28/24 8:26   5/28/24 8:26            3   \n",
       "1  72CDF1E20D1D75E4  electric_bike  5/31/24 14:44  5/31/24 14:45            6   \n",
       "2  1A3E74B710F87102   classic_bike   5/1/24 15:53   5/1/24 15:54            4   \n",
       "3  4FC3BE12A4608225  electric_bike  5/15/24 13:51  5/15/24 13:52            4   \n",
       "4  1F15FB742DE49410   classic_bike  5/23/24 16:59  5/23/24 16:59            5   \n",
       "\n",
       "   ride_length              start_station_name start_station_id  \\\n",
       "0           31  Southport Ave & Irving Park Rd     TA1309000043   \n",
       "1           31       Southport Ave & Roscoe St            13071   \n",
       "2           31       Cherry Ave & Blackhawk St            18069   \n",
       "3           31        Kingsbury St & Kinzie St     KA1503000043   \n",
       "4           31          State St & Randolph St     TA1305000029   \n",
       "\n",
       "                  end_station_name end_station_id  start_lat  start_lng  \\\n",
       "0   Southport Ave & Irving Park Rd   TA1309000043  41.954177 -87.664358   \n",
       "1  N Southport Ave & W Newport Ave          20257  41.943700 -87.664074   \n",
       "2        Cherry Ave & Blackhawk St          18069  41.907221 -87.655618   \n",
       "3         Kingsbury St & Kinzie St   KA1503000043  41.889166 -87.638472   \n",
       "4           State St & Randolph St   TA1305000029  41.884621 -87.627834   \n",
       "\n",
       "     end_lat    end_lng member_casual  Unnamed: 15  \n",
       "0  41.954177 -87.664358        member          NaN  \n",
       "1  41.944019 -87.663975        casual          NaN  \n",
       "2  41.907221 -87.655618        member          NaN  \n",
       "3  41.889177 -87.638506        casual          NaN  \n",
       "4  41.884621 -87.627834        casual          NaN  "
      ]
     },
     "execution_count": 5,
     "metadata": {},
     "output_type": "execute_result"
    }
   ],
   "source": [
    "df1.head()"
   ]
  },
  {
   "cell_type": "code",
   "execution_count": 7,
   "id": "1911a036-8876-4aff-be83-b08c26a96891",
   "metadata": {},
   "outputs": [],
   "source": [
    "import matplotlib.pyplot as plt"
   ]
  },
  {
   "cell_type": "code",
   "execution_count": 9,
   "id": "cf33f3db-162c-46a0-b58d-3fc4fb79609d",
   "metadata": {},
   "outputs": [],
   "source": [
    "df1_weekday_count = df1[['day_of_week','member_casual']].value_counts()"
   ]
  },
  {
   "cell_type": "code",
   "execution_count": 11,
   "id": "ea911a82-47e7-46cd-8e35-0d904c13a7f9",
   "metadata": {},
   "outputs": [
    {
     "data": {
      "text/plain": [
       "day_of_week  member_casual\n",
       "4            member           72146\n",
       "6            member           63031\n",
       "5            member           61114\n",
       "7            casual           49374\n",
       "             member           49358\n",
       "3            member           47124\n",
       "2            member           42530\n",
       "6            casual           38706\n",
       "1            member           37305\n",
       "             casual           33765\n",
       "4            casual           32834\n",
       "5            casual           28193\n",
       "2            casual           23780\n",
       "3            casual           19421\n",
       "Name: count, dtype: int64"
      ]
     },
     "execution_count": 11,
     "metadata": {},
     "output_type": "execute_result"
    }
   ],
   "source": [
    "df1_weekday_count.head(14)"
   ]
  },
  {
   "cell_type": "code",
   "execution_count": 13,
   "id": "5646a481-172f-4a84-be67-d46a0ddcc811",
   "metadata": {},
   "outputs": [
    {
     "data": {
      "text/html": [
       "<div>\n",
       "<style scoped>\n",
       "    .dataframe tbody tr th:only-of-type {\n",
       "        vertical-align: middle;\n",
       "    }\n",
       "\n",
       "    .dataframe tbody tr th {\n",
       "        vertical-align: top;\n",
       "    }\n",
       "\n",
       "    .dataframe thead th {\n",
       "        text-align: right;\n",
       "    }\n",
       "</style>\n",
       "<table border=\"1\" class=\"dataframe\">\n",
       "  <thead>\n",
       "    <tr style=\"text-align: right;\">\n",
       "      <th></th>\n",
       "      <th>day_of_week</th>\n",
       "      <th>member_casual</th>\n",
       "      <th>count</th>\n",
       "    </tr>\n",
       "  </thead>\n",
       "  <tbody>\n",
       "    <tr>\n",
       "      <th>0</th>\n",
       "      <td>4</td>\n",
       "      <td>member</td>\n",
       "      <td>72146</td>\n",
       "    </tr>\n",
       "    <tr>\n",
       "      <th>1</th>\n",
       "      <td>6</td>\n",
       "      <td>member</td>\n",
       "      <td>63031</td>\n",
       "    </tr>\n",
       "    <tr>\n",
       "      <th>2</th>\n",
       "      <td>5</td>\n",
       "      <td>member</td>\n",
       "      <td>61114</td>\n",
       "    </tr>\n",
       "    <tr>\n",
       "      <th>3</th>\n",
       "      <td>7</td>\n",
       "      <td>casual</td>\n",
       "      <td>49374</td>\n",
       "    </tr>\n",
       "    <tr>\n",
       "      <th>4</th>\n",
       "      <td>7</td>\n",
       "      <td>member</td>\n",
       "      <td>49358</td>\n",
       "    </tr>\n",
       "    <tr>\n",
       "      <th>5</th>\n",
       "      <td>3</td>\n",
       "      <td>member</td>\n",
       "      <td>47124</td>\n",
       "    </tr>\n",
       "    <tr>\n",
       "      <th>6</th>\n",
       "      <td>2</td>\n",
       "      <td>member</td>\n",
       "      <td>42530</td>\n",
       "    </tr>\n",
       "    <tr>\n",
       "      <th>7</th>\n",
       "      <td>6</td>\n",
       "      <td>casual</td>\n",
       "      <td>38706</td>\n",
       "    </tr>\n",
       "    <tr>\n",
       "      <th>8</th>\n",
       "      <td>1</td>\n",
       "      <td>member</td>\n",
       "      <td>37305</td>\n",
       "    </tr>\n",
       "    <tr>\n",
       "      <th>9</th>\n",
       "      <td>1</td>\n",
       "      <td>casual</td>\n",
       "      <td>33765</td>\n",
       "    </tr>\n",
       "    <tr>\n",
       "      <th>10</th>\n",
       "      <td>4</td>\n",
       "      <td>casual</td>\n",
       "      <td>32834</td>\n",
       "    </tr>\n",
       "    <tr>\n",
       "      <th>11</th>\n",
       "      <td>5</td>\n",
       "      <td>casual</td>\n",
       "      <td>28193</td>\n",
       "    </tr>\n",
       "    <tr>\n",
       "      <th>12</th>\n",
       "      <td>2</td>\n",
       "      <td>casual</td>\n",
       "      <td>23780</td>\n",
       "    </tr>\n",
       "    <tr>\n",
       "      <th>13</th>\n",
       "      <td>3</td>\n",
       "      <td>casual</td>\n",
       "      <td>19421</td>\n",
       "    </tr>\n",
       "  </tbody>\n",
       "</table>\n",
       "</div>"
      ],
      "text/plain": [
       "    day_of_week member_casual  count\n",
       "0             4        member  72146\n",
       "1             6        member  63031\n",
       "2             5        member  61114\n",
       "3             7        casual  49374\n",
       "4             7        member  49358\n",
       "5             3        member  47124\n",
       "6             2        member  42530\n",
       "7             6        casual  38706\n",
       "8             1        member  37305\n",
       "9             1        casual  33765\n",
       "10            4        casual  32834\n",
       "11            5        casual  28193\n",
       "12            2        casual  23780\n",
       "13            3        casual  19421"
      ]
     },
     "execution_count": 13,
     "metadata": {},
     "output_type": "execute_result"
    }
   ],
   "source": [
    "weekday_count_df = df1_weekday_count.reset_index()\n",
    "weekday_count_df.columns = ['day_of_week', 'member_casual' , 'count']\n",
    "weekday_count_df.head(15)"
   ]
  },
  {
   "cell_type": "code",
   "execution_count": 15,
   "id": "e7e88679-ce07-4aa9-b306-0feb120a26ab",
   "metadata": {},
   "outputs": [
    {
     "data": {
      "text/html": [
       "<div>\n",
       "<style scoped>\n",
       "    .dataframe tbody tr th:only-of-type {\n",
       "        vertical-align: middle;\n",
       "    }\n",
       "\n",
       "    .dataframe tbody tr th {\n",
       "        vertical-align: top;\n",
       "    }\n",
       "\n",
       "    .dataframe thead th {\n",
       "        text-align: right;\n",
       "    }\n",
       "</style>\n",
       "<table border=\"1\" class=\"dataframe\">\n",
       "  <thead>\n",
       "    <tr style=\"text-align: right;\">\n",
       "      <th>member_casual</th>\n",
       "      <th>casual</th>\n",
       "      <th>member</th>\n",
       "    </tr>\n",
       "    <tr>\n",
       "      <th>day_of_week</th>\n",
       "      <th></th>\n",
       "      <th></th>\n",
       "    </tr>\n",
       "  </thead>\n",
       "  <tbody>\n",
       "    <tr>\n",
       "      <th>1</th>\n",
       "      <td>33765.0</td>\n",
       "      <td>37305.0</td>\n",
       "    </tr>\n",
       "    <tr>\n",
       "      <th>2</th>\n",
       "      <td>23780.0</td>\n",
       "      <td>42530.0</td>\n",
       "    </tr>\n",
       "    <tr>\n",
       "      <th>3</th>\n",
       "      <td>19421.0</td>\n",
       "      <td>47124.0</td>\n",
       "    </tr>\n",
       "    <tr>\n",
       "      <th>4</th>\n",
       "      <td>32834.0</td>\n",
       "      <td>72146.0</td>\n",
       "    </tr>\n",
       "    <tr>\n",
       "      <th>5</th>\n",
       "      <td>28193.0</td>\n",
       "      <td>61114.0</td>\n",
       "    </tr>\n",
       "    <tr>\n",
       "      <th>6</th>\n",
       "      <td>38706.0</td>\n",
       "      <td>63031.0</td>\n",
       "    </tr>\n",
       "    <tr>\n",
       "      <th>7</th>\n",
       "      <td>49374.0</td>\n",
       "      <td>49358.0</td>\n",
       "    </tr>\n",
       "  </tbody>\n",
       "</table>\n",
       "</div>"
      ],
      "text/plain": [
       "member_casual   casual   member\n",
       "day_of_week                    \n",
       "1              33765.0  37305.0\n",
       "2              23780.0  42530.0\n",
       "3              19421.0  47124.0\n",
       "4              32834.0  72146.0\n",
       "5              28193.0  61114.0\n",
       "6              38706.0  63031.0\n",
       "7              49374.0  49358.0"
      ]
     },
     "execution_count": 15,
     "metadata": {},
     "output_type": "execute_result"
    }
   ],
   "source": [
    "pivot_df1 = weekday_count_df.pivot_table(index='day_of_week' , columns='member_casual' , values='count')\n",
    "pivot_df1"
   ]
  },
  {
   "cell_type": "code",
   "execution_count": 17,
   "id": "72ccf3a1-363e-46c2-8cbb-c9ed21f332ed",
   "metadata": {},
   "outputs": [],
   "source": [
    "weekday=['Sunday' , 'Monday' , 'Tuesday' , 'Wednesday' , 'Thursday' , 'Friday' , 'Saturday'] \n",
    "pivot_df1['weekday'] = weekday"
   ]
  },
  {
   "cell_type": "code",
   "execution_count": 19,
   "id": "1f9781ad-d318-437d-936d-53d5dbf0bc54",
   "metadata": {},
   "outputs": [
    {
     "data": {
      "text/plain": [
       "<Axes: xlabel='weekday'>"
      ]
     },
     "execution_count": 19,
     "metadata": {},
     "output_type": "execute_result"
    },
    {
     "data": {
      "image/png": "[encoded data removed]",
      "text/plain": [
       "<Figure size 640x480 with 1 Axes>"
      ]
     },
     "metadata": {},
     "output_type": "display_data"
    }
   ],
   "source": [
    "pivot_df1.plot(kind='bar' , x='weekday')"
   ]
  },
  {
   "cell_type": "code",
   "execution_count": 21,
   "id": "f7487e4c-ac74-4867-a96e-2cd924788f59",
   "metadata": {},
   "outputs": [
    {
     "data": {
      "image/png": "[encoded data removed]",
      "text/plain": [
       "<Figure size 640x480 with 2 Axes>"
      ]
     },
     "metadata": {},
     "output_type": "display_data"
    }
   ],
   "source": [
    "df1.hist(column='ride_length', bins=[30,120,300,600,1800,3600,10800,36000], by='member_casual')\n",
    "plt.show()"
   ]
  },
  {
   "cell_type": "code",
   "execution_count": 23,
   "id": "23959c86-36a4-45c7-96d1-c79155e03cf1",
   "metadata": {},
   "outputs": [],
   "source": [
    "df1_weekday_bike_membership = df1[['day_of_week','member_casual' , 'rideable_type']].value_counts()"
   ]
  },
  {
   "cell_type": "code",
   "execution_count": 25,
   "id": "472b50fa-3e15-4663-aaa6-cbe692a26aca",
   "metadata": {},
   "outputs": [],
   "source": [
    "weekday_bike_membership = df1_weekday_bike_membership.reset_index()"
   ]
  },
  {
   "cell_type": "code",
   "execution_count": 27,
   "id": "e24ce8e4-4342-4050-a5da-cb63e0b5a387",
   "metadata": {},
   "outputs": [],
   "source": [
    "weekday_bike_membership.columns = ['day_of_week' , 'member_casual' , 'rideable_type' , 'count']"
   ]
  },
  {
   "cell_type": "code",
   "execution_count": 29,
   "id": "14d2034d-192a-4971-85f6-8d2e7ffd1c0c",
   "metadata": {},
   "outputs": [],
   "source": [
    "pivot_wbm = weekday_bike_membership.pivot_table(index = 'day_of_week' , columns = ['member_casual' , 'rideable_type'] , values = 'count')"
   ]
  },
  {
   "cell_type": "code",
   "execution_count": 31,
   "id": "57503e4e-0c45-4173-a669-cd895df06bfb",
   "metadata": {},
   "outputs": [],
   "source": [
    "weekday=['Sunday' , 'Monday' , 'Tuesday' , 'Wednesday' , 'Thursday' , 'Friday' , 'Saturday'] \n",
    "pivot_wbm['weekday'] = weekday"
   ]
  },
  {
   "cell_type": "code",
   "execution_count": 33,
   "id": "c9f679e9-2eda-4d88-a969-b93272db4ad7",
   "metadata": {},
   "outputs": [
    {
     "data": {
      "text/plain": [
       "<Axes: xlabel='weekday'>"
      ]
     },
     "execution_count": 33,
     "metadata": {},
     "output_type": "execute_result"
    },
    {
     "data": {
      "image/png": "[encoded data removed]",
      "text/plain": [
       "<Figure size 640x480 with 1 Axes>"
      ]
     },
     "metadata": {},
     "output_type": "display_data"
    }
   ],
   "source": [
    "pivot_wbm.plot(kind = 'bar' , x='weekday')"
   ]
  },
  {
   "cell_type": "code",
   "execution_count": 35,
   "id": "cdf042e8-a823-4b74-9899-41874e0a167f",
   "metadata": {},
   "outputs": [],
   "source": [
    "import folium"
   ]
  },
  {
   "cell_type": "code",
   "execution_count": 37,
   "id": "a753f7b4-c5a1-4d05-b823-0478e8cc8329",
   "metadata": {},
   "outputs": [],
   "source": [
    "from folium.plugins import HeatMap"
   ]
  },
  {
   "cell_type": "code",
   "execution_count": 39,
   "id": "b87a68c1-626e-4e0c-9556-75e8a89b5a8a",
   "metadata": {},
   "outputs": [],
   "source": [
    "m = folium.Map(location=[42.50 , -82.50] , zoom_start = 5)\n"
   ]
  },
  {
   "cell_type": "code",
   "execution_count": 41,
   "id": "db0b839d-f657-46f6-8955-a3340e785f88",
   "metadata": {},
   "outputs": [],
   "source": [
    "member_geo_data = df1[df1['member_casual']=='member']\n",
    "member_geo_data = member_geo_data[['start_lat' , 'start_lng']]"
   ]
  },
  {
   "cell_type": "code",
   "execution_count": 43,
   "id": "42b1c8e1-da6d-47d3-8d88-6ff0bd3406a8",
   "metadata": {},
   "outputs": [
    {
     "data": {
      "text/html": [
       "<div>\n",
       "<style scoped>\n",
       "    .dataframe tbody tr th:only-of-type {\n",
       "        vertical-align: middle;\n",
       "    }\n",
       "\n",
       "    .dataframe tbody tr th {\n",
       "        vertical-align: top;\n",
       "    }\n",
       "\n",
       "    .dataframe thead th {\n",
       "        text-align: right;\n",
       "    }\n",
       "</style>\n",
       "<table border=\"1\" class=\"dataframe\">\n",
       "  <thead>\n",
       "    <tr style=\"text-align: right;\">\n",
       "      <th></th>\n",
       "      <th>start_lat</th>\n",
       "      <th>start_lng</th>\n",
       "    </tr>\n",
       "  </thead>\n",
       "  <tbody>\n",
       "    <tr>\n",
       "      <th>0</th>\n",
       "      <td>41.954177</td>\n",
       "      <td>-87.664358</td>\n",
       "    </tr>\n",
       "    <tr>\n",
       "      <th>2</th>\n",
       "      <td>41.907221</td>\n",
       "      <td>-87.655618</td>\n",
       "    </tr>\n",
       "    <tr>\n",
       "      <th>5</th>\n",
       "      <td>41.888848</td>\n",
       "      <td>-87.627126</td>\n",
       "    </tr>\n",
       "    <tr>\n",
       "      <th>6</th>\n",
       "      <td>41.871808</td>\n",
       "      <td>-87.646580</td>\n",
       "    </tr>\n",
       "    <tr>\n",
       "      <th>7</th>\n",
       "      <td>41.802443</td>\n",
       "      <td>-87.586981</td>\n",
       "    </tr>\n",
       "  </tbody>\n",
       "</table>\n",
       "</div>"
      ],
      "text/plain": [
       "   start_lat  start_lng\n",
       "0  41.954177 -87.664358\n",
       "2  41.907221 -87.655618\n",
       "5  41.888848 -87.627126\n",
       "6  41.871808 -87.646580\n",
       "7  41.802443 -87.586981"
      ]
     },
     "execution_count": 43,
     "metadata": {},
     "output_type": "execute_result"
    }
   ],
   "source": [
    "member_geo_data.head()"
   ]
  },
  {
   "cell_type": "code",
   "execution_count": 45,
   "id": "da692512-c2aa-4784-bb36-b1a341c3b3a1",
   "metadata": {},
   "outputs": [
    {
     "data": {
      "text/plain": [
       "<folium.plugins.heat_map.HeatMap at 0x3025fbf80>"
      ]
     },
     "execution_count": 45,
     "metadata": {},
     "output_type": "execute_result"
    }
   ],
   "source": [
    "HeatMap(member_geo_data).add_to(m)"
   ]
  },
  {
   "cell_type": "code",
   "execution_count": 49,
   "id": "17b5e585-01db-4b72-8a32-edca661ce4ff",
   "metadata": {},
   "outputs": [],
   "source": [
    "m.save('heatmapmember-May.html')"
   ]
  },
  {
   "cell_type": "code",
   "execution_count": 51,
   "id": "146eae20-31a8-4f0f-a882-432eea0fb7be",
   "metadata": {},
   "outputs": [],
   "source": [
    "casual_geo_data = df1[df1['member_casual']=='casual']\n",
    "casual_geo_route = casual_geo_data[['start_lat' , 'start_lng' , 'end_lat' , 'end_lng']]\n",
    "casual_geo_data = casual_geo_data[['start_lat' , 'start_lng']]"
   ]
  },
  {
   "cell_type": "code",
   "execution_count": 53,
   "id": "0eb39d8c-7b5e-4203-ad8d-aae8a20cd6ea",
   "metadata": {},
   "outputs": [],
   "source": [
    "m1 = folium.Map(location=[42.50 , -82.50] , zoom_start = 5)"
   ]
  },
  {
   "cell_type": "code",
   "execution_count": 55,
   "id": "23d27b2b-5ee6-4925-bddf-287ac358b871",
   "metadata": {},
   "outputs": [
    {
     "data": {
      "text/plain": [
       "<folium.plugins.heat_map.HeatMap at 0x302803230>"
      ]
     },
     "execution_count": 55,
     "metadata": {},
     "output_type": "execute_result"
    }
   ],
   "source": [
    "HeatMap(casual_geo_data).add_to(m1)"
   ]
  },
  {
   "cell_type": "code",
   "execution_count": 57,
   "id": "3c41cc88-8dfa-416b-aada-67c002b953b9",
   "metadata": {},
   "outputs": [],
   "source": [
    "m1.save('heatmapcasual-May.html')"
   ]
  },
  {
   "cell_type": "code",
   "execution_count": 59,
   "id": "9d4536af-88d6-4698-8809-7378f0823996",
   "metadata": {},
   "outputs": [],
   "source": [
    "m2 = folium.Map(location=[42.50 , -82.50] , zoom_start = 5)"
   ]
  },
  {
   "cell_type": "code",
   "execution_count": 61,
   "id": "45d8741f-eaf5-4dfc-a57c-90ed0e9bea04",
   "metadata": {},
   "outputs": [
    {
     "data": {
      "text/html": [
       "<div>\n",
       "<style scoped>\n",
       "    .dataframe tbody tr th:only-of-type {\n",
       "        vertical-align: middle;\n",
       "    }\n",
       "\n",
       "    .dataframe tbody tr th {\n",
       "        vertical-align: top;\n",
       "    }\n",
       "\n",
       "    .dataframe thead th {\n",
       "        text-align: right;\n",
       "    }\n",
       "</style>\n",
       "<table border=\"1\" class=\"dataframe\">\n",
       "  <thead>\n",
       "    <tr style=\"text-align: right;\">\n",
       "      <th></th>\n",
       "      <th>start_lat</th>\n",
       "      <th>start_lng</th>\n",
       "      <th>end_lat</th>\n",
       "      <th>end_lng</th>\n",
       "    </tr>\n",
       "  </thead>\n",
       "  <tbody>\n",
       "    <tr>\n",
       "      <th>1</th>\n",
       "      <td>41.943700</td>\n",
       "      <td>-87.664074</td>\n",
       "      <td>41.944019</td>\n",
       "      <td>-87.663975</td>\n",
       "    </tr>\n",
       "    <tr>\n",
       "      <th>3</th>\n",
       "      <td>41.889166</td>\n",
       "      <td>-87.638472</td>\n",
       "      <td>41.889177</td>\n",
       "      <td>-87.638506</td>\n",
       "    </tr>\n",
       "    <tr>\n",
       "      <th>4</th>\n",
       "      <td>41.884621</td>\n",
       "      <td>-87.627834</td>\n",
       "      <td>41.884621</td>\n",
       "      <td>-87.627834</td>\n",
       "    </tr>\n",
       "    <tr>\n",
       "      <th>12</th>\n",
       "      <td>41.785130</td>\n",
       "      <td>-87.601109</td>\n",
       "      <td>41.790000</td>\n",
       "      <td>-87.600000</td>\n",
       "    </tr>\n",
       "    <tr>\n",
       "      <th>14</th>\n",
       "      <td>41.911768</td>\n",
       "      <td>-87.626849</td>\n",
       "      <td>41.911722</td>\n",
       "      <td>-87.626804</td>\n",
       "    </tr>\n",
       "  </tbody>\n",
       "</table>\n",
       "</div>"
      ],
      "text/plain": [
       "    start_lat  start_lng    end_lat    end_lng\n",
       "1   41.943700 -87.664074  41.944019 -87.663975\n",
       "3   41.889166 -87.638472  41.889177 -87.638506\n",
       "4   41.884621 -87.627834  41.884621 -87.627834\n",
       "12  41.785130 -87.601109  41.790000 -87.600000\n",
       "14  41.911768 -87.626849  41.911722 -87.626804"
      ]
     },
     "execution_count": 61,
     "metadata": {},
     "output_type": "execute_result"
    }
   ],
   "source": [
    "casual_geo_route.head()"
   ]
  },
  {
   "cell_type": "code",
   "execution_count": 67,
   "id": "f3ddd7ba-bc8d-4a9d-b7f8-29cebad50395",
   "metadata": {},
   "outputs": [],
   "source": [
    "casual_geo_route = casual_geo_route.dropna()\n",
    "for index in casual_geo_route.index:\n",
    "    route = [[casual_geo_route.loc[index, 'start_lat'] ,casual_geo_route.loc[index,'start_lng']] , [casual_geo_route.loc[index,'end_lat'], casual_geo_route.loc[index,'end_lng']]] \n",
    "    folium.PolyLine(locations = route , color='blue' , weight=0.5 , opacity = 0.4).add_to(m2)"
   ]
  },
  {
   "cell_type": "code",
   "execution_count": 69,
   "id": "ab56b76a-bae3-4f20-9fcb-e913171948af",
   "metadata": {},
   "outputs": [],
   "source": [
    "m2.save('routesCasual-May.html')"
   ]
  },
  {
   "cell_type": "code",
   "execution_count": null,
   "id": "10ca6776-178c-481b-8129-2fb06b86b5c4",
   "metadata": {},
   "outputs": [],
   "source": []
  }
 ],
 "metadata": {
  "kernelspec": {
   "display_name": "Python [conda env:base] *",
   "language": "python",
   "name": "conda-base-py"
  },
  "language_info": {
   "codemirror_mode": {
    "name": "ipython",
    "version": 3
   },
   "file_extension": ".py",
   "mimetype": "text/x-python",
   "name": "python",
   "nbconvert_exporter": "python",
   "pygments_lexer": "ipython3",
   "version": "3.12.2"
  }
 },
 "nbformat": 4,
 "nbformat_minor": 5
}
