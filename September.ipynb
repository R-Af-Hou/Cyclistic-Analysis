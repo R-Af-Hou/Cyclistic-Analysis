{
 "cells": [
  {
   "cell_type": "code",
   "execution_count": 1,
   "id": "d725b691-17fa-44e1-aa30-94ef00bdda91",
   "metadata": {},
   "outputs": [],
   "source": [
    "import pandas as pd"
   ]
  },
  {
   "cell_type": "code",
   "execution_count": 3,
   "id": "8d986d4b-a79a-448a-983d-7462e357796b",
   "metadata": {},
   "outputs": [],
   "source": [
    "df1 = pd.read_csv(\"202409-Cyclistic.csv\")"
   ]
  },
  {
   "cell_type": "code",
   "execution_count": 5,
   "id": "8a6adc36-6be5-461a-90f8-cc14b795df0c",
   "metadata": {},
   "outputs": [
    {
     "data": {
      "text/html": [
       "<div>\n",
       "<style scoped>\n",
       "    .dataframe tbody tr th:only-of-type {\n",
       "        vertical-align: middle;\n",
       "    }\n",
       "\n",
       "    .dataframe tbody tr th {\n",
       "        vertical-align: top;\n",
       "    }\n",
       "\n",
       "    .dataframe thead th {\n",
       "        text-align: right;\n",
       "    }\n",
       "</style>\n",
       "<table border=\"1\" class=\"dataframe\">\n",
       "  <thead>\n",
       "    <tr style=\"text-align: right;\">\n",
       "      <th></th>\n",
       "      <th>ride_id</th>\n",
       "      <th>rideable_type</th>\n",
       "      <th>started_at</th>\n",
       "      <th>ended_at</th>\n",
       "      <th>day_of_week</th>\n",
       "      <th>ride_length</th>\n",
       "      <th>start_station_name</th>\n",
       "      <th>start_station_id</th>\n",
       "      <th>end_station_name</th>\n",
       "      <th>end_station_id</th>\n",
       "      <th>start_lat</th>\n",
       "      <th>start_lng</th>\n",
       "      <th>end_lat</th>\n",
       "      <th>end_lng</th>\n",
       "      <th>member_casual</th>\n",
       "      <th>Unnamed: 15</th>\n",
       "    </tr>\n",
       "  </thead>\n",
       "  <tbody>\n",
       "    <tr>\n",
       "      <th>0</th>\n",
       "      <td>21E002AD4C956A62</td>\n",
       "      <td>electric_bike</td>\n",
       "      <td>9/5/24 16:09</td>\n",
       "      <td>9/5/24 16:09</td>\n",
       "      <td>5</td>\n",
       "      <td>31</td>\n",
       "      <td>NaN</td>\n",
       "      <td>NaN</td>\n",
       "      <td>NaN</td>\n",
       "      <td>NaN</td>\n",
       "      <td>41.880000</td>\n",
       "      <td>-87.630000</td>\n",
       "      <td>41.880000</td>\n",
       "      <td>-87.630000</td>\n",
       "      <td>casual</td>\n",
       "      <td>NaN</td>\n",
       "    </tr>\n",
       "    <tr>\n",
       "      <th>1</th>\n",
       "      <td>93629D785DA94F8C</td>\n",
       "      <td>electric_scooter</td>\n",
       "      <td>9/13/24 17:25</td>\n",
       "      <td>9/13/24 17:26</td>\n",
       "      <td>6</td>\n",
       "      <td>31</td>\n",
       "      <td>NaN</td>\n",
       "      <td>NaN</td>\n",
       "      <td>NaN</td>\n",
       "      <td>NaN</td>\n",
       "      <td>41.890000</td>\n",
       "      <td>-87.630000</td>\n",
       "      <td>41.890000</td>\n",
       "      <td>-87.630000</td>\n",
       "      <td>casual</td>\n",
       "      <td>NaN</td>\n",
       "    </tr>\n",
       "    <tr>\n",
       "      <th>2</th>\n",
       "      <td>EE4C3E3A51FCAFDE</td>\n",
       "      <td>electric_bike</td>\n",
       "      <td>9/10/24 15:56</td>\n",
       "      <td>9/10/24 15:56</td>\n",
       "      <td>3</td>\n",
       "      <td>31</td>\n",
       "      <td>NaN</td>\n",
       "      <td>NaN</td>\n",
       "      <td>NaN</td>\n",
       "      <td>NaN</td>\n",
       "      <td>41.870000</td>\n",
       "      <td>-87.650000</td>\n",
       "      <td>41.870000</td>\n",
       "      <td>-87.650000</td>\n",
       "      <td>casual</td>\n",
       "      <td>NaN</td>\n",
       "    </tr>\n",
       "    <tr>\n",
       "      <th>3</th>\n",
       "      <td>F73C19F688D63EEC</td>\n",
       "      <td>electric_scooter</td>\n",
       "      <td>9/21/24 12:59</td>\n",
       "      <td>9/21/24 12:59</td>\n",
       "      <td>7</td>\n",
       "      <td>31</td>\n",
       "      <td>NaN</td>\n",
       "      <td>NaN</td>\n",
       "      <td>NaN</td>\n",
       "      <td>NaN</td>\n",
       "      <td>41.940000</td>\n",
       "      <td>-87.710000</td>\n",
       "      <td>41.940000</td>\n",
       "      <td>-87.700000</td>\n",
       "      <td>casual</td>\n",
       "      <td>NaN</td>\n",
       "    </tr>\n",
       "    <tr>\n",
       "      <th>4</th>\n",
       "      <td>A72A3D712A848B4B</td>\n",
       "      <td>electric_bike</td>\n",
       "      <td>9/18/24 17:38</td>\n",
       "      <td>9/18/24 17:39</td>\n",
       "      <td>4</td>\n",
       "      <td>31</td>\n",
       "      <td>NaN</td>\n",
       "      <td>NaN</td>\n",
       "      <td>NaN</td>\n",
       "      <td>NaN</td>\n",
       "      <td>41.890000</td>\n",
       "      <td>-87.650000</td>\n",
       "      <td>41.890000</td>\n",
       "      <td>-87.650000</td>\n",
       "      <td>casual</td>\n",
       "      <td>NaN</td>\n",
       "    </tr>\n",
       "    <tr>\n",
       "      <th>5</th>\n",
       "      <td>275B315CB7358126</td>\n",
       "      <td>electric_bike</td>\n",
       "      <td>9/29/24 21:15</td>\n",
       "      <td>9/29/24 21:16</td>\n",
       "      <td>1</td>\n",
       "      <td>31</td>\n",
       "      <td>NaN</td>\n",
       "      <td>NaN</td>\n",
       "      <td>NaN</td>\n",
       "      <td>NaN</td>\n",
       "      <td>41.920000</td>\n",
       "      <td>-87.650000</td>\n",
       "      <td>41.920000</td>\n",
       "      <td>-87.650000</td>\n",
       "      <td>casual</td>\n",
       "      <td>NaN</td>\n",
       "    </tr>\n",
       "    <tr>\n",
       "      <th>6</th>\n",
       "      <td>F1722528A0CD5A33</td>\n",
       "      <td>electric_scooter</td>\n",
       "      <td>9/17/24 9:05</td>\n",
       "      <td>9/17/24 9:06</td>\n",
       "      <td>3</td>\n",
       "      <td>31</td>\n",
       "      <td>Desplaines St &amp; Jackson Blvd</td>\n",
       "      <td>15539</td>\n",
       "      <td>NaN</td>\n",
       "      <td>NaN</td>\n",
       "      <td>41.878119</td>\n",
       "      <td>-87.643948</td>\n",
       "      <td>41.880000</td>\n",
       "      <td>-87.640000</td>\n",
       "      <td>member</td>\n",
       "      <td>NaN</td>\n",
       "    </tr>\n",
       "    <tr>\n",
       "      <th>7</th>\n",
       "      <td>7311365D43421EE7</td>\n",
       "      <td>electric_bike</td>\n",
       "      <td>9/14/24 15:18</td>\n",
       "      <td>9/14/24 15:18</td>\n",
       "      <td>7</td>\n",
       "      <td>31</td>\n",
       "      <td>Stockton Dr &amp; Wrightwood Ave</td>\n",
       "      <td>13276</td>\n",
       "      <td>Stockton Dr &amp; Wrightwood Ave</td>\n",
       "      <td>13276</td>\n",
       "      <td>41.931266</td>\n",
       "      <td>-87.638798</td>\n",
       "      <td>41.931320</td>\n",
       "      <td>-87.638742</td>\n",
       "      <td>casual</td>\n",
       "      <td>NaN</td>\n",
       "    </tr>\n",
       "    <tr>\n",
       "      <th>8</th>\n",
       "      <td>246666A7C3E697FA</td>\n",
       "      <td>electric_scooter</td>\n",
       "      <td>9/26/24 15:13</td>\n",
       "      <td>9/26/24 15:14</td>\n",
       "      <td>5</td>\n",
       "      <td>31</td>\n",
       "      <td>Clinton St &amp; Lake St</td>\n",
       "      <td>13021</td>\n",
       "      <td>NaN</td>\n",
       "      <td>NaN</td>\n",
       "      <td>41.885658</td>\n",
       "      <td>-87.641973</td>\n",
       "      <td>41.890000</td>\n",
       "      <td>-87.640000</td>\n",
       "      <td>casual</td>\n",
       "      <td>NaN</td>\n",
       "    </tr>\n",
       "    <tr>\n",
       "      <th>9</th>\n",
       "      <td>1DCF78B18AB92CB6</td>\n",
       "      <td>electric_scooter</td>\n",
       "      <td>9/8/24 14:39</td>\n",
       "      <td>9/8/24 14:40</td>\n",
       "      <td>1</td>\n",
       "      <td>31</td>\n",
       "      <td>Lincoln Ave &amp; Belle Plaine Ave</td>\n",
       "      <td>TA1309000026</td>\n",
       "      <td>Lincoln Ave &amp; Belle Plaine Ave</td>\n",
       "      <td>TA1309000026</td>\n",
       "      <td>41.956004</td>\n",
       "      <td>-87.680161</td>\n",
       "      <td>41.956004</td>\n",
       "      <td>-87.680161</td>\n",
       "      <td>member</td>\n",
       "      <td>NaN</td>\n",
       "    </tr>\n",
       "  </tbody>\n",
       "</table>\n",
       "</div>"
      ],
      "text/plain": [
       "            ride_id     rideable_type     started_at       ended_at  \\\n",
       "0  21E002AD4C956A62     electric_bike   9/5/24 16:09   9/5/24 16:09   \n",
       "1  93629D785DA94F8C  electric_scooter  9/13/24 17:25  9/13/24 17:26   \n",
       "2  EE4C3E3A51FCAFDE     electric_bike  9/10/24 15:56  9/10/24 15:56   \n",
       "3  F73C19F688D63EEC  electric_scooter  9/21/24 12:59  9/21/24 12:59   \n",
       "4  A72A3D712A848B4B     electric_bike  9/18/24 17:38  9/18/24 17:39   \n",
       "5  275B315CB7358126     electric_bike  9/29/24 21:15  9/29/24 21:16   \n",
       "6  F1722528A0CD5A33  electric_scooter   9/17/24 9:05   9/17/24 9:06   \n",
       "7  7311365D43421EE7     electric_bike  9/14/24 15:18  9/14/24 15:18   \n",
       "8  246666A7C3E697FA  electric_scooter  9/26/24 15:13  9/26/24 15:14   \n",
       "9  1DCF78B18AB92CB6  electric_scooter   9/8/24 14:39   9/8/24 14:40   \n",
       "\n",
       "   day_of_week  ride_length              start_station_name start_station_id  \\\n",
       "0            5           31                             NaN              NaN   \n",
       "1            6           31                             NaN              NaN   \n",
       "2            3           31                             NaN              NaN   \n",
       "3            7           31                             NaN              NaN   \n",
       "4            4           31                             NaN              NaN   \n",
       "5            1           31                             NaN              NaN   \n",
       "6            3           31    Desplaines St & Jackson Blvd            15539   \n",
       "7            7           31    Stockton Dr & Wrightwood Ave            13276   \n",
       "8            5           31            Clinton St & Lake St            13021   \n",
       "9            1           31  Lincoln Ave & Belle Plaine Ave     TA1309000026   \n",
       "\n",
       "                 end_station_name end_station_id  start_lat  start_lng  \\\n",
       "0                             NaN            NaN  41.880000 -87.630000   \n",
       "1                             NaN            NaN  41.890000 -87.630000   \n",
       "2                             NaN            NaN  41.870000 -87.650000   \n",
       "3                             NaN            NaN  41.940000 -87.710000   \n",
       "4                             NaN            NaN  41.890000 -87.650000   \n",
       "5                             NaN            NaN  41.920000 -87.650000   \n",
       "6                             NaN            NaN  41.878119 -87.643948   \n",
       "7    Stockton Dr & Wrightwood Ave          13276  41.931266 -87.638798   \n",
       "8                             NaN            NaN  41.885658 -87.641973   \n",
       "9  Lincoln Ave & Belle Plaine Ave   TA1309000026  41.956004 -87.680161   \n",
       "\n",
       "     end_lat    end_lng member_casual  Unnamed: 15  \n",
       "0  41.880000 -87.630000        casual          NaN  \n",
       "1  41.890000 -87.630000        casual          NaN  \n",
       "2  41.870000 -87.650000        casual          NaN  \n",
       "3  41.940000 -87.700000        casual          NaN  \n",
       "4  41.890000 -87.650000        casual          NaN  \n",
       "5  41.920000 -87.650000        casual          NaN  \n",
       "6  41.880000 -87.640000        member          NaN  \n",
       "7  41.931320 -87.638742        casual          NaN  \n",
       "8  41.890000 -87.640000        casual          NaN  \n",
       "9  41.956004 -87.680161        member          NaN  "
      ]
     },
     "execution_count": 5,
     "metadata": {},
     "output_type": "execute_result"
    }
   ],
   "source": [
    "df1.head(10)"
   ]
  },
  {
   "cell_type": "code",
   "execution_count": 7,
   "id": "0d318c49-9b64-4652-9ada-563931da6eaa",
   "metadata": {},
   "outputs": [],
   "source": [
    "import matplotlib.pyplot as plt"
   ]
  },
  {
   "cell_type": "code",
   "execution_count": 9,
   "id": "d4ffa043-a9bb-4b98-b410-57717e30974c",
   "metadata": {},
   "outputs": [],
   "source": [
    "df1_weekday_count = df1[['day_of_week','member_casual']].value_counts()"
   ]
  },
  {
   "cell_type": "code",
   "execution_count": 11,
   "id": "40303f43-f0db-4a2f-b491-1e5c7f0f2b39",
   "metadata": {},
   "outputs": [
    {
     "data": {
      "text/plain": [
       "day_of_week  member_casual\n",
       "2            member           76464\n",
       "4            member           75345\n",
       "5            member           73562\n",
       "3            member           64987\n",
       "6            member           64396\n",
       "1            casual           62738\n",
       "7            casual           60472\n",
       "             member           56896\n",
       "1            member           56396\n",
       "2            casual           50380\n",
       "6            casual           46285\n",
       "5            casual           42851\n",
       "4            casual           41301\n",
       "3            casual           34446\n",
       "Name: count, dtype: int64"
      ]
     },
     "execution_count": 11,
     "metadata": {},
     "output_type": "execute_result"
    }
   ],
   "source": [
    "df1_weekday_count.head(14)"
   ]
  },
  {
   "cell_type": "code",
   "execution_count": 13,
   "id": "50e0a08a-f685-4082-9d01-3b9c01e8d25c",
   "metadata": {},
   "outputs": [
    {
     "data": {
      "text/html": [
       "<div>\n",
       "<style scoped>\n",
       "    .dataframe tbody tr th:only-of-type {\n",
       "        vertical-align: middle;\n",
       "    }\n",
       "\n",
       "    .dataframe tbody tr th {\n",
       "        vertical-align: top;\n",
       "    }\n",
       "\n",
       "    .dataframe thead th {\n",
       "        text-align: right;\n",
       "    }\n",
       "</style>\n",
       "<table border=\"1\" class=\"dataframe\">\n",
       "  <thead>\n",
       "    <tr style=\"text-align: right;\">\n",
       "      <th></th>\n",
       "      <th>day_of_week</th>\n",
       "      <th>member_casual</th>\n",
       "      <th>count</th>\n",
       "    </tr>\n",
       "  </thead>\n",
       "  <tbody>\n",
       "    <tr>\n",
       "      <th>0</th>\n",
       "      <td>2</td>\n",
       "      <td>member</td>\n",
       "      <td>76464</td>\n",
       "    </tr>\n",
       "    <tr>\n",
       "      <th>1</th>\n",
       "      <td>4</td>\n",
       "      <td>member</td>\n",
       "      <td>75345</td>\n",
       "    </tr>\n",
       "    <tr>\n",
       "      <th>2</th>\n",
       "      <td>5</td>\n",
       "      <td>member</td>\n",
       "      <td>73562</td>\n",
       "    </tr>\n",
       "    <tr>\n",
       "      <th>3</th>\n",
       "      <td>3</td>\n",
       "      <td>member</td>\n",
       "      <td>64987</td>\n",
       "    </tr>\n",
       "    <tr>\n",
       "      <th>4</th>\n",
       "      <td>6</td>\n",
       "      <td>member</td>\n",
       "      <td>64396</td>\n",
       "    </tr>\n",
       "    <tr>\n",
       "      <th>5</th>\n",
       "      <td>1</td>\n",
       "      <td>casual</td>\n",
       "      <td>62738</td>\n",
       "    </tr>\n",
       "    <tr>\n",
       "      <th>6</th>\n",
       "      <td>7</td>\n",
       "      <td>casual</td>\n",
       "      <td>60472</td>\n",
       "    </tr>\n",
       "    <tr>\n",
       "      <th>7</th>\n",
       "      <td>7</td>\n",
       "      <td>member</td>\n",
       "      <td>56896</td>\n",
       "    </tr>\n",
       "    <tr>\n",
       "      <th>8</th>\n",
       "      <td>1</td>\n",
       "      <td>member</td>\n",
       "      <td>56396</td>\n",
       "    </tr>\n",
       "    <tr>\n",
       "      <th>9</th>\n",
       "      <td>2</td>\n",
       "      <td>casual</td>\n",
       "      <td>50380</td>\n",
       "    </tr>\n",
       "    <tr>\n",
       "      <th>10</th>\n",
       "      <td>6</td>\n",
       "      <td>casual</td>\n",
       "      <td>46285</td>\n",
       "    </tr>\n",
       "    <tr>\n",
       "      <th>11</th>\n",
       "      <td>5</td>\n",
       "      <td>casual</td>\n",
       "      <td>42851</td>\n",
       "    </tr>\n",
       "    <tr>\n",
       "      <th>12</th>\n",
       "      <td>4</td>\n",
       "      <td>casual</td>\n",
       "      <td>41301</td>\n",
       "    </tr>\n",
       "    <tr>\n",
       "      <th>13</th>\n",
       "      <td>3</td>\n",
       "      <td>casual</td>\n",
       "      <td>34446</td>\n",
       "    </tr>\n",
       "  </tbody>\n",
       "</table>\n",
       "</div>"
      ],
      "text/plain": [
       "    day_of_week member_casual  count\n",
       "0             2        member  76464\n",
       "1             4        member  75345\n",
       "2             5        member  73562\n",
       "3             3        member  64987\n",
       "4             6        member  64396\n",
       "5             1        casual  62738\n",
       "6             7        casual  60472\n",
       "7             7        member  56896\n",
       "8             1        member  56396\n",
       "9             2        casual  50380\n",
       "10            6        casual  46285\n",
       "11            5        casual  42851\n",
       "12            4        casual  41301\n",
       "13            3        casual  34446"
      ]
     },
     "execution_count": 13,
     "metadata": {},
     "output_type": "execute_result"
    }
   ],
   "source": [
    "weekday_count_df = df1_weekday_count.reset_index()\n",
    "weekday_count_df.columns = ['day_of_week', 'member_casual' , 'count']\n",
    "weekday_count_df.head(15)"
   ]
  },
  {
   "cell_type": "code",
   "execution_count": 15,
   "id": "c81a3e42-8b8d-4426-9282-25d63c8b6a29",
   "metadata": {},
   "outputs": [
    {
     "data": {
      "text/html": [
       "<div>\n",
       "<style scoped>\n",
       "    .dataframe tbody tr th:only-of-type {\n",
       "        vertical-align: middle;\n",
       "    }\n",
       "\n",
       "    .dataframe tbody tr th {\n",
       "        vertical-align: top;\n",
       "    }\n",
       "\n",
       "    .dataframe thead th {\n",
       "        text-align: right;\n",
       "    }\n",
       "</style>\n",
       "<table border=\"1\" class=\"dataframe\">\n",
       "  <thead>\n",
       "    <tr style=\"text-align: right;\">\n",
       "      <th>member_casual</th>\n",
       "      <th>casual</th>\n",
       "      <th>member</th>\n",
       "    </tr>\n",
       "    <tr>\n",
       "      <th>day_of_week</th>\n",
       "      <th></th>\n",
       "      <th></th>\n",
       "    </tr>\n",
       "  </thead>\n",
       "  <tbody>\n",
       "    <tr>\n",
       "      <th>1</th>\n",
       "      <td>62738.0</td>\n",
       "      <td>56396.0</td>\n",
       "    </tr>\n",
       "    <tr>\n",
       "      <th>2</th>\n",
       "      <td>50380.0</td>\n",
       "      <td>76464.0</td>\n",
       "    </tr>\n",
       "    <tr>\n",
       "      <th>3</th>\n",
       "      <td>34446.0</td>\n",
       "      <td>64987.0</td>\n",
       "    </tr>\n",
       "    <tr>\n",
       "      <th>4</th>\n",
       "      <td>41301.0</td>\n",
       "      <td>75345.0</td>\n",
       "    </tr>\n",
       "    <tr>\n",
       "      <th>5</th>\n",
       "      <td>42851.0</td>\n",
       "      <td>73562.0</td>\n",
       "    </tr>\n",
       "    <tr>\n",
       "      <th>6</th>\n",
       "      <td>46285.0</td>\n",
       "      <td>64396.0</td>\n",
       "    </tr>\n",
       "    <tr>\n",
       "      <th>7</th>\n",
       "      <td>60472.0</td>\n",
       "      <td>56896.0</td>\n",
       "    </tr>\n",
       "  </tbody>\n",
       "</table>\n",
       "</div>"
      ],
      "text/plain": [
       "member_casual   casual   member\n",
       "day_of_week                    \n",
       "1              62738.0  56396.0\n",
       "2              50380.0  76464.0\n",
       "3              34446.0  64987.0\n",
       "4              41301.0  75345.0\n",
       "5              42851.0  73562.0\n",
       "6              46285.0  64396.0\n",
       "7              60472.0  56896.0"
      ]
     },
     "execution_count": 15,
     "metadata": {},
     "output_type": "execute_result"
    }
   ],
   "source": [
    "pivot_df1 = weekday_count_df.pivot_table(index='day_of_week' , columns='member_casual' , values='count')\n",
    "pivot_df1"
   ]
  },
  {
   "cell_type": "code",
   "execution_count": 17,
   "id": "26de5754-6e58-44f4-8c59-6eb398416345",
   "metadata": {},
   "outputs": [],
   "source": [
    "weekday=['Sunday' , 'Monday' , 'Tuesday' , 'Wednesday' , 'Thursday' , 'Friday' , 'Saturday'] \n",
    "pivot_df1['weekday'] = weekday"
   ]
  },
  {
   "cell_type": "code",
   "execution_count": 19,
   "id": "9e52696f-dc85-4606-9fa4-db8d60e9bbb2",
   "metadata": {},
   "outputs": [
    {
     "data": {
      "text/plain": [
       "<Axes: xlabel='weekday'>"
      ]
     },
     "execution_count": 19,
     "metadata": {},
     "output_type": "execute_result"
    },
    {
     "data": {
      "image/png": "[encoded data removed]",
      "text/plain": [
       "<Figure size 640x480 with 1 Axes>"
      ]
     },
     "metadata": {},
     "output_type": "display_data"
    }
   ],
   "source": [
    "pivot_df1.plot(kind='bar' , x='weekday')"
   ]
  },
  {
   "cell_type": "code",
   "execution_count": 21,
   "id": "a8479a6d-09e6-47cf-8b50-a22574bae2db",
   "metadata": {},
   "outputs": [
    {
     "data": {
      "image/png": "[encoded data removed]",
      "text/plain": [
       "<Figure size 640x480 with 2 Axes>"
      ]
     },
     "metadata": {},
     "output_type": "display_data"
    }
   ],
   "source": [
    "df1.hist(column='ride_length', bins=[30,120,300,600,1800,3600,10800,36000], by='member_casual')\n",
    "plt.show()"
   ]
  },
  {
   "cell_type": "code",
   "execution_count": 23,
   "id": "8ca1728b-3cd5-4a96-9119-d0ee7e5d2f77",
   "metadata": {},
   "outputs": [],
   "source": [
    "df1_weekday_bike_membership = df1[['day_of_week','member_casual' , 'rideable_type']].value_counts()"
   ]
  },
  {
   "cell_type": "code",
   "execution_count": 25,
   "id": "77010b7a-990e-402b-b4b0-a0bcb27c2902",
   "metadata": {},
   "outputs": [],
   "source": [
    "weekday_bike_membership = df1_weekday_bike_membership.reset_index()"
   ]
  },
  {
   "cell_type": "code",
   "execution_count": 27,
   "id": "0c2a8591-ec25-4397-ac06-03a4fbf2e893",
   "metadata": {},
   "outputs": [],
   "source": [
    "weekday_bike_membership.columns = ['day_of_week' , 'member_casual' , 'rideable_type' , 'count']"
   ]
  },
  {
   "cell_type": "code",
   "execution_count": 29,
   "id": "8f9ac6d3-5bd7-4ca2-88e7-c91fe244e7e4",
   "metadata": {},
   "outputs": [],
   "source": [
    "pivot_wbm = weekday_bike_membership.pivot_table(index = 'day_of_week' , columns = ['member_casual' , 'rideable_type'] , values = 'count')"
   ]
  },
  {
   "cell_type": "code",
   "execution_count": 31,
   "id": "94a63a93-5d71-4eea-ad4d-9c64811390f4",
   "metadata": {},
   "outputs": [],
   "source": [
    "weekday=['Sunday' , 'Monday' , 'Tuesday' , 'Wednesday' , 'Thursday' , 'Friday' , 'Saturday'] \n",
    "pivot_wbm['weekday'] = weekday"
   ]
  },
  {
   "cell_type": "code",
   "execution_count": 33,
   "id": "77347549-fda5-4ac6-bedc-37285e372399",
   "metadata": {},
   "outputs": [
    {
     "data": {
      "text/plain": [
       "<Axes: xlabel='weekday'>"
      ]
     },
     "execution_count": 33,
     "metadata": {},
     "output_type": "execute_result"
    },
    {
     "data": {
      "image/png": "[encoded data removed]",
      "text/plain": [
       "<Figure size 640x480 with 1 Axes>"
      ]
     },
     "metadata": {},
     "output_type": "display_data"
    }
   ],
   "source": [
    "pivot_wbm.plot(kind = 'bar' , x='weekday')"
   ]
  },
  {
   "cell_type": "code",
   "execution_count": 35,
   "id": "369f07fa-34d0-4dbd-a5ae-cfd16ecdee19",
   "metadata": {},
   "outputs": [],
   "source": [
    "import folium"
   ]
  },
  {
   "cell_type": "code",
   "execution_count": 37,
   "id": "556a543e-d5c6-4bdf-941c-e2a3a42b2359",
   "metadata": {},
   "outputs": [],
   "source": [
    "from folium.plugins import HeatMap"
   ]
  },
  {
   "cell_type": "code",
   "execution_count": 39,
   "id": "b81f0760-4abc-4846-aeba-d22ca8d799d3",
   "metadata": {},
   "outputs": [],
   "source": [
    "m = folium.Map(location=[42.50 , -82.50] , zoom_start = 5)\n"
   ]
  },
  {
   "cell_type": "code",
   "execution_count": 41,
   "id": "7800f358-8a34-448e-8661-49ee151a4c5f",
   "metadata": {},
   "outputs": [],
   "source": [
    "member_geo_data = df1[df1['member_casual']=='member']\n",
    "member_geo_data = member_geo_data[['start_lat' , 'start_lng']]"
   ]
  },
  {
   "cell_type": "code",
   "execution_count": 43,
   "id": "cc36986d-c1d1-4db6-95ad-7fb14ae3e944",
   "metadata": {},
   "outputs": [
    {
     "data": {
      "text/html": [
       "<div>\n",
       "<style scoped>\n",
       "    .dataframe tbody tr th:only-of-type {\n",
       "        vertical-align: middle;\n",
       "    }\n",
       "\n",
       "    .dataframe tbody tr th {\n",
       "        vertical-align: top;\n",
       "    }\n",
       "\n",
       "    .dataframe thead th {\n",
       "        text-align: right;\n",
       "    }\n",
       "</style>\n",
       "<table border=\"1\" class=\"dataframe\">\n",
       "  <thead>\n",
       "    <tr style=\"text-align: right;\">\n",
       "      <th></th>\n",
       "      <th>start_lat</th>\n",
       "      <th>start_lng</th>\n",
       "    </tr>\n",
       "  </thead>\n",
       "  <tbody>\n",
       "    <tr>\n",
       "      <th>6</th>\n",
       "      <td>41.878119</td>\n",
       "      <td>-87.643948</td>\n",
       "    </tr>\n",
       "    <tr>\n",
       "      <th>9</th>\n",
       "      <td>41.956004</td>\n",
       "      <td>-87.680161</td>\n",
       "    </tr>\n",
       "    <tr>\n",
       "      <th>12</th>\n",
       "      <td>41.842426</td>\n",
       "      <td>-87.617182</td>\n",
       "    </tr>\n",
       "    <tr>\n",
       "      <th>15</th>\n",
       "      <td>41.972097</td>\n",
       "      <td>-87.708572</td>\n",
       "    </tr>\n",
       "    <tr>\n",
       "      <th>16</th>\n",
       "      <td>41.895504</td>\n",
       "      <td>-87.706164</td>\n",
       "    </tr>\n",
       "  </tbody>\n",
       "</table>\n",
       "</div>"
      ],
      "text/plain": [
       "    start_lat  start_lng\n",
       "6   41.878119 -87.643948\n",
       "9   41.956004 -87.680161\n",
       "12  41.842426 -87.617182\n",
       "15  41.972097 -87.708572\n",
       "16  41.895504 -87.706164"
      ]
     },
     "execution_count": 43,
     "metadata": {},
     "output_type": "execute_result"
    }
   ],
   "source": [
    "member_geo_data.head()"
   ]
  },
  {
   "cell_type": "code",
   "execution_count": 45,
   "id": "ed14dd8f-f3e0-44eb-81b6-817cdcd4dc0d",
   "metadata": {},
   "outputs": [
    {
     "data": {
      "text/plain": [
       "<folium.plugins.heat_map.HeatMap at 0x3122d6ff0>"
      ]
     },
     "execution_count": 45,
     "metadata": {},
     "output_type": "execute_result"
    }
   ],
   "source": [
    "HeatMap(member_geo_data).add_to(m)"
   ]
  },
  {
   "cell_type": "code",
   "execution_count": 47,
   "id": "c7dfa9d0-08a1-49ef-abfb-f6a1f0011ce7",
   "metadata": {},
   "outputs": [],
   "source": [
    "m.save('heatmapmember-September.html')"
   ]
  },
  {
   "cell_type": "code",
   "execution_count": 49,
   "id": "ce5f2c07-da53-4dec-b90c-11d76fd2a25f",
   "metadata": {},
   "outputs": [],
   "source": [
    "casual_geo_data = df1[df1['member_casual']=='casual']\n",
    "casual_geo_route = casual_geo_data[['start_lat' , 'start_lng' , 'end_lat' , 'end_lng']]\n",
    "casual_geo_data = casual_geo_data[['start_lat' , 'start_lng']]"
   ]
  },
  {
   "cell_type": "code",
   "execution_count": 51,
   "id": "40227a84-2466-43cc-90da-b08ea689404a",
   "metadata": {},
   "outputs": [],
   "source": [
    "m1 = folium.Map(location=[42.50 , -82.50] , zoom_start = 5)"
   ]
  },
  {
   "cell_type": "code",
   "execution_count": 53,
   "id": "192eaec0-d499-4623-a91f-0c7a1c0ea5ba",
   "metadata": {},
   "outputs": [
    {
     "data": {
      "text/plain": [
       "<folium.plugins.heat_map.HeatMap at 0x17721d8e0>"
      ]
     },
     "execution_count": 53,
     "metadata": {},
     "output_type": "execute_result"
    }
   ],
   "source": [
    "HeatMap(casual_geo_data).add_to(m1)"
   ]
  },
  {
   "cell_type": "code",
   "execution_count": 55,
   "id": "daaab180-f8b5-436d-951b-52b9c6228767",
   "metadata": {},
   "outputs": [],
   "source": [
    "m1.save('heatmapcasual-September.html')"
   ]
  },
  {
   "cell_type": "code",
   "execution_count": 57,
   "id": "5d16d177-d540-4d81-879c-e4b0087b7ae4",
   "metadata": {},
   "outputs": [],
   "source": [
    "m2 = folium.Map(location=[42.50 , -82.50] , zoom_start = 5)"
   ]
  },
  {
   "cell_type": "code",
   "execution_count": 59,
   "id": "8a15c5c5-fdf7-49a5-9e01-1c234d172847",
   "metadata": {
    "scrolled": true
   },
   "outputs": [
    {
     "data": {
      "text/html": [
       "<div>\n",
       "<style scoped>\n",
       "    .dataframe tbody tr th:only-of-type {\n",
       "        vertical-align: middle;\n",
       "    }\n",
       "\n",
       "    .dataframe tbody tr th {\n",
       "        vertical-align: top;\n",
       "    }\n",
       "\n",
       "    .dataframe thead th {\n",
       "        text-align: right;\n",
       "    }\n",
       "</style>\n",
       "<table border=\"1\" class=\"dataframe\">\n",
       "  <thead>\n",
       "    <tr style=\"text-align: right;\">\n",
       "      <th></th>\n",
       "      <th>start_lat</th>\n",
       "      <th>start_lng</th>\n",
       "      <th>end_lat</th>\n",
       "      <th>end_lng</th>\n",
       "    </tr>\n",
       "  </thead>\n",
       "  <tbody>\n",
       "    <tr>\n",
       "      <th>0</th>\n",
       "      <td>41.88</td>\n",
       "      <td>-87.63</td>\n",
       "      <td>41.88</td>\n",
       "      <td>-87.63</td>\n",
       "    </tr>\n",
       "    <tr>\n",
       "      <th>1</th>\n",
       "      <td>41.89</td>\n",
       "      <td>-87.63</td>\n",
       "      <td>41.89</td>\n",
       "      <td>-87.63</td>\n",
       "    </tr>\n",
       "    <tr>\n",
       "      <th>2</th>\n",
       "      <td>41.87</td>\n",
       "      <td>-87.65</td>\n",
       "      <td>41.87</td>\n",
       "      <td>-87.65</td>\n",
       "    </tr>\n",
       "    <tr>\n",
       "      <th>3</th>\n",
       "      <td>41.94</td>\n",
       "      <td>-87.71</td>\n",
       "      <td>41.94</td>\n",
       "      <td>-87.70</td>\n",
       "    </tr>\n",
       "    <tr>\n",
       "      <th>4</th>\n",
       "      <td>41.89</td>\n",
       "      <td>-87.65</td>\n",
       "      <td>41.89</td>\n",
       "      <td>-87.65</td>\n",
       "    </tr>\n",
       "  </tbody>\n",
       "</table>\n",
       "</div>"
      ],
      "text/plain": [
       "   start_lat  start_lng  end_lat  end_lng\n",
       "0      41.88     -87.63    41.88   -87.63\n",
       "1      41.89     -87.63    41.89   -87.63\n",
       "2      41.87     -87.65    41.87   -87.65\n",
       "3      41.94     -87.71    41.94   -87.70\n",
       "4      41.89     -87.65    41.89   -87.65"
      ]
     },
     "execution_count": 59,
     "metadata": {},
     "output_type": "execute_result"
    }
   ],
   "source": [
    "casual_geo_route.head()"
   ]
  },
  {
   "cell_type": "code",
   "execution_count": 61,
   "id": "6d14d2e1-cc6d-463c-8dab-6fa4397099c3",
   "metadata": {},
   "outputs": [],
   "source": [
    "casual_geo_route = casual_geo_route.dropna()\n",
    "for index in casual_geo_route.index:\n",
    "    route = [[casual_geo_route.loc[index, 'start_lat'] ,casual_geo_route.loc[index,'start_lng']] , [casual_geo_route.loc[index,'end_lat'], casual_geo_route.loc[index,'end_lng']]] \n",
    "    folium.PolyLine(locations = route , color='blue' , weight=0.5 , opacity = 0.4).add_to(m2)"
   ]
  },
  {
   "cell_type": "code",
   "execution_count": 63,
   "id": "29753dc4-dc27-4f15-a890-ee087e50a69d",
   "metadata": {},
   "outputs": [],
   "source": [
    "m2.save('routesCasual-September.html')"
   ]
  }
 ],
 "metadata": {
  "kernelspec": {
   "display_name": "Python [conda env:base] *",
   "language": "python",
   "name": "conda-base-py"
  },
  "language_info": {
   "codemirror_mode": {
    "name": "ipython",
    "version": 3
   },
   "file_extension": ".py",
   "mimetype": "text/x-python",
   "name": "python",
   "nbconvert_exporter": "python",
   "pygments_lexer": "ipython3",
   "version": "3.12.2"
  }
 },
 "nbformat": 4,
 "nbformat_minor": 5
}
