{
 "cells": [
  {
   "cell_type": "code",
   "execution_count": 6,
   "id": "ab402b65-fd04-4e27-8b11-d4acf27aa612",
   "metadata": {},
   "outputs": [],
   "source": [
    "import pandas as pd"
   ]
  },
  {
   "cell_type": "code",
   "execution_count": 37,
   "id": "ff99e1bb-858e-48d9-9704-3b1abd2742b9",
   "metadata": {},
   "outputs": [],
   "source": [
    "df1 = pd.read_csv(\"202401-Cyclistic.csv\")"
   ]
  },
  {
   "cell_type": "code",
   "execution_count": 39,
   "id": "3c7a3de7-899d-434f-b2fe-a13a867d9854",
   "metadata": {
    "jupyter": {
     "source_hidden": true
    }
   },
   "outputs": [
    {
     "data": {
      "text/html": [
       "<div>\n",
       "<style scoped>\n",
       "    .dataframe tbody tr th:only-of-type {\n",
       "        vertical-align: middle;\n",
       "    }\n",
       "\n",
       "    .dataframe tbody tr th {\n",
       "        vertical-align: top;\n",
       "    }\n",
       "\n",
       "    .dataframe thead th {\n",
       "        text-align: right;\n",
       "    }\n",
       "</style>\n",
       "<table border=\"1\" class=\"dataframe\">\n",
       "  <thead>\n",
       "    <tr style=\"text-align: right;\">\n",
       "      <th></th>\n",
       "      <th>ride_id</th>\n",
       "      <th>rideable_type</th>\n",
       "      <th>started_at</th>\n",
       "      <th>ended_at</th>\n",
       "      <th>day_of_week</th>\n",
       "      <th>ride_length</th>\n",
       "      <th>start_station_name</th>\n",
       "      <th>start_station_id</th>\n",
       "      <th>end_station_name</th>\n",
       "      <th>end_station_id</th>\n",
       "      <th>start_lat</th>\n",
       "      <th>start_lng</th>\n",
       "      <th>end_lat</th>\n",
       "      <th>end_lng</th>\n",
       "      <th>member_casual</th>\n",
       "      <th>start_date</th>\n",
       "      <th>start_time</th>\n",
       "    </tr>\n",
       "  </thead>\n",
       "  <tbody>\n",
       "    <tr>\n",
       "      <th>0</th>\n",
       "      <td>31693D4FFD069B89</td>\n",
       "      <td>electric_bike</td>\n",
       "      <td>1/8/24 15:03</td>\n",
       "      <td>1/8/24 15:03</td>\n",
       "      <td>2</td>\n",
       "      <td>31</td>\n",
       "      <td>Clark St &amp; Elm St</td>\n",
       "      <td>TA1307000039</td>\n",
       "      <td>N Clark St &amp; W Elm St</td>\n",
       "      <td>20249</td>\n",
       "      <td>41.902915</td>\n",
       "      <td>-87.631607</td>\n",
       "      <td>41.902901</td>\n",
       "      <td>-87.631282</td>\n",
       "      <td>member</td>\n",
       "      <td>1/8/24</td>\n",
       "      <td>15</td>\n",
       "    </tr>\n",
       "    <tr>\n",
       "      <th>1</th>\n",
       "      <td>5F047AD3B9E29130</td>\n",
       "      <td>classic_bike</td>\n",
       "      <td>1/4/24 12:06</td>\n",
       "      <td>1/4/24 12:07</td>\n",
       "      <td>5</td>\n",
       "      <td>31</td>\n",
       "      <td>Sedgwick St &amp; Huron St</td>\n",
       "      <td>TA1307000062</td>\n",
       "      <td>Sedgwick St &amp; Huron St</td>\n",
       "      <td>TA1307000062</td>\n",
       "      <td>41.894666</td>\n",
       "      <td>-87.638437</td>\n",
       "      <td>41.894666</td>\n",
       "      <td>-87.638437</td>\n",
       "      <td>casual</td>\n",
       "      <td>1/4/24</td>\n",
       "      <td>12</td>\n",
       "    </tr>\n",
       "    <tr>\n",
       "      <th>2</th>\n",
       "      <td>C144FA0BF1DBDF2A</td>\n",
       "      <td>electric_bike</td>\n",
       "      <td>1/10/24 14:06</td>\n",
       "      <td>1/10/24 14:07</td>\n",
       "      <td>4</td>\n",
       "      <td>31</td>\n",
       "      <td>Honore St &amp; Division St</td>\n",
       "      <td>TA1305000034</td>\n",
       "      <td>Honore St &amp; Division St</td>\n",
       "      <td>TA1305000034</td>\n",
       "      <td>41.903146</td>\n",
       "      <td>-87.673799</td>\n",
       "      <td>41.903119</td>\n",
       "      <td>-87.673935</td>\n",
       "      <td>member</td>\n",
       "      <td>1/10/24</td>\n",
       "      <td>14</td>\n",
       "    </tr>\n",
       "    <tr>\n",
       "      <th>3</th>\n",
       "      <td>B6CFC175B492F927</td>\n",
       "      <td>classic_bike</td>\n",
       "      <td>1/29/24 21:12</td>\n",
       "      <td>1/29/24 21:13</td>\n",
       "      <td>2</td>\n",
       "      <td>31</td>\n",
       "      <td>Talman Ave &amp; Addison St</td>\n",
       "      <td>15632</td>\n",
       "      <td>Talman Ave &amp; Addison St</td>\n",
       "      <td>15632</td>\n",
       "      <td>41.946636</td>\n",
       "      <td>-87.694615</td>\n",
       "      <td>41.946636</td>\n",
       "      <td>-87.694615</td>\n",
       "      <td>member</td>\n",
       "      <td>1/29/24</td>\n",
       "      <td>21</td>\n",
       "    </tr>\n",
       "    <tr>\n",
       "      <th>4</th>\n",
       "      <td>FF73B240E99EA2C0</td>\n",
       "      <td>classic_bike</td>\n",
       "      <td>1/7/24 13:15</td>\n",
       "      <td>1/7/24 13:15</td>\n",
       "      <td>1</td>\n",
       "      <td>31</td>\n",
       "      <td>Wells St &amp; 19th St</td>\n",
       "      <td>SL-006</td>\n",
       "      <td>Wells St &amp; 19th St</td>\n",
       "      <td>SL-006</td>\n",
       "      <td>41.856802</td>\n",
       "      <td>-87.633879</td>\n",
       "      <td>41.856802</td>\n",
       "      <td>-87.633879</td>\n",
       "      <td>member</td>\n",
       "      <td>1/7/24</td>\n",
       "      <td>13</td>\n",
       "    </tr>\n",
       "  </tbody>\n",
       "</table>\n",
       "</div>"
      ],
      "text/plain": [
       "            ride_id  rideable_type     started_at       ended_at  day_of_week  \\\n",
       "0  31693D4FFD069B89  electric_bike   1/8/24 15:03   1/8/24 15:03            2   \n",
       "1  5F047AD3B9E29130   classic_bike   1/4/24 12:06   1/4/24 12:07            5   \n",
       "2  C144FA0BF1DBDF2A  electric_bike  1/10/24 14:06  1/10/24 14:07            4   \n",
       "3  B6CFC175B492F927   classic_bike  1/29/24 21:12  1/29/24 21:13            2   \n",
       "4  FF73B240E99EA2C0   classic_bike   1/7/24 13:15   1/7/24 13:15            1   \n",
       "\n",
       "   ride_length       start_station_name start_station_id  \\\n",
       "0           31        Clark St & Elm St     TA1307000039   \n",
       "1           31   Sedgwick St & Huron St     TA1307000062   \n",
       "2           31  Honore St & Division St     TA1305000034   \n",
       "3           31  Talman Ave & Addison St            15632   \n",
       "4           31       Wells St & 19th St           SL-006   \n",
       "\n",
       "          end_station_name end_station_id  start_lat  start_lng    end_lat  \\\n",
       "0    N Clark St & W Elm St          20249  41.902915 -87.631607  41.902901   \n",
       "1   Sedgwick St & Huron St   TA1307000062  41.894666 -87.638437  41.894666   \n",
       "2  Honore St & Division St   TA1305000034  41.903146 -87.673799  41.903119   \n",
       "3  Talman Ave & Addison St          15632  41.946636 -87.694615  41.946636   \n",
       "4       Wells St & 19th St         SL-006  41.856802 -87.633879  41.856802   \n",
       "\n",
       "     end_lng member_casual start_date  start_time  \n",
       "0 -87.631282        member     1/8/24          15  \n",
       "1 -87.638437        casual     1/4/24          12  \n",
       "2 -87.673935        member    1/10/24          14  \n",
       "3 -87.694615        member    1/29/24          21  \n",
       "4 -87.633879        member     1/7/24          13  "
      ]
     },
     "execution_count": 39,
     "metadata": {},
     "output_type": "execute_result"
    }
   ],
   "source": [
    "df1.head()"
   ]
  },
  {
   "cell_type": "code",
   "execution_count": 12,
   "id": "33515e76-d899-4829-a5c1-d856dfc2cf59",
   "metadata": {},
   "outputs": [],
   "source": [
    "import matplotlib.pyplot as plt"
   ]
  },
  {
   "cell_type": "code",
   "execution_count": 85,
   "id": "7a6fedc8-17f8-4d2e-9266-a07ed23855e9",
   "metadata": {},
   "outputs": [],
   "source": [
    "df1_weekday_count = df1[['day_of_week','member_casual']].value_counts()"
   ]
  },
  {
   "cell_type": "code",
   "execution_count": 87,
   "id": "f89d7593-c555-4596-9d88-937df7347f6c",
   "metadata": {},
   "outputs": [
    {
     "data": {
      "text/plain": [
       "day_of_week  member_casual\n",
       "4            member           26005\n",
       "5            member           22255\n",
       "2            member           19459\n",
       "3            member           18644\n",
       "6            member           13501\n",
       "7            member            9469\n",
       "1            member            8842\n",
       "4            casual            4506\n",
       "5            casual            4315\n",
       "2            casual            3989\n",
       "3            casual            3364\n",
       "6            casual            3059\n",
       "7            casual            2468\n",
       "1            casual            2333\n",
       "Name: count, dtype: int64"
      ]
     },
     "execution_count": 87,
     "metadata": {},
     "output_type": "execute_result"
    }
   ],
   "source": [
    "df1_weekday_count.head(14)"
   ]
  },
  {
   "cell_type": "code",
   "execution_count": 91,
   "id": "32de0f16-80b6-4b05-a5d0-5b6aeb7af2a6",
   "metadata": {},
   "outputs": [
    {
     "data": {
      "text/html": [
       "<div>\n",
       "<style scoped>\n",
       "    .dataframe tbody tr th:only-of-type {\n",
       "        vertical-align: middle;\n",
       "    }\n",
       "\n",
       "    .dataframe tbody tr th {\n",
       "        vertical-align: top;\n",
       "    }\n",
       "\n",
       "    .dataframe thead th {\n",
       "        text-align: right;\n",
       "    }\n",
       "</style>\n",
       "<table border=\"1\" class=\"dataframe\">\n",
       "  <thead>\n",
       "    <tr style=\"text-align: right;\">\n",
       "      <th></th>\n",
       "      <th>day_of_week</th>\n",
       "      <th>member_casual</th>\n",
       "      <th>count</th>\n",
       "    </tr>\n",
       "  </thead>\n",
       "  <tbody>\n",
       "    <tr>\n",
       "      <th>0</th>\n",
       "      <td>4</td>\n",
       "      <td>member</td>\n",
       "      <td>26005</td>\n",
       "    </tr>\n",
       "    <tr>\n",
       "      <th>1</th>\n",
       "      <td>5</td>\n",
       "      <td>member</td>\n",
       "      <td>22255</td>\n",
       "    </tr>\n",
       "    <tr>\n",
       "      <th>2</th>\n",
       "      <td>2</td>\n",
       "      <td>member</td>\n",
       "      <td>19459</td>\n",
       "    </tr>\n",
       "    <tr>\n",
       "      <th>3</th>\n",
       "      <td>3</td>\n",
       "      <td>member</td>\n",
       "      <td>18644</td>\n",
       "    </tr>\n",
       "    <tr>\n",
       "      <th>4</th>\n",
       "      <td>6</td>\n",
       "      <td>member</td>\n",
       "      <td>13501</td>\n",
       "    </tr>\n",
       "    <tr>\n",
       "      <th>5</th>\n",
       "      <td>7</td>\n",
       "      <td>member</td>\n",
       "      <td>9469</td>\n",
       "    </tr>\n",
       "    <tr>\n",
       "      <th>6</th>\n",
       "      <td>1</td>\n",
       "      <td>member</td>\n",
       "      <td>8842</td>\n",
       "    </tr>\n",
       "    <tr>\n",
       "      <th>7</th>\n",
       "      <td>4</td>\n",
       "      <td>casual</td>\n",
       "      <td>4506</td>\n",
       "    </tr>\n",
       "    <tr>\n",
       "      <th>8</th>\n",
       "      <td>5</td>\n",
       "      <td>casual</td>\n",
       "      <td>4315</td>\n",
       "    </tr>\n",
       "    <tr>\n",
       "      <th>9</th>\n",
       "      <td>2</td>\n",
       "      <td>casual</td>\n",
       "      <td>3989</td>\n",
       "    </tr>\n",
       "    <tr>\n",
       "      <th>10</th>\n",
       "      <td>3</td>\n",
       "      <td>casual</td>\n",
       "      <td>3364</td>\n",
       "    </tr>\n",
       "    <tr>\n",
       "      <th>11</th>\n",
       "      <td>6</td>\n",
       "      <td>casual</td>\n",
       "      <td>3059</td>\n",
       "    </tr>\n",
       "    <tr>\n",
       "      <th>12</th>\n",
       "      <td>7</td>\n",
       "      <td>casual</td>\n",
       "      <td>2468</td>\n",
       "    </tr>\n",
       "    <tr>\n",
       "      <th>13</th>\n",
       "      <td>1</td>\n",
       "      <td>casual</td>\n",
       "      <td>2333</td>\n",
       "    </tr>\n",
       "  </tbody>\n",
       "</table>\n",
       "</div>"
      ],
      "text/plain": [
       "    day_of_week member_casual  count\n",
       "0             4        member  26005\n",
       "1             5        member  22255\n",
       "2             2        member  19459\n",
       "3             3        member  18644\n",
       "4             6        member  13501\n",
       "5             7        member   9469\n",
       "6             1        member   8842\n",
       "7             4        casual   4506\n",
       "8             5        casual   4315\n",
       "9             2        casual   3989\n",
       "10            3        casual   3364\n",
       "11            6        casual   3059\n",
       "12            7        casual   2468\n",
       "13            1        casual   2333"
      ]
     },
     "execution_count": 91,
     "metadata": {},
     "output_type": "execute_result"
    }
   ],
   "source": [
    "weekday_count_df = df1_weekday_count.reset_index()\n",
    "weekday_count_df.columns = ['day_of_week', 'member_casual' , 'count']\n",
    "weekday_count_df.head(15)"
   ]
  },
  {
   "cell_type": "code",
   "execution_count": 95,
   "id": "fff14779-c264-4bc6-90da-cc5e477a295f",
   "metadata": {},
   "outputs": [
    {
     "data": {
      "text/html": [
       "<div>\n",
       "<style scoped>\n",
       "    .dataframe tbody tr th:only-of-type {\n",
       "        vertical-align: middle;\n",
       "    }\n",
       "\n",
       "    .dataframe tbody tr th {\n",
       "        vertical-align: top;\n",
       "    }\n",
       "\n",
       "    .dataframe thead th {\n",
       "        text-align: right;\n",
       "    }\n",
       "</style>\n",
       "<table border=\"1\" class=\"dataframe\">\n",
       "  <thead>\n",
       "    <tr style=\"text-align: right;\">\n",
       "      <th>member_casual</th>\n",
       "      <th>casual</th>\n",
       "      <th>member</th>\n",
       "    </tr>\n",
       "    <tr>\n",
       "      <th>day_of_week</th>\n",
       "      <th></th>\n",
       "      <th></th>\n",
       "    </tr>\n",
       "  </thead>\n",
       "  <tbody>\n",
       "    <tr>\n",
       "      <th>1</th>\n",
       "      <td>2333.0</td>\n",
       "      <td>8842.0</td>\n",
       "    </tr>\n",
       "    <tr>\n",
       "      <th>2</th>\n",
       "      <td>3989.0</td>\n",
       "      <td>19459.0</td>\n",
       "    </tr>\n",
       "    <tr>\n",
       "      <th>3</th>\n",
       "      <td>3364.0</td>\n",
       "      <td>18644.0</td>\n",
       "    </tr>\n",
       "    <tr>\n",
       "      <th>4</th>\n",
       "      <td>4506.0</td>\n",
       "      <td>26005.0</td>\n",
       "    </tr>\n",
       "    <tr>\n",
       "      <th>5</th>\n",
       "      <td>4315.0</td>\n",
       "      <td>22255.0</td>\n",
       "    </tr>\n",
       "    <tr>\n",
       "      <th>6</th>\n",
       "      <td>3059.0</td>\n",
       "      <td>13501.0</td>\n",
       "    </tr>\n",
       "    <tr>\n",
       "      <th>7</th>\n",
       "      <td>2468.0</td>\n",
       "      <td>9469.0</td>\n",
       "    </tr>\n",
       "  </tbody>\n",
       "</table>\n",
       "</div>"
      ],
      "text/plain": [
       "member_casual  casual   member\n",
       "day_of_week                   \n",
       "1              2333.0   8842.0\n",
       "2              3989.0  19459.0\n",
       "3              3364.0  18644.0\n",
       "4              4506.0  26005.0\n",
       "5              4315.0  22255.0\n",
       "6              3059.0  13501.0\n",
       "7              2468.0   9469.0"
      ]
     },
     "execution_count": 95,
     "metadata": {},
     "output_type": "execute_result"
    }
   ],
   "source": [
    "pivot_df1 = weekday_count_df.pivot_table(index='day_of_week' , columns='member_casual' , values='count')\n",
    "pivot_df1"
   ]
  },
  {
   "cell_type": "code",
   "execution_count": 27,
   "id": "12ad53ed-6181-48d1-afeb-93d335d64fc6",
   "metadata": {},
   "outputs": [],
   "source": [
    "weekday=['Sunday' , 'Monday' , 'Tuesday' , 'Wednesday' , 'Thursday' , 'Friday' , 'Saturday'] \n",
    "pivot_df1['weekday'] = weekday"
   ]
  },
  {
   "cell_type": "code",
   "execution_count": 28,
   "id": "63b3b5cf-73ac-45d0-8bee-05bee1d2ef3f",
   "metadata": {},
   "outputs": [
    {
     "data": {
      "text/plain": [
       "<Axes: xlabel='weekday'>"
      ]
     },
     "execution_count": 28,
     "metadata": {},
     "output_type": "execute_result"
    },
    {
     "data": {
      "image/png": "[encoded data removed]",
      "text/plain": [
       "<Figure size 640x480 with 1 Axes>"
      ]
     },
     "metadata": {},
     "output_type": "display_data"
    }
   ],
   "source": [
    "pivot_df1.plot(kind='bar' , x='weekday')"
   ]
  },
  {
   "cell_type": "code",
   "execution_count": 19,
   "id": "32e4b62f-6be8-4119-812d-fac95582ecc3",
   "metadata": {},
   "outputs": [
    {
     "data": {
      "image/png": "[encoded data removed]",
      "text/plain": [
       "<Figure size 640x480 with 2 Axes>"
      ]
     },
     "metadata": {},
     "output_type": "display_data"
    }
   ],
   "source": [
    "df1.hist(column='ride_length', bins=[30,120,300,600,1800,3600,10800], by='member_casual')\n",
    "plt.show()"
   ]
  },
  {
   "cell_type": "code",
   "execution_count": 97,
   "id": "83e84023-fd8b-4559-9df8-72948944a2cb",
   "metadata": {},
   "outputs": [],
   "source": [
    "df1_weekday_bike_membership = df1[['day_of_week','member_casual' , 'rideable_type']].value_counts()"
   ]
  },
  {
   "cell_type": "code",
   "execution_count": 101,
   "id": "80b523aa-6891-457a-979f-f267622bc845",
   "metadata": {},
   "outputs": [],
   "source": [
    "weekday_bike_membership = df1_weekday_bike_membership.reset_index()"
   ]
  },
  {
   "cell_type": "code",
   "execution_count": 103,
   "id": "6e637415-6bdd-42a9-9f53-90d2cbe3803a",
   "metadata": {},
   "outputs": [],
   "source": [
    "weekday_bike_membership.columns = ['day_of_week' , 'member_casual' , 'rideable_type' , 'count']"
   ]
  },
  {
   "cell_type": "code",
   "execution_count": 111,
   "id": "926669b1-a901-49ab-be0a-da69c2917070",
   "metadata": {},
   "outputs": [],
   "source": [
    "pivot_wbm = weekday_bike_membership.pivot_table(index = 'day_of_week' , columns = ['member_casual' , 'rideable_type'] , values = 'count')"
   ]
  },
  {
   "cell_type": "code",
   "execution_count": 113,
   "id": "3f8332c7-ec90-44e9-aaaf-efc111fe6f8e",
   "metadata": {},
   "outputs": [],
   "source": [
    "weekday=['Sunday' , 'Monday' , 'Tuesday' , 'Wednesday' , 'Thursday' , 'Friday' , 'Saturday'] \n",
    "pivot_wbm['weekday'] = weekday"
   ]
  },
  {
   "cell_type": "code",
   "execution_count": 115,
   "id": "c14f331d-bbea-46ed-a9f3-8915b887215c",
   "metadata": {},
   "outputs": [
    {
     "data": {
      "text/plain": [
       "<Axes: xlabel='weekday'>"
      ]
     },
     "execution_count": 115,
     "metadata": {},
     "output_type": "execute_result"
    },
    {
     "data": {
      "image/png": "[encoded data removed]",
      "text/plain": [
       "<Figure size 640x480 with 1 Axes>"
      ]
     },
     "metadata": {},
     "output_type": "display_data"
    }
   ],
   "source": [
    "pivot_wbm.plot(kind = 'bar' , x='weekday')"
   ]
  },
  {
   "cell_type": "code",
   "execution_count": 24,
   "id": "3efc82c8-fba6-4601-bc31-920b070f3e92",
   "metadata": {},
   "outputs": [],
   "source": [
    "import folium"
   ]
  },
  {
   "cell_type": "code",
   "execution_count": 27,
   "id": "d954361b-7693-47a8-9aaa-9cbab03dbd3a",
   "metadata": {},
   "outputs": [],
   "source": [
    "from folium.plugins import HeatMap"
   ]
  },
  {
   "cell_type": "code",
   "execution_count": 31,
   "id": "02b48b87-d197-4829-aa3e-3280e265915d",
   "metadata": {},
   "outputs": [],
   "source": [
    "m = folium.Map(location=[42.50 , -82.50] , zoom_start = 5)\n"
   ]
  },
  {
   "cell_type": "code",
   "execution_count": 47,
   "id": "9c4b7914-e02d-4b36-9025-89bf36c8eea2",
   "metadata": {},
   "outputs": [],
   "source": [
    "member_geo_data = df1[df1['member_casual']=='member']\n",
    "member_geo_data = member_geo_data[['start_lat' , 'start_lng']]"
   ]
  },
  {
   "cell_type": "code",
   "execution_count": 49,
   "id": "bd03d4e4-fc05-4671-9122-805c6af50154",
   "metadata": {},
   "outputs": [
    {
     "data": {
      "text/html": [
       "<div>\n",
       "<style scoped>\n",
       "    .dataframe tbody tr th:only-of-type {\n",
       "        vertical-align: middle;\n",
       "    }\n",
       "\n",
       "    .dataframe tbody tr th {\n",
       "        vertical-align: top;\n",
       "    }\n",
       "\n",
       "    .dataframe thead th {\n",
       "        text-align: right;\n",
       "    }\n",
       "</style>\n",
       "<table border=\"1\" class=\"dataframe\">\n",
       "  <thead>\n",
       "    <tr style=\"text-align: right;\">\n",
       "      <th></th>\n",
       "      <th>start_lat</th>\n",
       "      <th>start_lng</th>\n",
       "    </tr>\n",
       "  </thead>\n",
       "  <tbody>\n",
       "    <tr>\n",
       "      <th>0</th>\n",
       "      <td>41.902915</td>\n",
       "      <td>-87.631607</td>\n",
       "    </tr>\n",
       "    <tr>\n",
       "      <th>2</th>\n",
       "      <td>41.903146</td>\n",
       "      <td>-87.673799</td>\n",
       "    </tr>\n",
       "    <tr>\n",
       "      <th>3</th>\n",
       "      <td>41.946636</td>\n",
       "      <td>-87.694615</td>\n",
       "    </tr>\n",
       "    <tr>\n",
       "      <th>4</th>\n",
       "      <td>41.856802</td>\n",
       "      <td>-87.633879</td>\n",
       "    </tr>\n",
       "    <tr>\n",
       "      <th>5</th>\n",
       "      <td>41.842052</td>\n",
       "      <td>-87.617000</td>\n",
       "    </tr>\n",
       "  </tbody>\n",
       "</table>\n",
       "</div>"
      ],
      "text/plain": [
       "   start_lat  start_lng\n",
       "0  41.902915 -87.631607\n",
       "2  41.903146 -87.673799\n",
       "3  41.946636 -87.694615\n",
       "4  41.856802 -87.633879\n",
       "5  41.842052 -87.617000"
      ]
     },
     "execution_count": 49,
     "metadata": {},
     "output_type": "execute_result"
    }
   ],
   "source": [
    "member_geo_data.head()"
   ]
  },
  {
   "cell_type": "code",
   "execution_count": 51,
   "id": "1bfaec9d-521b-4dd1-bf9b-7a60b3f51a4c",
   "metadata": {},
   "outputs": [
    {
     "data": {
      "text/plain": [
       "<folium.plugins.heat_map.HeatMap at 0x14ffefb00>"
      ]
     },
     "execution_count": 51,
     "metadata": {},
     "output_type": "execute_result"
    }
   ],
   "source": [
    "HeatMap(member_geo_data).add_to(m)"
   ]
  },
  {
   "cell_type": "code",
   "execution_count": 53,
   "id": "dce61f3e-ff5c-4e07-aff2-a715ad8f420d",
   "metadata": {},
   "outputs": [],
   "source": [
    "m.save('heatmapmember.html')"
   ]
  },
  {
   "cell_type": "code",
   "execution_count": 90,
   "id": "e46b3999-f69a-4757-a9e0-03ddebb1a5fa",
   "metadata": {},
   "outputs": [],
   "source": [
    "casual_geo_data = df1[df1['member_casual']=='casual']\n",
    "casual_geo_route = casual_geo_data[['start_lat' , 'start_lng' , 'end_lat' , 'end_lng']]\n",
    "casual_geo_data = casual_geo_data[['start_lat' , 'start_lng']]"
   ]
  },
  {
   "cell_type": "code",
   "execution_count": 58,
   "id": "9b32f959-bf62-4d87-92c5-4dc3ae322665",
   "metadata": {},
   "outputs": [],
   "source": [
    "m1 = folium.Map(location=[42.50 , -82.50] , zoom_start = 5)"
   ]
  },
  {
   "cell_type": "code",
   "execution_count": 60,
   "id": "0447e82c-b622-4847-99e0-5d675daab8f5",
   "metadata": {},
   "outputs": [
    {
     "data": {
      "text/plain": [
       "<folium.plugins.heat_map.HeatMap at 0x14ffee2d0>"
      ]
     },
     "execution_count": 60,
     "metadata": {},
     "output_type": "execute_result"
    }
   ],
   "source": [
    "HeatMap(casual_geo_data).add_to(m1)"
   ]
  },
  {
   "cell_type": "code",
   "execution_count": 62,
   "id": "b15197c1-52e9-4a7b-8f68-d483ac4ff5ec",
   "metadata": {},
   "outputs": [],
   "source": [
    "m1.save('heatmapcasual.html')"
   ]
  },
  {
   "cell_type": "code",
   "execution_count": 128,
   "id": "427a2965-dac0-4a0b-817f-83d36b6417a8",
   "metadata": {
    "jupyter": {
     "source_hidden": true
    }
   },
   "outputs": [],
   "source": [
    "m2 = folium.Map(location=[42.50 , -82.50] , zoom_start = 5)"
   ]
  },
  {
   "cell_type": "code",
   "execution_count": 130,
   "id": "7f2e9778-d6d9-4cc1-9e38-ab8cceec9d13",
   "metadata": {
    "jupyter": {
     "source_hidden": true
    }
   },
   "outputs": [
    {
     "data": {
      "text/html": [
       "<div>\n",
       "<style scoped>\n",
       "    .dataframe tbody tr th:only-of-type {\n",
       "        vertical-align: middle;\n",
       "    }\n",
       "\n",
       "    .dataframe tbody tr th {\n",
       "        vertical-align: top;\n",
       "    }\n",
       "\n",
       "    .dataframe thead th {\n",
       "        text-align: right;\n",
       "    }\n",
       "</style>\n",
       "<table border=\"1\" class=\"dataframe\">\n",
       "  <thead>\n",
       "    <tr style=\"text-align: right;\">\n",
       "      <th></th>\n",
       "      <th>start_lat</th>\n",
       "      <th>start_lng</th>\n",
       "      <th>end_lat</th>\n",
       "      <th>end_lng</th>\n",
       "    </tr>\n",
       "  </thead>\n",
       "  <tbody>\n",
       "    <tr>\n",
       "      <th>1</th>\n",
       "      <td>41.894666</td>\n",
       "      <td>-87.638437</td>\n",
       "      <td>41.894666</td>\n",
       "      <td>-87.638437</td>\n",
       "    </tr>\n",
       "    <tr>\n",
       "      <th>6</th>\n",
       "      <td>41.894920</td>\n",
       "      <td>-87.634372</td>\n",
       "      <td>41.894722</td>\n",
       "      <td>-87.634362</td>\n",
       "    </tr>\n",
       "    <tr>\n",
       "      <th>20</th>\n",
       "      <td>41.920000</td>\n",
       "      <td>-87.670000</td>\n",
       "      <td>41.920000</td>\n",
       "      <td>-87.670000</td>\n",
       "    </tr>\n",
       "    <tr>\n",
       "      <th>24</th>\n",
       "      <td>41.880000</td>\n",
       "      <td>-87.640000</td>\n",
       "      <td>41.880000</td>\n",
       "      <td>-87.640000</td>\n",
       "    </tr>\n",
       "    <tr>\n",
       "      <th>25</th>\n",
       "      <td>41.970000</td>\n",
       "      <td>-87.690000</td>\n",
       "      <td>41.970000</td>\n",
       "      <td>-87.690000</td>\n",
       "    </tr>\n",
       "  </tbody>\n",
       "</table>\n",
       "</div>"
      ],
      "text/plain": [
       "    start_lat  start_lng    end_lat    end_lng\n",
       "1   41.894666 -87.638437  41.894666 -87.638437\n",
       "6   41.894920 -87.634372  41.894722 -87.634362\n",
       "20  41.920000 -87.670000  41.920000 -87.670000\n",
       "24  41.880000 -87.640000  41.880000 -87.640000\n",
       "25  41.970000 -87.690000  41.970000 -87.690000"
      ]
     },
     "execution_count": 130,
     "metadata": {},
     "output_type": "execute_result"
    }
   ],
   "source": [
    "casual_geo_route.head()"
   ]
  },
  {
   "cell_type": "code",
   "execution_count": 150,
   "id": "c2febb37-2773-49d7-8859-356d99db715a",
   "metadata": {},
   "outputs": [],
   "source": [
    "casual_geo_route = casual_geo_route.dropna()\n",
    "for index in casual_geo_route.index:\n",
    "    route = [[casual_geo_route.loc[index, 'start_lat'] ,casual_geo_route.loc[index,'start_lng']] , [casual_geo_route.loc[index,'end_lat'], casual_geo_route.loc[index,'end_lng']]] \n",
    "    folium.PolyLine(locations = route , color='blue' , weight=0.5 , opacity = 0.4).add_to(m2)"
   ]
  },
  {
   "cell_type": "code",
   "execution_count": 152,
   "id": "59354e1b-f95b-4bb2-810e-b9a438f0be5d",
   "metadata": {},
   "outputs": [],
   "source": [
    "m2.save('routesCasual-January.html')"
   ]
  },
  {
   "cell_type": "code",
   "execution_count": 45,
   "id": "e9a013d0-16b1-4876-8a14-c6f23c99fc5d",
   "metadata": {},
   "outputs": [
    {
     "data": {
      "image/png": "[encoded data removed]",
      "text/plain": [
       "<Figure size 640x480 with 2 Axes>"
      ]
     },
     "metadata": {},
     "output_type": "display_data"
    }
   ],
   "source": [
    "df1.hist(column='start_time', bins=[0,5,11,17,23], by='member_casual')\n",
    "plt.show()"
   ]
  },
  {
   "cell_type": "code",
   "execution_count": null,
   "id": "5c183744-085f-4cbf-afba-47df00b1375c",
   "metadata": {},
   "outputs": [],
   "source": []
  }
 ],
 "metadata": {
  "kernelspec": {
   "display_name": "Python [conda env:base] *",
   "language": "python",
   "name": "conda-base-py"
  },
  "language_info": {
   "codemirror_mode": {
    "name": "ipython",
    "version": 3
   },
   "file_extension": ".py",
   "mimetype": "text/x-python",
   "name": "python",
   "nbconvert_exporter": "python",
   "pygments_lexer": "ipython3",
   "version": "3.12.2"
  }
 },
 "nbformat": 4,
 "nbformat_minor": 5
}
