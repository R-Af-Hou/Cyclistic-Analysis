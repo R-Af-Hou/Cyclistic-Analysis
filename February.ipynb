{
 "cells": [
  {
   "cell_type": "code",
   "execution_count": 4,
   "id": "a2158e97-e8d8-4459-adf1-f0a191c4f1f6",
   "metadata": {},
   "outputs": [],
   "source": [
    "import pandas as pd"
   ]
  },
  {
   "cell_type": "code",
   "execution_count": 6,
   "id": "944850c3-acb4-4803-b69e-cd63c163ab59",
   "metadata": {},
   "outputs": [],
   "source": [
    "df1 = pd.read_csv(\"202402-Cyclistic.csv\")"
   ]
  },
  {
   "cell_type": "code",
   "execution_count": 8,
   "id": "f30c3017-1fae-4671-aa5c-46201eed20d5",
   "metadata": {
    "jupyter": {
     "source_hidden": true
    }
   },
   "outputs": [
    {
     "data": {
      "text/html": [
       "<div>\n",
       "<style scoped>\n",
       "    .dataframe tbody tr th:only-of-type {\n",
       "        vertical-align: middle;\n",
       "    }\n",
       "\n",
       "    .dataframe tbody tr th {\n",
       "        vertical-align: top;\n",
       "    }\n",
       "\n",
       "    .dataframe thead th {\n",
       "        text-align: right;\n",
       "    }\n",
       "</style>\n",
       "<table border=\"1\" class=\"dataframe\">\n",
       "  <thead>\n",
       "    <tr style=\"text-align: right;\">\n",
       "      <th></th>\n",
       "      <th>ride_id</th>\n",
       "      <th>rideable_type</th>\n",
       "      <th>started_at</th>\n",
       "      <th>ended_at</th>\n",
       "      <th>day_of_week</th>\n",
       "      <th>ride_length</th>\n",
       "      <th>start_station_name</th>\n",
       "      <th>start_station_id</th>\n",
       "      <th>end_station_name</th>\n",
       "      <th>end_station_id</th>\n",
       "      <th>start_lat</th>\n",
       "      <th>start_lng</th>\n",
       "      <th>end_lat</th>\n",
       "      <th>end_lng</th>\n",
       "      <th>member_casual</th>\n",
       "      <th>start_date</th>\n",
       "      <th>start_time</th>\n",
       "    </tr>\n",
       "  </thead>\n",
       "  <tbody>\n",
       "    <tr>\n",
       "      <th>0</th>\n",
       "      <td>8DFA763FBD1BFA61</td>\n",
       "      <td>classic_bike</td>\n",
       "      <td>2/27/24 13:41</td>\n",
       "      <td>2/27/24 13:41</td>\n",
       "      <td>3</td>\n",
       "      <td>31</td>\n",
       "      <td>Dearborn St &amp; Van Buren St</td>\n",
       "      <td>624</td>\n",
       "      <td>Dearborn St &amp; Van Buren St</td>\n",
       "      <td>624</td>\n",
       "      <td>41.876268</td>\n",
       "      <td>-87.629155</td>\n",
       "      <td>41.876268</td>\n",
       "      <td>-87.629155</td>\n",
       "      <td>casual</td>\n",
       "      <td>2/27/24</td>\n",
       "      <td>13.7</td>\n",
       "    </tr>\n",
       "    <tr>\n",
       "      <th>1</th>\n",
       "      <td>54E0DC3D0896AA8F</td>\n",
       "      <td>electric_bike</td>\n",
       "      <td>2/25/24 15:01</td>\n",
       "      <td>2/25/24 15:01</td>\n",
       "      <td>1</td>\n",
       "      <td>31</td>\n",
       "      <td>Prospect Sq &amp; 91st St</td>\n",
       "      <td>20103</td>\n",
       "      <td>Prospect Sq &amp; 91st St</td>\n",
       "      <td>20103</td>\n",
       "      <td>41.728032</td>\n",
       "      <td>-87.667597</td>\n",
       "      <td>41.728234</td>\n",
       "      <td>-87.667524</td>\n",
       "      <td>member</td>\n",
       "      <td>2/25/24</td>\n",
       "      <td>15.0</td>\n",
       "    </tr>\n",
       "    <tr>\n",
       "      <th>2</th>\n",
       "      <td>53F09CBE8A81E8D1</td>\n",
       "      <td>classic_bike</td>\n",
       "      <td>2/7/24 8:30</td>\n",
       "      <td>2/7/24 8:31</td>\n",
       "      <td>4</td>\n",
       "      <td>31</td>\n",
       "      <td>Canal St &amp; Jackson Blvd</td>\n",
       "      <td>13138</td>\n",
       "      <td>Canal St &amp; Jackson Blvd</td>\n",
       "      <td>13138</td>\n",
       "      <td>41.877245</td>\n",
       "      <td>-87.639366</td>\n",
       "      <td>41.877245</td>\n",
       "      <td>-87.639366</td>\n",
       "      <td>member</td>\n",
       "      <td>2/7/24</td>\n",
       "      <td>8.5</td>\n",
       "    </tr>\n",
       "    <tr>\n",
       "      <th>3</th>\n",
       "      <td>9E9D92F60E0926FD</td>\n",
       "      <td>electric_bike</td>\n",
       "      <td>2/27/24 17:31</td>\n",
       "      <td>2/27/24 17:32</td>\n",
       "      <td>3</td>\n",
       "      <td>31</td>\n",
       "      <td>Larrabee St &amp; North Ave</td>\n",
       "      <td>TA1306000008</td>\n",
       "      <td>Larrabee St &amp; North Ave</td>\n",
       "      <td>TA1306000008</td>\n",
       "      <td>41.910142</td>\n",
       "      <td>-87.643504</td>\n",
       "      <td>41.910210</td>\n",
       "      <td>-87.643500</td>\n",
       "      <td>member</td>\n",
       "      <td>2/27/24</td>\n",
       "      <td>17.5</td>\n",
       "    </tr>\n",
       "    <tr>\n",
       "      <th>4</th>\n",
       "      <td>D493279A6D83C9A9</td>\n",
       "      <td>classic_bike</td>\n",
       "      <td>2/2/24 13:37</td>\n",
       "      <td>2/2/24 13:38</td>\n",
       "      <td>6</td>\n",
       "      <td>31</td>\n",
       "      <td>Halsted St &amp; Clybourn Ave</td>\n",
       "      <td>331</td>\n",
       "      <td>Dayton St &amp; North Ave</td>\n",
       "      <td>13058</td>\n",
       "      <td>41.909668</td>\n",
       "      <td>-87.648128</td>\n",
       "      <td>41.910578</td>\n",
       "      <td>-87.649422</td>\n",
       "      <td>member</td>\n",
       "      <td>2/2/24</td>\n",
       "      <td>13.6</td>\n",
       "    </tr>\n",
       "  </tbody>\n",
       "</table>\n",
       "</div>"
      ],
      "text/plain": [
       "            ride_id  rideable_type     started_at       ended_at  day_of_week  \\\n",
       "0  8DFA763FBD1BFA61   classic_bike  2/27/24 13:41  2/27/24 13:41            3   \n",
       "1  54E0DC3D0896AA8F  electric_bike  2/25/24 15:01  2/25/24 15:01            1   \n",
       "2  53F09CBE8A81E8D1   classic_bike    2/7/24 8:30    2/7/24 8:31            4   \n",
       "3  9E9D92F60E0926FD  electric_bike  2/27/24 17:31  2/27/24 17:32            3   \n",
       "4  D493279A6D83C9A9   classic_bike   2/2/24 13:37   2/2/24 13:38            6   \n",
       "\n",
       "   ride_length          start_station_name start_station_id  \\\n",
       "0           31  Dearborn St & Van Buren St              624   \n",
       "1           31       Prospect Sq & 91st St            20103   \n",
       "2           31     Canal St & Jackson Blvd            13138   \n",
       "3           31     Larrabee St & North Ave     TA1306000008   \n",
       "4           31   Halsted St & Clybourn Ave              331   \n",
       "\n",
       "             end_station_name end_station_id  start_lat  start_lng    end_lat  \\\n",
       "0  Dearborn St & Van Buren St            624  41.876268 -87.629155  41.876268   \n",
       "1       Prospect Sq & 91st St          20103  41.728032 -87.667597  41.728234   \n",
       "2     Canal St & Jackson Blvd          13138  41.877245 -87.639366  41.877245   \n",
       "3     Larrabee St & North Ave   TA1306000008  41.910142 -87.643504  41.910210   \n",
       "4       Dayton St & North Ave          13058  41.909668 -87.648128  41.910578   \n",
       "\n",
       "     end_lng member_casual start_date  start_time  \n",
       "0 -87.629155        casual    2/27/24        13.7  \n",
       "1 -87.667524        member    2/25/24        15.0  \n",
       "2 -87.639366        member     2/7/24         8.5  \n",
       "3 -87.643500        member    2/27/24        17.5  \n",
       "4 -87.649422        member     2/2/24        13.6  "
      ]
     },
     "execution_count": 8,
     "metadata": {},
     "output_type": "execute_result"
    }
   ],
   "source": [
    "df1.head()"
   ]
  },
  {
   "cell_type": "code",
   "execution_count": 10,
   "id": "2c6bc414-0327-4544-a8c5-a8c72016b615",
   "metadata": {},
   "outputs": [],
   "source": [
    "import matplotlib.pyplot as plt"
   ]
  },
  {
   "cell_type": "code",
   "execution_count": 12,
   "id": "36908523-9700-4e9b-92ff-130b1ca5f9e3",
   "metadata": {},
   "outputs": [],
   "source": [
    "df1_weekday_count = df1[['day_of_week','member_casual']].value_counts()"
   ]
  },
  {
   "cell_type": "code",
   "execution_count": 14,
   "id": "6b1d0aaa-903f-4c3c-baaa-dcc8e5a7d9c4",
   "metadata": {},
   "outputs": [
    {
     "data": {
      "text/plain": [
       "day_of_week  member_casual\n",
       "5            member           35369\n",
       "3            member           30931\n",
       "4            member           28712\n",
       "2            member           25472\n",
       "6            member           22594\n",
       "1            member           16830\n",
       "7            member           14159\n",
       "5            casual            7971\n",
       "3            casual            7497\n",
       "1            casual            7024\n",
       "4            casual            6363\n",
       "6            casual            6362\n",
       "2            casual            6309\n",
       "7            casual            5043\n",
       "Name: count, dtype: int64"
      ]
     },
     "execution_count": 14,
     "metadata": {},
     "output_type": "execute_result"
    }
   ],
   "source": [
    "df1_weekday_count.head(14)"
   ]
  },
  {
   "cell_type": "code",
   "execution_count": 16,
   "id": "9ea999c1-4225-4d14-afb0-06852a2317fa",
   "metadata": {},
   "outputs": [
    {
     "data": {
      "text/html": [
       "<div>\n",
       "<style scoped>\n",
       "    .dataframe tbody tr th:only-of-type {\n",
       "        vertical-align: middle;\n",
       "    }\n",
       "\n",
       "    .dataframe tbody tr th {\n",
       "        vertical-align: top;\n",
       "    }\n",
       "\n",
       "    .dataframe thead th {\n",
       "        text-align: right;\n",
       "    }\n",
       "</style>\n",
       "<table border=\"1\" class=\"dataframe\">\n",
       "  <thead>\n",
       "    <tr style=\"text-align: right;\">\n",
       "      <th></th>\n",
       "      <th>day_of_week</th>\n",
       "      <th>member_casual</th>\n",
       "      <th>count</th>\n",
       "    </tr>\n",
       "  </thead>\n",
       "  <tbody>\n",
       "    <tr>\n",
       "      <th>0</th>\n",
       "      <td>5</td>\n",
       "      <td>member</td>\n",
       "      <td>35369</td>\n",
       "    </tr>\n",
       "    <tr>\n",
       "      <th>1</th>\n",
       "      <td>3</td>\n",
       "      <td>member</td>\n",
       "      <td>30931</td>\n",
       "    </tr>\n",
       "    <tr>\n",
       "      <th>2</th>\n",
       "      <td>4</td>\n",
       "      <td>member</td>\n",
       "      <td>28712</td>\n",
       "    </tr>\n",
       "    <tr>\n",
       "      <th>3</th>\n",
       "      <td>2</td>\n",
       "      <td>member</td>\n",
       "      <td>25472</td>\n",
       "    </tr>\n",
       "    <tr>\n",
       "      <th>4</th>\n",
       "      <td>6</td>\n",
       "      <td>member</td>\n",
       "      <td>22594</td>\n",
       "    </tr>\n",
       "    <tr>\n",
       "      <th>5</th>\n",
       "      <td>1</td>\n",
       "      <td>member</td>\n",
       "      <td>16830</td>\n",
       "    </tr>\n",
       "    <tr>\n",
       "      <th>6</th>\n",
       "      <td>7</td>\n",
       "      <td>member</td>\n",
       "      <td>14159</td>\n",
       "    </tr>\n",
       "    <tr>\n",
       "      <th>7</th>\n",
       "      <td>5</td>\n",
       "      <td>casual</td>\n",
       "      <td>7971</td>\n",
       "    </tr>\n",
       "    <tr>\n",
       "      <th>8</th>\n",
       "      <td>3</td>\n",
       "      <td>casual</td>\n",
       "      <td>7497</td>\n",
       "    </tr>\n",
       "    <tr>\n",
       "      <th>9</th>\n",
       "      <td>1</td>\n",
       "      <td>casual</td>\n",
       "      <td>7024</td>\n",
       "    </tr>\n",
       "    <tr>\n",
       "      <th>10</th>\n",
       "      <td>4</td>\n",
       "      <td>casual</td>\n",
       "      <td>6363</td>\n",
       "    </tr>\n",
       "    <tr>\n",
       "      <th>11</th>\n",
       "      <td>6</td>\n",
       "      <td>casual</td>\n",
       "      <td>6362</td>\n",
       "    </tr>\n",
       "    <tr>\n",
       "      <th>12</th>\n",
       "      <td>2</td>\n",
       "      <td>casual</td>\n",
       "      <td>6309</td>\n",
       "    </tr>\n",
       "    <tr>\n",
       "      <th>13</th>\n",
       "      <td>7</td>\n",
       "      <td>casual</td>\n",
       "      <td>5043</td>\n",
       "    </tr>\n",
       "  </tbody>\n",
       "</table>\n",
       "</div>"
      ],
      "text/plain": [
       "    day_of_week member_casual  count\n",
       "0             5        member  35369\n",
       "1             3        member  30931\n",
       "2             4        member  28712\n",
       "3             2        member  25472\n",
       "4             6        member  22594\n",
       "5             1        member  16830\n",
       "6             7        member  14159\n",
       "7             5        casual   7971\n",
       "8             3        casual   7497\n",
       "9             1        casual   7024\n",
       "10            4        casual   6363\n",
       "11            6        casual   6362\n",
       "12            2        casual   6309\n",
       "13            7        casual   5043"
      ]
     },
     "execution_count": 16,
     "metadata": {},
     "output_type": "execute_result"
    }
   ],
   "source": [
    "weekday_count_df = df1_weekday_count.reset_index()\n",
    "weekday_count_df.columns = ['day_of_week', 'member_casual' , 'count']\n",
    "weekday_count_df.head(15)"
   ]
  },
  {
   "cell_type": "code",
   "execution_count": 18,
   "id": "a1a984b2-38c3-463d-a96b-81bfc5e572fe",
   "metadata": {},
   "outputs": [
    {
     "data": {
      "text/html": [
       "<div>\n",
       "<style scoped>\n",
       "    .dataframe tbody tr th:only-of-type {\n",
       "        vertical-align: middle;\n",
       "    }\n",
       "\n",
       "    .dataframe tbody tr th {\n",
       "        vertical-align: top;\n",
       "    }\n",
       "\n",
       "    .dataframe thead th {\n",
       "        text-align: right;\n",
       "    }\n",
       "</style>\n",
       "<table border=\"1\" class=\"dataframe\">\n",
       "  <thead>\n",
       "    <tr style=\"text-align: right;\">\n",
       "      <th>member_casual</th>\n",
       "      <th>casual</th>\n",
       "      <th>member</th>\n",
       "    </tr>\n",
       "    <tr>\n",
       "      <th>day_of_week</th>\n",
       "      <th></th>\n",
       "      <th></th>\n",
       "    </tr>\n",
       "  </thead>\n",
       "  <tbody>\n",
       "    <tr>\n",
       "      <th>1</th>\n",
       "      <td>7024.0</td>\n",
       "      <td>16830.0</td>\n",
       "    </tr>\n",
       "    <tr>\n",
       "      <th>2</th>\n",
       "      <td>6309.0</td>\n",
       "      <td>25472.0</td>\n",
       "    </tr>\n",
       "    <tr>\n",
       "      <th>3</th>\n",
       "      <td>7497.0</td>\n",
       "      <td>30931.0</td>\n",
       "    </tr>\n",
       "    <tr>\n",
       "      <th>4</th>\n",
       "      <td>6363.0</td>\n",
       "      <td>28712.0</td>\n",
       "    </tr>\n",
       "    <tr>\n",
       "      <th>5</th>\n",
       "      <td>7971.0</td>\n",
       "      <td>35369.0</td>\n",
       "    </tr>\n",
       "    <tr>\n",
       "      <th>6</th>\n",
       "      <td>6362.0</td>\n",
       "      <td>22594.0</td>\n",
       "    </tr>\n",
       "    <tr>\n",
       "      <th>7</th>\n",
       "      <td>5043.0</td>\n",
       "      <td>14159.0</td>\n",
       "    </tr>\n",
       "  </tbody>\n",
       "</table>\n",
       "</div>"
      ],
      "text/plain": [
       "member_casual  casual   member\n",
       "day_of_week                   \n",
       "1              7024.0  16830.0\n",
       "2              6309.0  25472.0\n",
       "3              7497.0  30931.0\n",
       "4              6363.0  28712.0\n",
       "5              7971.0  35369.0\n",
       "6              6362.0  22594.0\n",
       "7              5043.0  14159.0"
      ]
     },
     "execution_count": 18,
     "metadata": {},
     "output_type": "execute_result"
    }
   ],
   "source": [
    "pivot_df1 = weekday_count_df.pivot_table(index='day_of_week' , columns='member_casual' , values='count')\n",
    "pivot_df1"
   ]
  },
  {
   "cell_type": "code",
   "execution_count": 20,
   "id": "a2e9a4e2-c3ca-477d-9c6b-b51b84980869",
   "metadata": {},
   "outputs": [],
   "source": [
    "weekday=['Sunday' , 'Monday' , 'Tuesday' , 'Wednesday' , 'Thursday' , 'Friday' , 'Saturday'] \n",
    "pivot_df1['weekday'] = weekday"
   ]
  },
  {
   "cell_type": "code",
   "execution_count": 22,
   "id": "69c4e3d8-3d4a-4938-9e87-fe387418bff6",
   "metadata": {},
   "outputs": [
    {
     "data": {
      "text/plain": [
       "<Axes: xlabel='weekday'>"
      ]
     },
     "execution_count": 22,
     "metadata": {},
     "output_type": "execute_result"
    },
    {
     "data": {
      "image/png": "[encoded data removed]",
      "text/plain": [
       "<Figure size 640x480 with 1 Axes>"
      ]
     },
     "metadata": {},
     "output_type": "display_data"
    }
   ],
   "source": [
    "pivot_df1.plot(kind='bar' , x='weekday')"
   ]
  },
  {
   "cell_type": "code",
   "execution_count": 24,
   "id": "5b915ff3-d18c-4d92-8582-c5659691a7ae",
   "metadata": {},
   "outputs": [
    {
     "data": {
      "image/png": "[encoded data removed]",
      "text/plain": [
       "<Figure size 640x480 with 2 Axes>"
      ]
     },
     "metadata": {},
     "output_type": "display_data"
    }
   ],
   "source": [
    "df1.hist(column='ride_length', bins=[120,240,360,480,600,720,840,960,1080,1200,1320,1440,1560,1680,1800,1920,2040,2160,2280,2400,2520,2640,2760,2880,3000,3120,3240,3360,3480,3600,3720,3840,3960,4080,4200,4320,4440,4560,4680,4800,4920,5040,5160,5280,5400,5520,5640,5760,5880,6000], by='member_casual')\n",
    "plt.show()"
   ]
  },
  {
   "cell_type": "code",
   "execution_count": 26,
   "id": "215a54f8-6eec-4017-a344-82ad7cb601c0",
   "metadata": {},
   "outputs": [],
   "source": [
    "df1_weekday_bike_membership = df1[['day_of_week','member_casual' , 'rideable_type']].value_counts()"
   ]
  },
  {
   "cell_type": "code",
   "execution_count": 28,
   "id": "a984af22-c2d2-48cd-b92e-b0ef121ebed3",
   "metadata": {},
   "outputs": [],
   "source": [
    "weekday_bike_membership = df1_weekday_bike_membership.reset_index()"
   ]
  },
  {
   "cell_type": "code",
   "execution_count": 30,
   "id": "dc42a5e5-8c90-4c30-8265-c8d0f3b094de",
   "metadata": {},
   "outputs": [],
   "source": [
    "weekday_bike_membership.columns = ['day_of_week' , 'member_casual' , 'rideable_type' , 'count']"
   ]
  },
  {
   "cell_type": "code",
   "execution_count": 32,
   "id": "cf36cc10-726d-4f2d-8331-4c081edd612b",
   "metadata": {},
   "outputs": [],
   "source": [
    "pivot_wbm = weekday_bike_membership.pivot_table(index = 'day_of_week' , columns = ['member_casual' , 'rideable_type'] , values = 'count')"
   ]
  },
  {
   "cell_type": "code",
   "execution_count": 34,
   "id": "52622205-eadc-4cf1-93a5-9e6ac78e970e",
   "metadata": {},
   "outputs": [],
   "source": [
    "weekday=['Sunday' , 'Monday' , 'Tuesday' , 'Wednesday' , 'Thursday' , 'Friday' , 'Saturday'] \n",
    "pivot_wbm['weekday'] = weekday"
   ]
  },
  {
   "cell_type": "code",
   "execution_count": 36,
   "id": "20b9c99b-575a-4508-97cf-b580e06145f2",
   "metadata": {},
   "outputs": [
    {
     "data": {
      "text/plain": [
       "<Axes: xlabel='weekday'>"
      ]
     },
     "execution_count": 36,
     "metadata": {},
     "output_type": "execute_result"
    },
    {
     "data": {
      "image/png": "[encoded data removed]",
      "text/plain": [
       "<Figure size 640x480 with 1 Axes>"
      ]
     },
     "metadata": {},
     "output_type": "display_data"
    }
   ],
   "source": [
    "pivot_wbm.plot(kind = 'bar' , x='weekday')"
   ]
  },
  {
   "cell_type": "code",
   "execution_count": 38,
   "id": "60fa31b1-a26b-4ac9-aecd-3a310d618ea2",
   "metadata": {},
   "outputs": [],
   "source": [
    "import folium"
   ]
  },
  {
   "cell_type": "code",
   "execution_count": 40,
   "id": "a73a8bec-e65d-4d98-afb5-d2f5c01be2c3",
   "metadata": {},
   "outputs": [],
   "source": [
    "from folium.plugins import HeatMap"
   ]
  },
  {
   "cell_type": "code",
   "execution_count": 42,
   "id": "bf846fd5-66d6-4f85-ac20-05f917359474",
   "metadata": {},
   "outputs": [],
   "source": [
    "m = folium.Map(location=[42.50 , -82.50] , zoom_start = 5)\n"
   ]
  },
  {
   "cell_type": "code",
   "execution_count": 44,
   "id": "dda1801d-d907-46ff-af9a-6ef150d519f4",
   "metadata": {},
   "outputs": [],
   "source": [
    "member_geo_data = df1[df1['member_casual']=='member']\n",
    "member_geo_data = member_geo_data[['start_lat' , 'start_lng']]"
   ]
  },
  {
   "cell_type": "code",
   "execution_count": 46,
   "id": "dfad1685-6a1e-4cbc-9d2e-07d7eadbe8d6",
   "metadata": {},
   "outputs": [
    {
     "data": {
      "text/html": [
       "<div>\n",
       "<style scoped>\n",
       "    .dataframe tbody tr th:only-of-type {\n",
       "        vertical-align: middle;\n",
       "    }\n",
       "\n",
       "    .dataframe tbody tr th {\n",
       "        vertical-align: top;\n",
       "    }\n",
       "\n",
       "    .dataframe thead th {\n",
       "        text-align: right;\n",
       "    }\n",
       "</style>\n",
       "<table border=\"1\" class=\"dataframe\">\n",
       "  <thead>\n",
       "    <tr style=\"text-align: right;\">\n",
       "      <th></th>\n",
       "      <th>start_lat</th>\n",
       "      <th>start_lng</th>\n",
       "    </tr>\n",
       "  </thead>\n",
       "  <tbody>\n",
       "    <tr>\n",
       "      <th>1</th>\n",
       "      <td>41.728032</td>\n",
       "      <td>-87.667597</td>\n",
       "    </tr>\n",
       "    <tr>\n",
       "      <th>2</th>\n",
       "      <td>41.877245</td>\n",
       "      <td>-87.639366</td>\n",
       "    </tr>\n",
       "    <tr>\n",
       "      <th>3</th>\n",
       "      <td>41.910142</td>\n",
       "      <td>-87.643504</td>\n",
       "    </tr>\n",
       "    <tr>\n",
       "      <th>4</th>\n",
       "      <td>41.909668</td>\n",
       "      <td>-87.648128</td>\n",
       "    </tr>\n",
       "    <tr>\n",
       "      <th>5</th>\n",
       "      <td>41.937582</td>\n",
       "      <td>-87.644098</td>\n",
       "    </tr>\n",
       "  </tbody>\n",
       "</table>\n",
       "</div>"
      ],
      "text/plain": [
       "   start_lat  start_lng\n",
       "1  41.728032 -87.667597\n",
       "2  41.877245 -87.639366\n",
       "3  41.910142 -87.643504\n",
       "4  41.909668 -87.648128\n",
       "5  41.937582 -87.644098"
      ]
     },
     "execution_count": 46,
     "metadata": {},
     "output_type": "execute_result"
    }
   ],
   "source": [
    "member_geo_data.head()"
   ]
  },
  {
   "cell_type": "code",
   "execution_count": 48,
   "id": "09aa8702-c5cf-4dc6-9841-1cae486e82dc",
   "metadata": {},
   "outputs": [
    {
     "data": {
      "text/plain": [
       "<folium.plugins.heat_map.HeatMap at 0x1750aca70>"
      ]
     },
     "execution_count": 48,
     "metadata": {},
     "output_type": "execute_result"
    }
   ],
   "source": [
    "HeatMap(member_geo_data).add_to(m)"
   ]
  },
  {
   "cell_type": "code",
   "execution_count": 50,
   "id": "30ebcfb4-3239-4acf-8f75-1e346d703c62",
   "metadata": {},
   "outputs": [],
   "source": [
    "m.save('heatmapmember-Februray.html')"
   ]
  },
  {
   "cell_type": "code",
   "execution_count": 52,
   "id": "4c7f1267-e9bc-4bed-a675-772c4e720662",
   "metadata": {},
   "outputs": [],
   "source": [
    "casual_geo_data = df1[df1['member_casual']=='casual']\n",
    "casual_geo_route = casual_geo_data[['start_lat' , 'start_lng' , 'end_lat' , 'end_lng']]\n",
    "casual_geo_data = casual_geo_data[['start_lat' , 'start_lng']]"
   ]
  },
  {
   "cell_type": "code",
   "execution_count": 68,
   "id": "02cf79f9-1659-4a61-b1a3-dc46f250dfb4",
   "metadata": {},
   "outputs": [],
   "source": [
    "m1 = folium.Map(location=[42.50 , -82.50] , zoom_start = 5)"
   ]
  },
  {
   "cell_type": "code",
   "execution_count": 70,
   "id": "7a816b82-9d73-4db4-ba23-67d44e2b5cd7",
   "metadata": {},
   "outputs": [
    {
     "data": {
      "text/plain": [
       "<folium.plugins.heat_map.HeatMap at 0x17de9fda0>"
      ]
     },
     "execution_count": 70,
     "metadata": {},
     "output_type": "execute_result"
    }
   ],
   "source": [
    "HeatMap(casual_geo_data).add_to(m1)"
   ]
  },
  {
   "cell_type": "code",
   "execution_count": 72,
   "id": "1eea8f84-cf36-417a-bc31-f8f1f1999328",
   "metadata": {},
   "outputs": [],
   "source": [
    "m1.save('heatmapcasual-February.html')"
   ]
  },
  {
   "cell_type": "code",
   "execution_count": 78,
   "id": "20cf73e2-928e-481f-a004-0582563f6c6a",
   "metadata": {},
   "outputs": [],
   "source": [
    "m2 = folium.Map(location=[42.50 , -82.50] , zoom_start = 5)"
   ]
  },
  {
   "cell_type": "code",
   "execution_count": 80,
   "id": "073b2ff9-ed21-4b2d-9b4a-3626e596b6c6",
   "metadata": {},
   "outputs": [
    {
     "data": {
      "text/html": [
       "<div>\n",
       "<style scoped>\n",
       "    .dataframe tbody tr th:only-of-type {\n",
       "        vertical-align: middle;\n",
       "    }\n",
       "\n",
       "    .dataframe tbody tr th {\n",
       "        vertical-align: top;\n",
       "    }\n",
       "\n",
       "    .dataframe thead th {\n",
       "        text-align: right;\n",
       "    }\n",
       "</style>\n",
       "<table border=\"1\" class=\"dataframe\">\n",
       "  <thead>\n",
       "    <tr style=\"text-align: right;\">\n",
       "      <th></th>\n",
       "      <th>start_lat</th>\n",
       "      <th>start_lng</th>\n",
       "      <th>end_lat</th>\n",
       "      <th>end_lng</th>\n",
       "    </tr>\n",
       "  </thead>\n",
       "  <tbody>\n",
       "    <tr>\n",
       "      <th>0</th>\n",
       "      <td>41.876268</td>\n",
       "      <td>-87.629155</td>\n",
       "      <td>41.876268</td>\n",
       "      <td>-87.629155</td>\n",
       "    </tr>\n",
       "    <tr>\n",
       "      <th>14</th>\n",
       "      <td>41.891847</td>\n",
       "      <td>-87.620580</td>\n",
       "      <td>41.891847</td>\n",
       "      <td>-87.620580</td>\n",
       "    </tr>\n",
       "    <tr>\n",
       "      <th>15</th>\n",
       "      <td>41.902309</td>\n",
       "      <td>-87.627691</td>\n",
       "      <td>41.902309</td>\n",
       "      <td>-87.627691</td>\n",
       "    </tr>\n",
       "    <tr>\n",
       "      <th>16</th>\n",
       "      <td>41.876665</td>\n",
       "      <td>-87.620483</td>\n",
       "      <td>41.876665</td>\n",
       "      <td>-87.620483</td>\n",
       "    </tr>\n",
       "    <tr>\n",
       "      <th>19</th>\n",
       "      <td>41.873061</td>\n",
       "      <td>-87.669135</td>\n",
       "      <td>41.873061</td>\n",
       "      <td>-87.669135</td>\n",
       "    </tr>\n",
       "  </tbody>\n",
       "</table>\n",
       "</div>"
      ],
      "text/plain": [
       "    start_lat  start_lng    end_lat    end_lng\n",
       "0   41.876268 -87.629155  41.876268 -87.629155\n",
       "14  41.891847 -87.620580  41.891847 -87.620580\n",
       "15  41.902309 -87.627691  41.902309 -87.627691\n",
       "16  41.876665 -87.620483  41.876665 -87.620483\n",
       "19  41.873061 -87.669135  41.873061 -87.669135"
      ]
     },
     "execution_count": 80,
     "metadata": {},
     "output_type": "execute_result"
    }
   ],
   "source": [
    "casual_geo_route.head()"
   ]
  },
  {
   "cell_type": "code",
   "execution_count": 82,
   "id": "3701e94c-a427-4f7e-a9bd-1e9766860e01",
   "metadata": {},
   "outputs": [],
   "source": [
    "casual_geo_route = casual_geo_route.dropna()\n",
    "for index in casual_geo_route.index:\n",
    "    route = [[casual_geo_route.loc[index, 'start_lat'] ,casual_geo_route.loc[index,'start_lng']] , [casual_geo_route.loc[index,'end_lat'], casual_geo_route.loc[index,'end_lng']]] \n",
    "    folium.PolyLine(locations = route , color='blue' , weight=0.3 , opacity = 0.2).add_to(m2)"
   ]
  },
  {
   "cell_type": "code",
   "execution_count": 84,
   "id": "f3563559-32d6-4d3f-baf6-b0cd45d943ff",
   "metadata": {},
   "outputs": [],
   "source": [
    "m2.save('routesCasual-February.html')"
   ]
  },
  {
   "cell_type": "code",
   "execution_count": 26,
   "id": "44de0693-cae4-4b8e-88c6-6782a84a66e2",
   "metadata": {},
   "outputs": [
    {
     "data": {
      "text/plain": [
       "([<matplotlib.axis.XTick at 0x1769584d0>,\n",
       "  <matplotlib.axis.XTick at 0x1769b86e0>,\n",
       "  <matplotlib.axis.XTick at 0x1769b9700>,\n",
       "  <matplotlib.axis.XTick at 0x157ff2e40>,\n",
       "  <matplotlib.axis.XTick at 0x157ff3800>,\n",
       "  <matplotlib.axis.XTick at 0x1768f7aa0>,\n",
       "  <matplotlib.axis.XTick at 0x1765a8260>,\n",
       "  <matplotlib.axis.XTick at 0x157ff1880>,\n",
       "  <matplotlib.axis.XTick at 0x158018c80>,\n",
       "  <matplotlib.axis.XTick at 0x158019610>,\n",
       "  <matplotlib.axis.XTick at 0x158019f40>,\n",
       "  <matplotlib.axis.XTick at 0x15801a810>,\n",
       "  <matplotlib.axis.XTick at 0x158019160>],\n",
       " [Text(0, 0, '0'),\n",
       "  Text(2, 0, '2'),\n",
       "  Text(4, 0, '4'),\n",
       "  Text(6, 0, '6'),\n",
       "  Text(8, 0, '8'),\n",
       "  Text(10, 0, '10'),\n",
       "  Text(12, 0, '12'),\n",
       "  Text(14, 0, '14'),\n",
       "  Text(16, 0, '16'),\n",
       "  Text(18, 0, '18'),\n",
       "  Text(20, 0, '20'),\n",
       "  Text(22, 0, '22'),\n",
       "  Text(24, 0, '24')])"
      ]
     },
     "execution_count": 26,
     "metadata": {},
     "output_type": "execute_result"
    },
    {
     "data": {
      "image/png": "[encoded data removed]",
      "text/plain": [
       "<Figure size 640x480 with 2 Axes>"
      ]
     },
     "metadata": {},
     "output_type": "display_data"
    }
   ],
   "source": [
    "df1.hist(column='start_time', bins=[0.0,1.0,2.0,3.0,4.0,5.0,6.0,7.0,8.0,9.0,10.0,11.0,12.0,13.0,14.0,15.0,16.0,17.0,18.0,19.0,20.0,21.0,22.0,23.0,24.0],density=True, by='member_casual')\n",
    "plt.xticks(ticks=[0,2,4,6,8,10,12,14,16,18,20,22,24])"
   ]
  },
  {
   "cell_type": "code",
   "execution_count": null,
   "id": "e6b32ae3-42bc-4530-a7d1-bd1c861468a8",
   "metadata": {},
   "outputs": [],
   "source": []
  }
 ],
 "metadata": {
  "kernelspec": {
   "display_name": "Python [conda env:base] *",
   "language": "python",
   "name": "conda-base-py"
  },
  "language_info": {
   "codemirror_mode": {
    "name": "ipython",
    "version": 3
   },
   "file_extension": ".py",
   "mimetype": "text/x-python",
   "name": "python",
   "nbconvert_exporter": "python",
   "pygments_lexer": "ipython3",
   "version": "3.12.2"
  }
 },
 "nbformat": 4,
 "nbformat_minor": 5
}
