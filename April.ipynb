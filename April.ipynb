{
 "cells": [
  {
   "cell_type": "code",
   "execution_count": 1,
   "id": "57ae6ae3-14c8-4fbb-b655-00a51c694081",
   "metadata": {},
   "outputs": [],
   "source": [
    "import pandas as pd"
   ]
  },
  {
   "cell_type": "code",
   "execution_count": 3,
   "id": "5c4b10b7-5561-4bbd-9459-2be263e31140",
   "metadata": {},
   "outputs": [],
   "source": [
    "df1 = pd.read_csv(\"202404-Cyclistic.csv\")"
   ]
  },
  {
   "cell_type": "code",
   "execution_count": 5,
   "id": "51b3f2ab-85ad-48dd-aad6-8221fa150eb3",
   "metadata": {
    "jupyter": {
     "source_hidden": true
    }
   },
   "outputs": [
    {
     "data": {
      "text/html": [
       "<div>\n",
       "<style scoped>\n",
       "    .dataframe tbody tr th:only-of-type {\n",
       "        vertical-align: middle;\n",
       "    }\n",
       "\n",
       "    .dataframe tbody tr th {\n",
       "        vertical-align: top;\n",
       "    }\n",
       "\n",
       "    .dataframe thead th {\n",
       "        text-align: right;\n",
       "    }\n",
       "</style>\n",
       "<table border=\"1\" class=\"dataframe\">\n",
       "  <thead>\n",
       "    <tr style=\"text-align: right;\">\n",
       "      <th></th>\n",
       "      <th>ride_id</th>\n",
       "      <th>rideable_type</th>\n",
       "      <th>started_at</th>\n",
       "      <th>ended_at</th>\n",
       "      <th>day_of_week</th>\n",
       "      <th>ride_length</th>\n",
       "      <th>start_station_name</th>\n",
       "      <th>start_station_id</th>\n",
       "      <th>end_station_name</th>\n",
       "      <th>end_station_id</th>\n",
       "      <th>start_lat</th>\n",
       "      <th>start_lng</th>\n",
       "      <th>end_lat</th>\n",
       "      <th>end_lng</th>\n",
       "      <th>member_casual</th>\n",
       "    </tr>\n",
       "  </thead>\n",
       "  <tbody>\n",
       "    <tr>\n",
       "      <th>0</th>\n",
       "      <td>1FAE97F15D20CEE6</td>\n",
       "      <td>electric_bike</td>\n",
       "      <td>4/24/24 7:33</td>\n",
       "      <td>4/24/24 7:33</td>\n",
       "      <td>4.0</td>\n",
       "      <td>31.0</td>\n",
       "      <td>Damen Ave &amp; Cortland St</td>\n",
       "      <td>13133</td>\n",
       "      <td>Damen Ave &amp; Cortland St</td>\n",
       "      <td>13133</td>\n",
       "      <td>41.915982</td>\n",
       "      <td>-87.677244</td>\n",
       "      <td>41.915983</td>\n",
       "      <td>-87.677335</td>\n",
       "      <td>member</td>\n",
       "    </tr>\n",
       "    <tr>\n",
       "      <th>1</th>\n",
       "      <td>A261455AC6AE0720</td>\n",
       "      <td>classic_bike</td>\n",
       "      <td>4/13/24 10:07</td>\n",
       "      <td>4/13/24 10:08</td>\n",
       "      <td>7.0</td>\n",
       "      <td>31.0</td>\n",
       "      <td>University Ave &amp; 57th St</td>\n",
       "      <td>KA1503000071</td>\n",
       "      <td>University Ave &amp; 57th St</td>\n",
       "      <td>KA1503000071</td>\n",
       "      <td>41.791478</td>\n",
       "      <td>-87.599861</td>\n",
       "      <td>41.791478</td>\n",
       "      <td>-87.599861</td>\n",
       "      <td>member</td>\n",
       "    </tr>\n",
       "    <tr>\n",
       "      <th>2</th>\n",
       "      <td>708D7EACB8D329D2</td>\n",
       "      <td>electric_bike</td>\n",
       "      <td>4/27/24 14:08</td>\n",
       "      <td>4/27/24 14:09</td>\n",
       "      <td>7.0</td>\n",
       "      <td>31.0</td>\n",
       "      <td>Clark St &amp; Leland Ave</td>\n",
       "      <td>TA1309000014</td>\n",
       "      <td>Clark St &amp; Leland Ave</td>\n",
       "      <td>TA1309000014</td>\n",
       "      <td>41.967186</td>\n",
       "      <td>-87.667456</td>\n",
       "      <td>41.967088</td>\n",
       "      <td>-87.667291</td>\n",
       "      <td>casual</td>\n",
       "    </tr>\n",
       "    <tr>\n",
       "      <th>3</th>\n",
       "      <td>CB14369547B84BB0</td>\n",
       "      <td>electric_bike</td>\n",
       "      <td>4/13/24 14:05</td>\n",
       "      <td>4/13/24 14:06</td>\n",
       "      <td>7.0</td>\n",
       "      <td>31.0</td>\n",
       "      <td>Dusable Harbor</td>\n",
       "      <td>KA1503000064</td>\n",
       "      <td>Dusable Harbor</td>\n",
       "      <td>KA1503000064</td>\n",
       "      <td>41.886877</td>\n",
       "      <td>-87.612840</td>\n",
       "      <td>41.886976</td>\n",
       "      <td>-87.612813</td>\n",
       "      <td>casual</td>\n",
       "    </tr>\n",
       "    <tr>\n",
       "      <th>4</th>\n",
       "      <td>6DF9AFDF095702F1</td>\n",
       "      <td>classic_bike</td>\n",
       "      <td>4/21/24 16:53</td>\n",
       "      <td>4/21/24 16:53</td>\n",
       "      <td>1.0</td>\n",
       "      <td>31.0</td>\n",
       "      <td>MLK Jr Dr &amp; 29th St</td>\n",
       "      <td>TA1307000139</td>\n",
       "      <td>MLK Jr Dr &amp; 29th St</td>\n",
       "      <td>TA1307000139</td>\n",
       "      <td>41.842052</td>\n",
       "      <td>-87.617000</td>\n",
       "      <td>41.842052</td>\n",
       "      <td>-87.617000</td>\n",
       "      <td>casual</td>\n",
       "    </tr>\n",
       "  </tbody>\n",
       "</table>\n",
       "</div>"
      ],
      "text/plain": [
       "            ride_id  rideable_type     started_at       ended_at  day_of_week  \\\n",
       "0  1FAE97F15D20CEE6  electric_bike   4/24/24 7:33   4/24/24 7:33          4.0   \n",
       "1  A261455AC6AE0720   classic_bike  4/13/24 10:07  4/13/24 10:08          7.0   \n",
       "2  708D7EACB8D329D2  electric_bike  4/27/24 14:08  4/27/24 14:09          7.0   \n",
       "3  CB14369547B84BB0  electric_bike  4/13/24 14:05  4/13/24 14:06          7.0   \n",
       "4  6DF9AFDF095702F1   classic_bike  4/21/24 16:53  4/21/24 16:53          1.0   \n",
       "\n",
       "   ride_length        start_station_name start_station_id  \\\n",
       "0         31.0   Damen Ave & Cortland St            13133   \n",
       "1         31.0  University Ave & 57th St     KA1503000071   \n",
       "2         31.0     Clark St & Leland Ave     TA1309000014   \n",
       "3         31.0            Dusable Harbor     KA1503000064   \n",
       "4         31.0       MLK Jr Dr & 29th St     TA1307000139   \n",
       "\n",
       "           end_station_name end_station_id  start_lat  start_lng    end_lat  \\\n",
       "0   Damen Ave & Cortland St          13133  41.915982 -87.677244  41.915983   \n",
       "1  University Ave & 57th St   KA1503000071  41.791478 -87.599861  41.791478   \n",
       "2     Clark St & Leland Ave   TA1309000014  41.967186 -87.667456  41.967088   \n",
       "3            Dusable Harbor   KA1503000064  41.886877 -87.612840  41.886976   \n",
       "4       MLK Jr Dr & 29th St   TA1307000139  41.842052 -87.617000  41.842052   \n",
       "\n",
       "     end_lng member_casual  \n",
       "0 -87.677335        member  \n",
       "1 -87.599861        member  \n",
       "2 -87.667291        casual  \n",
       "3 -87.612813        casual  \n",
       "4 -87.617000        casual  "
      ]
     },
     "execution_count": 5,
     "metadata": {},
     "output_type": "execute_result"
    }
   ],
   "source": [
    "df1.head()"
   ]
  },
  {
   "cell_type": "code",
   "execution_count": 7,
   "id": "d45de331-6446-4421-936b-cf607dc5a146",
   "metadata": {},
   "outputs": [],
   "source": [
    "import matplotlib.pyplot as plt"
   ]
  },
  {
   "cell_type": "code",
   "execution_count": 9,
   "id": "dd06e8cd-4473-4eac-95d3-24139d12f195",
   "metadata": {},
   "outputs": [],
   "source": [
    "df1_weekday_count = df1[['day_of_week','member_casual']].value_counts()"
   ]
  },
  {
   "cell_type": "code",
   "execution_count": 11,
   "id": "66fdc0e2-43f4-4643-8cb9-55d0cd30bc2e",
   "metadata": {},
   "outputs": [
    {
     "data": {
      "text/plain": [
       "day_of_week  member_casual\n",
       "3.0          member           54428\n",
       "2.0          member           49211\n",
       "7.0          member           37327\n",
       "5.0          member           36681\n",
       "4.0          member           36434\n",
       "6.0          member           33977\n",
       "1.0          member           30840\n",
       "7.0          casual           30259\n",
       "1.0          casual           24805\n",
       "2.0          casual           19538\n",
       "3.0          casual           18792\n",
       "6.0          casual           13943\n",
       "4.0          casual           11041\n",
       "5.0          casual           10799\n",
       "Name: count, dtype: int64"
      ]
     },
     "execution_count": 11,
     "metadata": {},
     "output_type": "execute_result"
    }
   ],
   "source": [
    "df1_weekday_count.head(14)"
   ]
  },
  {
   "cell_type": "code",
   "execution_count": 13,
   "id": "2653b132-ec6d-456d-b95c-9cbc71115ae6",
   "metadata": {},
   "outputs": [
    {
     "data": {
      "text/html": [
       "<div>\n",
       "<style scoped>\n",
       "    .dataframe tbody tr th:only-of-type {\n",
       "        vertical-align: middle;\n",
       "    }\n",
       "\n",
       "    .dataframe tbody tr th {\n",
       "        vertical-align: top;\n",
       "    }\n",
       "\n",
       "    .dataframe thead th {\n",
       "        text-align: right;\n",
       "    }\n",
       "</style>\n",
       "<table border=\"1\" class=\"dataframe\">\n",
       "  <thead>\n",
       "    <tr style=\"text-align: right;\">\n",
       "      <th></th>\n",
       "      <th>day_of_week</th>\n",
       "      <th>member_casual</th>\n",
       "      <th>count</th>\n",
       "    </tr>\n",
       "  </thead>\n",
       "  <tbody>\n",
       "    <tr>\n",
       "      <th>0</th>\n",
       "      <td>3.0</td>\n",
       "      <td>member</td>\n",
       "      <td>54428</td>\n",
       "    </tr>\n",
       "    <tr>\n",
       "      <th>1</th>\n",
       "      <td>2.0</td>\n",
       "      <td>member</td>\n",
       "      <td>49211</td>\n",
       "    </tr>\n",
       "    <tr>\n",
       "      <th>2</th>\n",
       "      <td>7.0</td>\n",
       "      <td>member</td>\n",
       "      <td>37327</td>\n",
       "    </tr>\n",
       "    <tr>\n",
       "      <th>3</th>\n",
       "      <td>5.0</td>\n",
       "      <td>member</td>\n",
       "      <td>36681</td>\n",
       "    </tr>\n",
       "    <tr>\n",
       "      <th>4</th>\n",
       "      <td>4.0</td>\n",
       "      <td>member</td>\n",
       "      <td>36434</td>\n",
       "    </tr>\n",
       "    <tr>\n",
       "      <th>5</th>\n",
       "      <td>6.0</td>\n",
       "      <td>member</td>\n",
       "      <td>33977</td>\n",
       "    </tr>\n",
       "    <tr>\n",
       "      <th>6</th>\n",
       "      <td>1.0</td>\n",
       "      <td>member</td>\n",
       "      <td>30840</td>\n",
       "    </tr>\n",
       "    <tr>\n",
       "      <th>7</th>\n",
       "      <td>7.0</td>\n",
       "      <td>casual</td>\n",
       "      <td>30259</td>\n",
       "    </tr>\n",
       "    <tr>\n",
       "      <th>8</th>\n",
       "      <td>1.0</td>\n",
       "      <td>casual</td>\n",
       "      <td>24805</td>\n",
       "    </tr>\n",
       "    <tr>\n",
       "      <th>9</th>\n",
       "      <td>2.0</td>\n",
       "      <td>casual</td>\n",
       "      <td>19538</td>\n",
       "    </tr>\n",
       "    <tr>\n",
       "      <th>10</th>\n",
       "      <td>3.0</td>\n",
       "      <td>casual</td>\n",
       "      <td>18792</td>\n",
       "    </tr>\n",
       "    <tr>\n",
       "      <th>11</th>\n",
       "      <td>6.0</td>\n",
       "      <td>casual</td>\n",
       "      <td>13943</td>\n",
       "    </tr>\n",
       "    <tr>\n",
       "      <th>12</th>\n",
       "      <td>4.0</td>\n",
       "      <td>casual</td>\n",
       "      <td>11041</td>\n",
       "    </tr>\n",
       "    <tr>\n",
       "      <th>13</th>\n",
       "      <td>5.0</td>\n",
       "      <td>casual</td>\n",
       "      <td>10799</td>\n",
       "    </tr>\n",
       "  </tbody>\n",
       "</table>\n",
       "</div>"
      ],
      "text/plain": [
       "    day_of_week member_casual  count\n",
       "0           3.0        member  54428\n",
       "1           2.0        member  49211\n",
       "2           7.0        member  37327\n",
       "3           5.0        member  36681\n",
       "4           4.0        member  36434\n",
       "5           6.0        member  33977\n",
       "6           1.0        member  30840\n",
       "7           7.0        casual  30259\n",
       "8           1.0        casual  24805\n",
       "9           2.0        casual  19538\n",
       "10          3.0        casual  18792\n",
       "11          6.0        casual  13943\n",
       "12          4.0        casual  11041\n",
       "13          5.0        casual  10799"
      ]
     },
     "execution_count": 13,
     "metadata": {},
     "output_type": "execute_result"
    }
   ],
   "source": [
    "weekday_count_df = df1_weekday_count.reset_index()\n",
    "weekday_count_df.columns = ['day_of_week', 'member_casual' , 'count']\n",
    "weekday_count_df.head(15)"
   ]
  },
  {
   "cell_type": "code",
   "execution_count": 15,
   "id": "663c03b3-3c51-4056-9019-5934aca42841",
   "metadata": {},
   "outputs": [
    {
     "data": {
      "text/html": [
       "<div>\n",
       "<style scoped>\n",
       "    .dataframe tbody tr th:only-of-type {\n",
       "        vertical-align: middle;\n",
       "    }\n",
       "\n",
       "    .dataframe tbody tr th {\n",
       "        vertical-align: top;\n",
       "    }\n",
       "\n",
       "    .dataframe thead th {\n",
       "        text-align: right;\n",
       "    }\n",
       "</style>\n",
       "<table border=\"1\" class=\"dataframe\">\n",
       "  <thead>\n",
       "    <tr style=\"text-align: right;\">\n",
       "      <th>member_casual</th>\n",
       "      <th>casual</th>\n",
       "      <th>member</th>\n",
       "    </tr>\n",
       "    <tr>\n",
       "      <th>day_of_week</th>\n",
       "      <th></th>\n",
       "      <th></th>\n",
       "    </tr>\n",
       "  </thead>\n",
       "  <tbody>\n",
       "    <tr>\n",
       "      <th>1.0</th>\n",
       "      <td>24805.0</td>\n",
       "      <td>30840.0</td>\n",
       "    </tr>\n",
       "    <tr>\n",
       "      <th>2.0</th>\n",
       "      <td>19538.0</td>\n",
       "      <td>49211.0</td>\n",
       "    </tr>\n",
       "    <tr>\n",
       "      <th>3.0</th>\n",
       "      <td>18792.0</td>\n",
       "      <td>54428.0</td>\n",
       "    </tr>\n",
       "    <tr>\n",
       "      <th>4.0</th>\n",
       "      <td>11041.0</td>\n",
       "      <td>36434.0</td>\n",
       "    </tr>\n",
       "    <tr>\n",
       "      <th>5.0</th>\n",
       "      <td>10799.0</td>\n",
       "      <td>36681.0</td>\n",
       "    </tr>\n",
       "    <tr>\n",
       "      <th>6.0</th>\n",
       "      <td>13943.0</td>\n",
       "      <td>33977.0</td>\n",
       "    </tr>\n",
       "    <tr>\n",
       "      <th>7.0</th>\n",
       "      <td>30259.0</td>\n",
       "      <td>37327.0</td>\n",
       "    </tr>\n",
       "  </tbody>\n",
       "</table>\n",
       "</div>"
      ],
      "text/plain": [
       "member_casual   casual   member\n",
       "day_of_week                    \n",
       "1.0            24805.0  30840.0\n",
       "2.0            19538.0  49211.0\n",
       "3.0            18792.0  54428.0\n",
       "4.0            11041.0  36434.0\n",
       "5.0            10799.0  36681.0\n",
       "6.0            13943.0  33977.0\n",
       "7.0            30259.0  37327.0"
      ]
     },
     "execution_count": 15,
     "metadata": {},
     "output_type": "execute_result"
    }
   ],
   "source": [
    "pivot_df1 = weekday_count_df.pivot_table(index='day_of_week' , columns='member_casual' , values='count')\n",
    "pivot_df1"
   ]
  },
  {
   "cell_type": "code",
   "execution_count": 17,
   "id": "16563100-39df-4a27-b150-ce40d9efd747",
   "metadata": {},
   "outputs": [],
   "source": [
    "weekday=['Sunday' , 'Monday' , 'Tuesday' , 'Wednesday' , 'Thursday' , 'Friday' , 'Saturday'] \n",
    "pivot_df1['weekday'] = weekday"
   ]
  },
  {
   "cell_type": "code",
   "execution_count": 19,
   "id": "dcbba395-ee7e-46ab-9ca7-673b7fb42a06",
   "metadata": {},
   "outputs": [
    {
     "data": {
      "text/plain": [
       "<Axes: xlabel='weekday'>"
      ]
     },
     "execution_count": 19,
     "metadata": {},
     "output_type": "execute_result"
    },
    {
     "data": {
      "image/png": "[encoded data removed]",
      "text/plain": [
       "<Figure size 640x480 with 1 Axes>"
      ]
     },
     "metadata": {},
     "output_type": "display_data"
    }
   ],
   "source": [
    "pivot_df1.plot(kind='bar' , x='weekday')"
   ]
  },
  {
   "cell_type": "code",
   "execution_count": 21,
   "id": "26334bcb-5bb9-4ea2-aac2-dcd6e97fe02f",
   "metadata": {},
   "outputs": [
    {
     "data": {
      "image/png": "[encoded data removed]",
      "text/plain": [
       "<Figure size 640x480 with 2 Axes>"
      ]
     },
     "metadata": {},
     "output_type": "display_data"
    }
   ],
   "source": [
    "df1.hist(column='ride_length', bins=[30,120,300,600,1800,3600,10800,36000], by='member_casual')\n",
    "plt.show()"
   ]
  },
  {
   "cell_type": "code",
   "execution_count": 23,
   "id": "30ee7ad4-680f-44c7-9ffe-c809334eff9e",
   "metadata": {},
   "outputs": [],
   "source": [
    "df1_weekday_bike_membership = df1[['day_of_week','member_casual' , 'rideable_type']].value_counts()"
   ]
  },
  {
   "cell_type": "code",
   "execution_count": 25,
   "id": "8d0b1fb3-96c3-4988-aa98-e2e6f81dc683",
   "metadata": {},
   "outputs": [],
   "source": [
    "weekday_bike_membership = df1_weekday_bike_membership.reset_index()"
   ]
  },
  {
   "cell_type": "code",
   "execution_count": 27,
   "id": "a6c51c71-d857-4dde-82d4-a62a565c70d4",
   "metadata": {},
   "outputs": [],
   "source": [
    "weekday_bike_membership.columns = ['day_of_week' , 'member_casual' , 'rideable_type' , 'count']"
   ]
  },
  {
   "cell_type": "code",
   "execution_count": 29,
   "id": "617f1c9f-e755-4eb9-a5c6-e07a2b1a550a",
   "metadata": {},
   "outputs": [],
   "source": [
    "pivot_wbm = weekday_bike_membership.pivot_table(index = 'day_of_week' , columns = ['member_casual' , 'rideable_type'] , values = 'count')"
   ]
  },
  {
   "cell_type": "code",
   "execution_count": 31,
   "id": "2b10a0db-99e5-49ef-b5a6-ac48177b714c",
   "metadata": {},
   "outputs": [],
   "source": [
    "weekday=['Sunday' , 'Monday' , 'Tuesday' , 'Wednesday' , 'Thursday' , 'Friday' , 'Saturday'] \n",
    "pivot_wbm['weekday'] = weekday"
   ]
  },
  {
   "cell_type": "code",
   "execution_count": 33,
   "id": "00d70c61-600b-4822-a47f-79b26a17cb72",
   "metadata": {},
   "outputs": [
    {
     "data": {
      "text/plain": [
       "<Axes: xlabel='weekday'>"
      ]
     },
     "execution_count": 33,
     "metadata": {},
     "output_type": "execute_result"
    },
    {
     "data": {
      "image/png": "[encoded data removed]",
      "text/plain": [
       "<Figure size 640x480 with 1 Axes>"
      ]
     },
     "metadata": {},
     "output_type": "display_data"
    }
   ],
   "source": [
    "pivot_wbm.plot(kind = 'bar' , x='weekday')"
   ]
  },
  {
   "cell_type": "code",
   "execution_count": 35,
   "id": "562e968e-5729-46a9-bafe-17603d25f4ff",
   "metadata": {},
   "outputs": [],
   "source": [
    "import folium"
   ]
  },
  {
   "cell_type": "code",
   "execution_count": 37,
   "id": "3fed5eb5-648c-49ed-98a8-64ae41810fc2",
   "metadata": {},
   "outputs": [],
   "source": [
    "from folium.plugins import HeatMap"
   ]
  },
  {
   "cell_type": "code",
   "execution_count": 39,
   "id": "ab4dfe24-46c5-4ad9-93fe-a6e9fcd44268",
   "metadata": {},
   "outputs": [],
   "source": [
    "m = folium.Map(location=[42.50 , -82.50] , zoom_start = 5)\n"
   ]
  },
  {
   "cell_type": "code",
   "execution_count": 41,
   "id": "8c9b9abf-020e-4e15-9f0d-8c80c67540ab",
   "metadata": {},
   "outputs": [],
   "source": [
    "member_geo_data = df1[df1['member_casual']=='member']\n",
    "member_geo_data = member_geo_data[['start_lat' , 'start_lng']]"
   ]
  },
  {
   "cell_type": "code",
   "execution_count": 43,
   "id": "40b905a7-772c-4c86-9d77-7e775ec0337f",
   "metadata": {},
   "outputs": [
    {
     "data": {
      "text/html": [
       "<div>\n",
       "<style scoped>\n",
       "    .dataframe tbody tr th:only-of-type {\n",
       "        vertical-align: middle;\n",
       "    }\n",
       "\n",
       "    .dataframe tbody tr th {\n",
       "        vertical-align: top;\n",
       "    }\n",
       "\n",
       "    .dataframe thead th {\n",
       "        text-align: right;\n",
       "    }\n",
       "</style>\n",
       "<table border=\"1\" class=\"dataframe\">\n",
       "  <thead>\n",
       "    <tr style=\"text-align: right;\">\n",
       "      <th></th>\n",
       "      <th>start_lat</th>\n",
       "      <th>start_lng</th>\n",
       "    </tr>\n",
       "  </thead>\n",
       "  <tbody>\n",
       "    <tr>\n",
       "      <th>0</th>\n",
       "      <td>41.915982</td>\n",
       "      <td>-87.677244</td>\n",
       "    </tr>\n",
       "    <tr>\n",
       "      <th>1</th>\n",
       "      <td>41.791478</td>\n",
       "      <td>-87.599861</td>\n",
       "    </tr>\n",
       "    <tr>\n",
       "      <th>5</th>\n",
       "      <td>41.889177</td>\n",
       "      <td>-87.638506</td>\n",
       "    </tr>\n",
       "    <tr>\n",
       "      <th>7</th>\n",
       "      <td>41.910558</td>\n",
       "      <td>-87.689599</td>\n",
       "    </tr>\n",
       "    <tr>\n",
       "      <th>8</th>\n",
       "      <td>41.891208</td>\n",
       "      <td>-87.626730</td>\n",
       "    </tr>\n",
       "  </tbody>\n",
       "</table>\n",
       "</div>"
      ],
      "text/plain": [
       "   start_lat  start_lng\n",
       "0  41.915982 -87.677244\n",
       "1  41.791478 -87.599861\n",
       "5  41.889177 -87.638506\n",
       "7  41.910558 -87.689599\n",
       "8  41.891208 -87.626730"
      ]
     },
     "execution_count": 43,
     "metadata": {},
     "output_type": "execute_result"
    }
   ],
   "source": [
    "member_geo_data.head()"
   ]
  },
  {
   "cell_type": "code",
   "execution_count": 45,
   "id": "89bb90b6-4963-41a7-aea9-ba0773357fa4",
   "metadata": {},
   "outputs": [
    {
     "data": {
      "text/plain": [
       "<folium.plugins.heat_map.HeatMap at 0x14a482600>"
      ]
     },
     "execution_count": 45,
     "metadata": {},
     "output_type": "execute_result"
    }
   ],
   "source": [
    "HeatMap(member_geo_data).add_to(m)"
   ]
  },
  {
   "cell_type": "code",
   "execution_count": 47,
   "id": "12bfb213-8818-4608-a860-032406f629f4",
   "metadata": {},
   "outputs": [],
   "source": [
    "m.save('heatmapmember-April.html')"
   ]
  },
  {
   "cell_type": "code",
   "execution_count": 49,
   "id": "beace715-3202-4404-9681-9002ef6e918b",
   "metadata": {},
   "outputs": [],
   "source": [
    "casual_geo_data = df1[df1['member_casual']=='casual']\n",
    "casual_geo_route = casual_geo_data[['start_lat' , 'start_lng' , 'end_lat' , 'end_lng']]\n",
    "casual_geo_data = casual_geo_data[['start_lat' , 'start_lng']]"
   ]
  },
  {
   "cell_type": "code",
   "execution_count": 51,
   "id": "a6909112-8cf2-402d-aaa7-d68364aeaee8",
   "metadata": {},
   "outputs": [],
   "source": [
    "m1 = folium.Map(location=[42.50 , -82.50] , zoom_start = 5)"
   ]
  },
  {
   "cell_type": "code",
   "execution_count": 53,
   "id": "658b3e41-c3cd-484f-a1ed-dd7ee3b9a0b6",
   "metadata": {},
   "outputs": [
    {
     "data": {
      "text/plain": [
       "<folium.plugins.heat_map.HeatMap at 0x13822a7e0>"
      ]
     },
     "execution_count": 53,
     "metadata": {},
     "output_type": "execute_result"
    }
   ],
   "source": [
    "HeatMap(casual_geo_data).add_to(m1)"
   ]
  },
  {
   "cell_type": "code",
   "execution_count": 55,
   "id": "a0221979-2f26-4d07-bca2-e5bdc311f65d",
   "metadata": {},
   "outputs": [],
   "source": [
    "m1.save('heatmapcasual-April.html')"
   ]
  },
  {
   "cell_type": "code",
   "execution_count": 57,
   "id": "4720f953-881c-409f-95c4-deeb6e2863d1",
   "metadata": {},
   "outputs": [],
   "source": [
    "m2 = folium.Map(location=[42.50 , -82.50] , zoom_start = 5)"
   ]
  },
  {
   "cell_type": "code",
   "execution_count": 59,
   "id": "397cd1c1-06b8-4309-97a3-1f181a7b84d6",
   "metadata": {},
   "outputs": [
    {
     "data": {
      "text/html": [
       "<div>\n",
       "<style scoped>\n",
       "    .dataframe tbody tr th:only-of-type {\n",
       "        vertical-align: middle;\n",
       "    }\n",
       "\n",
       "    .dataframe tbody tr th {\n",
       "        vertical-align: top;\n",
       "    }\n",
       "\n",
       "    .dataframe thead th {\n",
       "        text-align: right;\n",
       "    }\n",
       "</style>\n",
       "<table border=\"1\" class=\"dataframe\">\n",
       "  <thead>\n",
       "    <tr style=\"text-align: right;\">\n",
       "      <th></th>\n",
       "      <th>start_lat</th>\n",
       "      <th>start_lng</th>\n",
       "      <th>end_lat</th>\n",
       "      <th>end_lng</th>\n",
       "    </tr>\n",
       "  </thead>\n",
       "  <tbody>\n",
       "    <tr>\n",
       "      <th>2</th>\n",
       "      <td>41.967186</td>\n",
       "      <td>-87.667456</td>\n",
       "      <td>41.967088</td>\n",
       "      <td>-87.667291</td>\n",
       "    </tr>\n",
       "    <tr>\n",
       "      <th>3</th>\n",
       "      <td>41.886877</td>\n",
       "      <td>-87.612840</td>\n",
       "      <td>41.886976</td>\n",
       "      <td>-87.612813</td>\n",
       "    </tr>\n",
       "    <tr>\n",
       "      <th>4</th>\n",
       "      <td>41.842052</td>\n",
       "      <td>-87.617000</td>\n",
       "      <td>41.842052</td>\n",
       "      <td>-87.617000</td>\n",
       "    </tr>\n",
       "    <tr>\n",
       "      <th>6</th>\n",
       "      <td>41.880941</td>\n",
       "      <td>-87.616777</td>\n",
       "      <td>41.880958</td>\n",
       "      <td>-87.616743</td>\n",
       "    </tr>\n",
       "    <tr>\n",
       "      <th>9</th>\n",
       "      <td>41.880958</td>\n",
       "      <td>-87.616743</td>\n",
       "      <td>41.880958</td>\n",
       "      <td>-87.616743</td>\n",
       "    </tr>\n",
       "  </tbody>\n",
       "</table>\n",
       "</div>"
      ],
      "text/plain": [
       "   start_lat  start_lng    end_lat    end_lng\n",
       "2  41.967186 -87.667456  41.967088 -87.667291\n",
       "3  41.886877 -87.612840  41.886976 -87.612813\n",
       "4  41.842052 -87.617000  41.842052 -87.617000\n",
       "6  41.880941 -87.616777  41.880958 -87.616743\n",
       "9  41.880958 -87.616743  41.880958 -87.616743"
      ]
     },
     "execution_count": 59,
     "metadata": {},
     "output_type": "execute_result"
    }
   ],
   "source": [
    "casual_geo_route.head()"
   ]
  },
  {
   "cell_type": "code",
   "execution_count": 61,
   "id": "5c65e671-48ce-46ba-b33b-fe16118005f4",
   "metadata": {},
   "outputs": [],
   "source": [
    "casual_geo_route = casual_geo_route.dropna()\n",
    "for index in casual_geo_route.index:\n",
    "    route = [[casual_geo_route.loc[index, 'start_lat'] ,casual_geo_route.loc[index,'start_lng']] , [casual_geo_route.loc[index,'end_lat'], casual_geo_route.loc[index,'end_lng']]] \n",
    "    folium.PolyLine(locations = route , color='blue' , weight=0.5 , opacity = 0.4).add_to(m2)"
   ]
  },
  {
   "cell_type": "code",
   "execution_count": 63,
   "id": "49ac8ed3-a37b-4c1c-9b31-7542e5e768a3",
   "metadata": {},
   "outputs": [],
   "source": [
    "m2.save('routesCasual-April.html')"
   ]
  },
  {
   "cell_type": "code",
   "execution_count": null,
   "id": "2bc6dd51-b895-4d24-ab65-7a8a39f5299f",
   "metadata": {},
   "outputs": [],
   "source": []
  }
 ],
 "metadata": {
  "kernelspec": {
   "display_name": "Python [conda env:base] *",
   "language": "python",
   "name": "conda-base-py"
  },
  "language_info": {
   "codemirror_mode": {
    "name": "ipython",
    "version": 3
   },
   "file_extension": ".py",
   "mimetype": "text/x-python",
   "name": "python",
   "nbconvert_exporter": "python",
   "pygments_lexer": "ipython3",
   "version": "3.12.2"
  }
 },
 "nbformat": 4,
 "nbformat_minor": 5
}
