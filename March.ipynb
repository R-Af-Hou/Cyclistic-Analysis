{
 "cells": [
  {
   "cell_type": "code",
   "execution_count": 2,
   "id": "f422a4d4-81e5-4750-befc-389eaf32f100",
   "metadata": {},
   "outputs": [],
   "source": [
    "import pandas as pd"
   ]
  },
  {
   "cell_type": "code",
   "execution_count": 4,
   "id": "ae3ebb3e-475c-47c3-8729-113386b6197d",
   "metadata": {},
   "outputs": [],
   "source": [
    "df1 = pd.read_csv(\"202403-Cyclistic.csv\")"
   ]
  },
  {
   "cell_type": "code",
   "execution_count": 6,
   "id": "c5b60b6a-d1af-4941-b288-6599656e0d10",
   "metadata": {
    "jupyter": {
     "source_hidden": true
    }
   },
   "outputs": [
    {
     "data": {
      "text/html": [
       "<div>\n",
       "<style scoped>\n",
       "    .dataframe tbody tr th:only-of-type {\n",
       "        vertical-align: middle;\n",
       "    }\n",
       "\n",
       "    .dataframe tbody tr th {\n",
       "        vertical-align: top;\n",
       "    }\n",
       "\n",
       "    .dataframe thead th {\n",
       "        text-align: right;\n",
       "    }\n",
       "</style>\n",
       "<table border=\"1\" class=\"dataframe\">\n",
       "  <thead>\n",
       "    <tr style=\"text-align: right;\">\n",
       "      <th></th>\n",
       "      <th>ride_id</th>\n",
       "      <th>rideable_type</th>\n",
       "      <th>started_at</th>\n",
       "      <th>ended_at</th>\n",
       "      <th>day_of_week</th>\n",
       "      <th>ride_length</th>\n",
       "      <th>start_station_name</th>\n",
       "      <th>start_station_id</th>\n",
       "      <th>end_station_name</th>\n",
       "      <th>end_station_id</th>\n",
       "      <th>start_lat</th>\n",
       "      <th>start_lng</th>\n",
       "      <th>end_lat</th>\n",
       "      <th>end_lng</th>\n",
       "      <th>member_casual</th>\n",
       "      <th>Unnamed: 15</th>\n",
       "    </tr>\n",
       "  </thead>\n",
       "  <tbody>\n",
       "    <tr>\n",
       "      <th>0</th>\n",
       "      <td>9F3D0A2D98D84F32</td>\n",
       "      <td>electric_bike</td>\n",
       "      <td>3/13/24 14:15</td>\n",
       "      <td>3/13/24 14:15</td>\n",
       "      <td>4</td>\n",
       "      <td>31</td>\n",
       "      <td>NaN</td>\n",
       "      <td>NaN</td>\n",
       "      <td>NaN</td>\n",
       "      <td>NaN</td>\n",
       "      <td>41.97</td>\n",
       "      <td>-87.69</td>\n",
       "      <td>41.97</td>\n",
       "      <td>-87.69</td>\n",
       "      <td>casual</td>\n",
       "      <td>NaN</td>\n",
       "    </tr>\n",
       "    <tr>\n",
       "      <th>1</th>\n",
       "      <td>FAEE7A0555139F1B</td>\n",
       "      <td>electric_bike</td>\n",
       "      <td>3/13/24 21:33</td>\n",
       "      <td>3/13/24 21:33</td>\n",
       "      <td>4</td>\n",
       "      <td>31</td>\n",
       "      <td>NaN</td>\n",
       "      <td>NaN</td>\n",
       "      <td>NaN</td>\n",
       "      <td>NaN</td>\n",
       "      <td>41.89</td>\n",
       "      <td>-87.66</td>\n",
       "      <td>41.89</td>\n",
       "      <td>-87.66</td>\n",
       "      <td>casual</td>\n",
       "      <td>NaN</td>\n",
       "    </tr>\n",
       "    <tr>\n",
       "      <th>2</th>\n",
       "      <td>82C6C941E1474A75</td>\n",
       "      <td>electric_bike</td>\n",
       "      <td>3/2/24 13:08</td>\n",
       "      <td>3/2/24 13:09</td>\n",
       "      <td>7</td>\n",
       "      <td>31</td>\n",
       "      <td>NaN</td>\n",
       "      <td>NaN</td>\n",
       "      <td>NaN</td>\n",
       "      <td>NaN</td>\n",
       "      <td>41.92</td>\n",
       "      <td>-87.65</td>\n",
       "      <td>41.92</td>\n",
       "      <td>-87.65</td>\n",
       "      <td>member</td>\n",
       "      <td>NaN</td>\n",
       "    </tr>\n",
       "    <tr>\n",
       "      <th>3</th>\n",
       "      <td>105D379F4E661F45</td>\n",
       "      <td>electric_bike</td>\n",
       "      <td>3/13/24 20:29</td>\n",
       "      <td>3/13/24 20:30</td>\n",
       "      <td>4</td>\n",
       "      <td>31</td>\n",
       "      <td>NaN</td>\n",
       "      <td>NaN</td>\n",
       "      <td>NaN</td>\n",
       "      <td>NaN</td>\n",
       "      <td>41.97</td>\n",
       "      <td>-87.69</td>\n",
       "      <td>41.97</td>\n",
       "      <td>-87.69</td>\n",
       "      <td>member</td>\n",
       "      <td>NaN</td>\n",
       "    </tr>\n",
       "    <tr>\n",
       "      <th>4</th>\n",
       "      <td>050D438E62E5E6BD</td>\n",
       "      <td>electric_bike</td>\n",
       "      <td>3/3/24 11:03</td>\n",
       "      <td>3/3/24 11:03</td>\n",
       "      <td>1</td>\n",
       "      <td>31</td>\n",
       "      <td>NaN</td>\n",
       "      <td>NaN</td>\n",
       "      <td>NaN</td>\n",
       "      <td>NaN</td>\n",
       "      <td>41.71</td>\n",
       "      <td>-87.61</td>\n",
       "      <td>41.71</td>\n",
       "      <td>-87.61</td>\n",
       "      <td>casual</td>\n",
       "      <td>NaN</td>\n",
       "    </tr>\n",
       "  </tbody>\n",
       "</table>\n",
       "</div>"
      ],
      "text/plain": [
       "            ride_id  rideable_type     started_at       ended_at  day_of_week  \\\n",
       "0  9F3D0A2D98D84F32  electric_bike  3/13/24 14:15  3/13/24 14:15            4   \n",
       "1  FAEE7A0555139F1B  electric_bike  3/13/24 21:33  3/13/24 21:33            4   \n",
       "2  82C6C941E1474A75  electric_bike   3/2/24 13:08   3/2/24 13:09            7   \n",
       "3  105D379F4E661F45  electric_bike  3/13/24 20:29  3/13/24 20:30            4   \n",
       "4  050D438E62E5E6BD  electric_bike   3/3/24 11:03   3/3/24 11:03            1   \n",
       "\n",
       "   ride_length start_station_name start_station_id end_station_name  \\\n",
       "0           31                NaN              NaN              NaN   \n",
       "1           31                NaN              NaN              NaN   \n",
       "2           31                NaN              NaN              NaN   \n",
       "3           31                NaN              NaN              NaN   \n",
       "4           31                NaN              NaN              NaN   \n",
       "\n",
       "  end_station_id  start_lat  start_lng  end_lat  end_lng member_casual  \\\n",
       "0            NaN      41.97     -87.69    41.97   -87.69        casual   \n",
       "1            NaN      41.89     -87.66    41.89   -87.66        casual   \n",
       "2            NaN      41.92     -87.65    41.92   -87.65        member   \n",
       "3            NaN      41.97     -87.69    41.97   -87.69        member   \n",
       "4            NaN      41.71     -87.61    41.71   -87.61        casual   \n",
       "\n",
       "   Unnamed: 15  \n",
       "0          NaN  \n",
       "1          NaN  \n",
       "2          NaN  \n",
       "3          NaN  \n",
       "4          NaN  "
      ]
     },
     "execution_count": 6,
     "metadata": {},
     "output_type": "execute_result"
    }
   ],
   "source": [
    "df1.head()"
   ]
  },
  {
   "cell_type": "code",
   "execution_count": 8,
   "id": "c7e80fa0-c2f7-4fe8-8126-1ce1ba671fc1",
   "metadata": {},
   "outputs": [],
   "source": [
    "import matplotlib.pyplot as plt"
   ]
  },
  {
   "cell_type": "code",
   "execution_count": 10,
   "id": "c4ee610f-73af-4313-a310-0aaada9ac89d",
   "metadata": {},
   "outputs": [],
   "source": [
    "df1_weekday_count = df1[['day_of_week','member_casual']].value_counts()"
   ]
  },
  {
   "cell_type": "code",
   "execution_count": 12,
   "id": "1d9d5a81-6b60-4381-895e-35ed37645adf",
   "metadata": {},
   "outputs": [
    {
     "data": {
      "text/plain": [
       "day_of_week  member_casual\n",
       "3            member           34225\n",
       "4            member           33212\n",
       "2            member           32394\n",
       "7            member           32139\n",
       "5            member           30087\n",
       "6            member           28148\n",
       "1            member           25813\n",
       "7            casual           19666\n",
       "1            casual           14643\n",
       "2            casual           10188\n",
       "3            casual            9734\n",
       "6            casual            9576\n",
       "4            casual            8868\n",
       "5            casual            8569\n",
       "Name: count, dtype: int64"
      ]
     },
     "execution_count": 12,
     "metadata": {},
     "output_type": "execute_result"
    }
   ],
   "source": [
    "df1_weekday_count.head(14)"
   ]
  },
  {
   "cell_type": "code",
   "execution_count": 14,
   "id": "e9875cec-78b8-41cd-b077-449d8fbe0ead",
   "metadata": {},
   "outputs": [
    {
     "data": {
      "text/html": [
       "<div>\n",
       "<style scoped>\n",
       "    .dataframe tbody tr th:only-of-type {\n",
       "        vertical-align: middle;\n",
       "    }\n",
       "\n",
       "    .dataframe tbody tr th {\n",
       "        vertical-align: top;\n",
       "    }\n",
       "\n",
       "    .dataframe thead th {\n",
       "        text-align: right;\n",
       "    }\n",
       "</style>\n",
       "<table border=\"1\" class=\"dataframe\">\n",
       "  <thead>\n",
       "    <tr style=\"text-align: right;\">\n",
       "      <th></th>\n",
       "      <th>day_of_week</th>\n",
       "      <th>member_casual</th>\n",
       "      <th>count</th>\n",
       "    </tr>\n",
       "  </thead>\n",
       "  <tbody>\n",
       "    <tr>\n",
       "      <th>0</th>\n",
       "      <td>3</td>\n",
       "      <td>member</td>\n",
       "      <td>34225</td>\n",
       "    </tr>\n",
       "    <tr>\n",
       "      <th>1</th>\n",
       "      <td>4</td>\n",
       "      <td>member</td>\n",
       "      <td>33212</td>\n",
       "    </tr>\n",
       "    <tr>\n",
       "      <th>2</th>\n",
       "      <td>2</td>\n",
       "      <td>member</td>\n",
       "      <td>32394</td>\n",
       "    </tr>\n",
       "    <tr>\n",
       "      <th>3</th>\n",
       "      <td>7</td>\n",
       "      <td>member</td>\n",
       "      <td>32139</td>\n",
       "    </tr>\n",
       "    <tr>\n",
       "      <th>4</th>\n",
       "      <td>5</td>\n",
       "      <td>member</td>\n",
       "      <td>30087</td>\n",
       "    </tr>\n",
       "    <tr>\n",
       "      <th>5</th>\n",
       "      <td>6</td>\n",
       "      <td>member</td>\n",
       "      <td>28148</td>\n",
       "    </tr>\n",
       "    <tr>\n",
       "      <th>6</th>\n",
       "      <td>1</td>\n",
       "      <td>member</td>\n",
       "      <td>25813</td>\n",
       "    </tr>\n",
       "    <tr>\n",
       "      <th>7</th>\n",
       "      <td>7</td>\n",
       "      <td>casual</td>\n",
       "      <td>19666</td>\n",
       "    </tr>\n",
       "    <tr>\n",
       "      <th>8</th>\n",
       "      <td>1</td>\n",
       "      <td>casual</td>\n",
       "      <td>14643</td>\n",
       "    </tr>\n",
       "    <tr>\n",
       "      <th>9</th>\n",
       "      <td>2</td>\n",
       "      <td>casual</td>\n",
       "      <td>10188</td>\n",
       "    </tr>\n",
       "    <tr>\n",
       "      <th>10</th>\n",
       "      <td>3</td>\n",
       "      <td>casual</td>\n",
       "      <td>9734</td>\n",
       "    </tr>\n",
       "    <tr>\n",
       "      <th>11</th>\n",
       "      <td>6</td>\n",
       "      <td>casual</td>\n",
       "      <td>9576</td>\n",
       "    </tr>\n",
       "    <tr>\n",
       "      <th>12</th>\n",
       "      <td>4</td>\n",
       "      <td>casual</td>\n",
       "      <td>8868</td>\n",
       "    </tr>\n",
       "    <tr>\n",
       "      <th>13</th>\n",
       "      <td>5</td>\n",
       "      <td>casual</td>\n",
       "      <td>8569</td>\n",
       "    </tr>\n",
       "  </tbody>\n",
       "</table>\n",
       "</div>"
      ],
      "text/plain": [
       "    day_of_week member_casual  count\n",
       "0             3        member  34225\n",
       "1             4        member  33212\n",
       "2             2        member  32394\n",
       "3             7        member  32139\n",
       "4             5        member  30087\n",
       "5             6        member  28148\n",
       "6             1        member  25813\n",
       "7             7        casual  19666\n",
       "8             1        casual  14643\n",
       "9             2        casual  10188\n",
       "10            3        casual   9734\n",
       "11            6        casual   9576\n",
       "12            4        casual   8868\n",
       "13            5        casual   8569"
      ]
     },
     "execution_count": 14,
     "metadata": {},
     "output_type": "execute_result"
    }
   ],
   "source": [
    "weekday_count_df = df1_weekday_count.reset_index()\n",
    "weekday_count_df.columns = ['day_of_week', 'member_casual' , 'count']\n",
    "weekday_count_df.head(15)"
   ]
  },
  {
   "cell_type": "code",
   "execution_count": 16,
   "id": "d17b35ae-8ad8-4df2-820b-f948b79bde3a",
   "metadata": {},
   "outputs": [
    {
     "data": {
      "text/html": [
       "<div>\n",
       "<style scoped>\n",
       "    .dataframe tbody tr th:only-of-type {\n",
       "        vertical-align: middle;\n",
       "    }\n",
       "\n",
       "    .dataframe tbody tr th {\n",
       "        vertical-align: top;\n",
       "    }\n",
       "\n",
       "    .dataframe thead th {\n",
       "        text-align: right;\n",
       "    }\n",
       "</style>\n",
       "<table border=\"1\" class=\"dataframe\">\n",
       "  <thead>\n",
       "    <tr style=\"text-align: right;\">\n",
       "      <th>member_casual</th>\n",
       "      <th>casual</th>\n",
       "      <th>member</th>\n",
       "    </tr>\n",
       "    <tr>\n",
       "      <th>day_of_week</th>\n",
       "      <th></th>\n",
       "      <th></th>\n",
       "    </tr>\n",
       "  </thead>\n",
       "  <tbody>\n",
       "    <tr>\n",
       "      <th>1</th>\n",
       "      <td>14643.0</td>\n",
       "      <td>25813.0</td>\n",
       "    </tr>\n",
       "    <tr>\n",
       "      <th>2</th>\n",
       "      <td>10188.0</td>\n",
       "      <td>32394.0</td>\n",
       "    </tr>\n",
       "    <tr>\n",
       "      <th>3</th>\n",
       "      <td>9734.0</td>\n",
       "      <td>34225.0</td>\n",
       "    </tr>\n",
       "    <tr>\n",
       "      <th>4</th>\n",
       "      <td>8868.0</td>\n",
       "      <td>33212.0</td>\n",
       "    </tr>\n",
       "    <tr>\n",
       "      <th>5</th>\n",
       "      <td>8569.0</td>\n",
       "      <td>30087.0</td>\n",
       "    </tr>\n",
       "    <tr>\n",
       "      <th>6</th>\n",
       "      <td>9576.0</td>\n",
       "      <td>28148.0</td>\n",
       "    </tr>\n",
       "    <tr>\n",
       "      <th>7</th>\n",
       "      <td>19666.0</td>\n",
       "      <td>32139.0</td>\n",
       "    </tr>\n",
       "  </tbody>\n",
       "</table>\n",
       "</div>"
      ],
      "text/plain": [
       "member_casual   casual   member\n",
       "day_of_week                    \n",
       "1              14643.0  25813.0\n",
       "2              10188.0  32394.0\n",
       "3               9734.0  34225.0\n",
       "4               8868.0  33212.0\n",
       "5               8569.0  30087.0\n",
       "6               9576.0  28148.0\n",
       "7              19666.0  32139.0"
      ]
     },
     "execution_count": 16,
     "metadata": {},
     "output_type": "execute_result"
    }
   ],
   "source": [
    "pivot_df1 = weekday_count_df.pivot_table(index='day_of_week' , columns='member_casual' , values='count')\n",
    "pivot_df1"
   ]
  },
  {
   "cell_type": "code",
   "execution_count": 18,
   "id": "31601a34-9dad-4d44-8501-2483cf15b1cf",
   "metadata": {},
   "outputs": [],
   "source": [
    "weekday=['Sunday' , 'Monday' , 'Tuesday' , 'Wednesday' , 'Thursday' , 'Friday' , 'Saturday'] \n",
    "pivot_df1['weekday'] = weekday"
   ]
  },
  {
   "cell_type": "code",
   "execution_count": 20,
   "id": "f91c5a41-98c9-456b-a567-2b0dbcabc2af",
   "metadata": {},
   "outputs": [
    {
     "data": {
      "text/plain": [
       "<Axes: xlabel='weekday'>"
      ]
     },
     "execution_count": 20,
     "metadata": {},
     "output_type": "execute_result"
    },
    {
     "data": {
      "image/png": "[encoded data removed]",
      "text/plain": [
       "<Figure size 640x480 with 1 Axes>"
      ]
     },
     "metadata": {},
     "output_type": "display_data"
    }
   ],
   "source": [
    "pivot_df1.plot(kind='bar' , x='weekday')"
   ]
  },
  {
   "cell_type": "code",
   "execution_count": 22,
   "id": "b69a88fb-fd5a-4ffe-bb2d-2ec452cc195d",
   "metadata": {},
   "outputs": [
    {
     "data": {
      "image/png": "[encoded data removed]",
      "text/plain": [
       "<Figure size 640x480 with 2 Axes>"
      ]
     },
     "metadata": {},
     "output_type": "display_data"
    }
   ],
   "source": [
    "df1.hist(column='ride_length', bins=[30,120,300,600,1800,3600,10800,36000], by='member_casual')\n",
    "plt.show()"
   ]
  },
  {
   "cell_type": "code",
   "execution_count": 24,
   "id": "2d32dc17-048c-44a5-945d-8fcd5d0d2c94",
   "metadata": {},
   "outputs": [],
   "source": [
    "df1_weekday_bike_membership = df1[['day_of_week','member_casual' , 'rideable_type']].value_counts()"
   ]
  },
  {
   "cell_type": "code",
   "execution_count": 26,
   "id": "b8988755-8c94-461f-ac19-ba826248fb02",
   "metadata": {},
   "outputs": [],
   "source": [
    "weekday_bike_membership = df1_weekday_bike_membership.reset_index()"
   ]
  },
  {
   "cell_type": "code",
   "execution_count": 28,
   "id": "36412be1-46b1-49ac-9478-e903c87de79e",
   "metadata": {},
   "outputs": [],
   "source": [
    "weekday_bike_membership.columns = ['day_of_week' , 'member_casual' , 'rideable_type' , 'count']"
   ]
  },
  {
   "cell_type": "code",
   "execution_count": 30,
   "id": "64b63288-d6d6-4279-a27f-58b312509d58",
   "metadata": {},
   "outputs": [],
   "source": [
    "pivot_wbm = weekday_bike_membership.pivot_table(index = 'day_of_week' , columns = ['member_casual' , 'rideable_type'] , values = 'count')"
   ]
  },
  {
   "cell_type": "code",
   "execution_count": 32,
   "id": "1ff62b73-1b55-493b-8193-a3ca8e73b2b1",
   "metadata": {},
   "outputs": [],
   "source": [
    "weekday=['Sunday' , 'Monday' , 'Tuesday' , 'Wednesday' , 'Thursday' , 'Friday' , 'Saturday'] \n",
    "pivot_wbm['weekday'] = weekday"
   ]
  },
  {
   "cell_type": "code",
   "execution_count": 34,
   "id": "dadb5d65-1120-43c9-9aa1-ff6354ff212a",
   "metadata": {},
   "outputs": [
    {
     "data": {
      "text/plain": [
       "<Axes: xlabel='weekday'>"
      ]
     },
     "execution_count": 34,
     "metadata": {},
     "output_type": "execute_result"
    },
    {
     "data": {
      "image/png": "[encoded data removed]",
      "text/plain": [
       "<Figure size 640x480 with 1 Axes>"
      ]
     },
     "metadata": {},
     "output_type": "display_data"
    }
   ],
   "source": [
    "pivot_wbm.plot(kind = 'bar' , x='weekday')"
   ]
  },
  {
   "cell_type": "code",
   "execution_count": 36,
   "id": "c35bf436-db9a-492b-8a73-07da486bb3bb",
   "metadata": {},
   "outputs": [],
   "source": [
    "import folium"
   ]
  },
  {
   "cell_type": "code",
   "execution_count": 38,
   "id": "3e990f48-ded3-49d9-9ae5-88def9754613",
   "metadata": {},
   "outputs": [],
   "source": [
    "from folium.plugins import HeatMap"
   ]
  },
  {
   "cell_type": "code",
   "execution_count": 40,
   "id": "1f763a9e-4e9d-4094-b3c5-c496b754f730",
   "metadata": {},
   "outputs": [],
   "source": [
    "m = folium.Map(location=[42.50 , -82.50] , zoom_start = 5)\n"
   ]
  },
  {
   "cell_type": "code",
   "execution_count": 42,
   "id": "0d6d8609-a0d3-440a-b5cf-895d15c64001",
   "metadata": {},
   "outputs": [],
   "source": [
    "member_geo_data = df1[df1['member_casual']=='member']\n",
    "member_geo_data = member_geo_data[['start_lat' , 'start_lng']]"
   ]
  },
  {
   "cell_type": "code",
   "execution_count": 44,
   "id": "f7fc276d-90a3-4578-973b-4f2eb3e56925",
   "metadata": {},
   "outputs": [
    {
     "data": {
      "text/html": [
       "<div>\n",
       "<style scoped>\n",
       "    .dataframe tbody tr th:only-of-type {\n",
       "        vertical-align: middle;\n",
       "    }\n",
       "\n",
       "    .dataframe tbody tr th {\n",
       "        vertical-align: top;\n",
       "    }\n",
       "\n",
       "    .dataframe thead th {\n",
       "        text-align: right;\n",
       "    }\n",
       "</style>\n",
       "<table border=\"1\" class=\"dataframe\">\n",
       "  <thead>\n",
       "    <tr style=\"text-align: right;\">\n",
       "      <th></th>\n",
       "      <th>start_lat</th>\n",
       "      <th>start_lng</th>\n",
       "    </tr>\n",
       "  </thead>\n",
       "  <tbody>\n",
       "    <tr>\n",
       "      <th>2</th>\n",
       "      <td>41.920000</td>\n",
       "      <td>-87.650000</td>\n",
       "    </tr>\n",
       "    <tr>\n",
       "      <th>3</th>\n",
       "      <td>41.970000</td>\n",
       "      <td>-87.690000</td>\n",
       "    </tr>\n",
       "    <tr>\n",
       "      <th>6</th>\n",
       "      <td>41.890000</td>\n",
       "      <td>-87.640000</td>\n",
       "    </tr>\n",
       "    <tr>\n",
       "      <th>8</th>\n",
       "      <td>41.880000</td>\n",
       "      <td>-87.650000</td>\n",
       "    </tr>\n",
       "    <tr>\n",
       "      <th>10</th>\n",
       "      <td>41.870816</td>\n",
       "      <td>-87.631246</td>\n",
       "    </tr>\n",
       "  </tbody>\n",
       "</table>\n",
       "</div>"
      ],
      "text/plain": [
       "    start_lat  start_lng\n",
       "2   41.920000 -87.650000\n",
       "3   41.970000 -87.690000\n",
       "6   41.890000 -87.640000\n",
       "8   41.880000 -87.650000\n",
       "10  41.870816 -87.631246"
      ]
     },
     "execution_count": 44,
     "metadata": {},
     "output_type": "execute_result"
    }
   ],
   "source": [
    "member_geo_data.head()"
   ]
  },
  {
   "cell_type": "code",
   "execution_count": 46,
   "id": "f704c039-e6d1-4a58-8e56-cb71985178d5",
   "metadata": {},
   "outputs": [
    {
     "data": {
      "text/plain": [
       "<folium.plugins.heat_map.HeatMap at 0x16d6c3e00>"
      ]
     },
     "execution_count": 46,
     "metadata": {},
     "output_type": "execute_result"
    }
   ],
   "source": [
    "HeatMap(member_geo_data).add_to(m)"
   ]
  },
  {
   "cell_type": "code",
   "execution_count": 50,
   "id": "d08f8949-e7f5-4f4d-8c55-32b1d5879111",
   "metadata": {},
   "outputs": [],
   "source": [
    "m.save('heatmapmember-March.html')"
   ]
  },
  {
   "cell_type": "code",
   "execution_count": 52,
   "id": "fc4ab346-8604-41fe-8bfa-50fe5cf7e33b",
   "metadata": {},
   "outputs": [],
   "source": [
    "casual_geo_data = df1[df1['member_casual']=='casual']\n",
    "casual_geo_route = casual_geo_data[['start_lat' , 'start_lng' , 'end_lat' , 'end_lng']]\n",
    "casual_geo_data = casual_geo_data[['start_lat' , 'start_lng']]"
   ]
  },
  {
   "cell_type": "code",
   "execution_count": 54,
   "id": "197ca5dc-52d3-4fa2-9bc8-14398921f48b",
   "metadata": {},
   "outputs": [],
   "source": [
    "m1 = folium.Map(location=[42.50 , -82.50] , zoom_start = 5)"
   ]
  },
  {
   "cell_type": "code",
   "execution_count": 56,
   "id": "dec370ce-3555-44e3-851b-74263cc90ba0",
   "metadata": {},
   "outputs": [
    {
     "data": {
      "text/plain": [
       "<folium.plugins.heat_map.HeatMap at 0x16d5c3530>"
      ]
     },
     "execution_count": 56,
     "metadata": {},
     "output_type": "execute_result"
    }
   ],
   "source": [
    "HeatMap(casual_geo_data).add_to(m1)"
   ]
  },
  {
   "cell_type": "code",
   "execution_count": 58,
   "id": "040a015d-ef49-40a7-bb14-deecd1333633",
   "metadata": {},
   "outputs": [],
   "source": [
    "m1.save('heatmapcasual-March.html')"
   ]
  },
  {
   "cell_type": "code",
   "execution_count": 60,
   "id": "6bf80e78-8642-4077-acfc-96932cde2eb7",
   "metadata": {},
   "outputs": [],
   "source": [
    "m2 = folium.Map(location=[42.50 , -82.50] , zoom_start = 5)"
   ]
  },
  {
   "cell_type": "code",
   "execution_count": 62,
   "id": "159cc076-f46a-421b-bf91-7c6fb56e164a",
   "metadata": {},
   "outputs": [
    {
     "data": {
      "text/html": [
       "<div>\n",
       "<style scoped>\n",
       "    .dataframe tbody tr th:only-of-type {\n",
       "        vertical-align: middle;\n",
       "    }\n",
       "\n",
       "    .dataframe tbody tr th {\n",
       "        vertical-align: top;\n",
       "    }\n",
       "\n",
       "    .dataframe thead th {\n",
       "        text-align: right;\n",
       "    }\n",
       "</style>\n",
       "<table border=\"1\" class=\"dataframe\">\n",
       "  <thead>\n",
       "    <tr style=\"text-align: right;\">\n",
       "      <th></th>\n",
       "      <th>start_lat</th>\n",
       "      <th>start_lng</th>\n",
       "      <th>end_lat</th>\n",
       "      <th>end_lng</th>\n",
       "    </tr>\n",
       "  </thead>\n",
       "  <tbody>\n",
       "    <tr>\n",
       "      <th>0</th>\n",
       "      <td>41.97</td>\n",
       "      <td>-87.69</td>\n",
       "      <td>41.97</td>\n",
       "      <td>-87.69</td>\n",
       "    </tr>\n",
       "    <tr>\n",
       "      <th>1</th>\n",
       "      <td>41.89</td>\n",
       "      <td>-87.66</td>\n",
       "      <td>41.89</td>\n",
       "      <td>-87.66</td>\n",
       "    </tr>\n",
       "    <tr>\n",
       "      <th>4</th>\n",
       "      <td>41.71</td>\n",
       "      <td>-87.61</td>\n",
       "      <td>41.71</td>\n",
       "      <td>-87.61</td>\n",
       "    </tr>\n",
       "    <tr>\n",
       "      <th>5</th>\n",
       "      <td>41.97</td>\n",
       "      <td>-87.69</td>\n",
       "      <td>41.97</td>\n",
       "      <td>-87.69</td>\n",
       "    </tr>\n",
       "    <tr>\n",
       "      <th>7</th>\n",
       "      <td>41.89</td>\n",
       "      <td>-87.62</td>\n",
       "      <td>41.89</td>\n",
       "      <td>-87.62</td>\n",
       "    </tr>\n",
       "  </tbody>\n",
       "</table>\n",
       "</div>"
      ],
      "text/plain": [
       "   start_lat  start_lng  end_lat  end_lng\n",
       "0      41.97     -87.69    41.97   -87.69\n",
       "1      41.89     -87.66    41.89   -87.66\n",
       "4      41.71     -87.61    41.71   -87.61\n",
       "5      41.97     -87.69    41.97   -87.69\n",
       "7      41.89     -87.62    41.89   -87.62"
      ]
     },
     "execution_count": 62,
     "metadata": {},
     "output_type": "execute_result"
    }
   ],
   "source": [
    "casual_geo_route.head()"
   ]
  },
  {
   "cell_type": "code",
   "execution_count": 72,
   "id": "928424e1-8d63-4776-aeb6-c5887fa578f8",
   "metadata": {},
   "outputs": [],
   "source": [
    "casual_geo_route = casual_geo_route.dropna()\n",
    "for index in casual_geo_route.index:\n",
    "    route = [[casual_geo_route.loc[index, 'start_lat'] ,casual_geo_route.loc[index,'start_lng']] , [casual_geo_route.loc[index,'end_lat'], casual_geo_route.loc[index,'end_lng']]] \n",
    "    folium.PolyLine(locations = route , color='blue' , weight=0.5 , opacity = 0.4).add_to(m2)"
   ]
  },
  {
   "cell_type": "code",
   "execution_count": 74,
   "id": "d6fff884-bf8b-4c22-894a-f460798671c3",
   "metadata": {},
   "outputs": [],
   "source": [
    "m2.save('routesCasual-March.html')"
   ]
  },
  {
   "cell_type": "code",
   "execution_count": null,
   "id": "eca2e1b8-efd4-4121-8668-861022184410",
   "metadata": {},
   "outputs": [],
   "source": []
  }
 ],
 "metadata": {
  "kernelspec": {
   "display_name": "Python [conda env:base] *",
   "language": "python",
   "name": "conda-base-py"
  },
  "language_info": {
   "codemirror_mode": {
    "name": "ipython",
    "version": 3
   },
   "file_extension": ".py",
   "mimetype": "text/x-python",
   "name": "python",
   "nbconvert_exporter": "python",
   "pygments_lexer": "ipython3",
   "version": "3.12.2"
  }
 },
 "nbformat": 4,
 "nbformat_minor": 5
}
